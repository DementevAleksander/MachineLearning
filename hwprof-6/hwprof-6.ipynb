{
 "cells": [
  {
   "cell_type": "markdown",
   "id": "f2b039b3",
   "metadata": {},
   "source": [
    "# Классификация облаков"
   ]
  },
  {
   "cell_type": "markdown",
   "id": "1b765aae",
   "metadata": {},
   "source": [
    "<b>Цель.</b> Неглубокие облака играют огромную роль в определении климата Земли, но их трудно распознать и классифицировать в климатических моделях. Классифицируя различные типы организации облаков, исследователи из Института Макса Планка надеются улучшить наше физическое понимание этих облаков, что, в свою очередь, поможет нам построить более совершенные климатические модели.\n",
    "</br>Существует множество способов организации облаков, но границы между различными формами организации нечеткие. Это затрудняет построение традиционных алгоритмов, основанных на правилах, для разделения облачных характеристик. Однако человеческий глаз отлично справляется с обнаружением особенностей - например, облаков, похожих на цветы.\n",
    "В этом задании вам предстоит построить модель для классификации моделей организации облаков на спутниковых снимках. В случае успеха вы поможете ученым лучше понять, как облака будут определять наш будущий климат."
   ]
  },
  {
   "cell_type": "markdown",
   "id": "e24f24e5",
   "metadata": {},
   "source": [
    "<b>Описание/Пошаговая инструкция выполнения домашнего задания:</b>\n",
    "* сформировать нейронную сверточную сеть;\n",
    "* обучить сеть на представленных данных;\n",
    "* оценить качество модели. В качестве критерия используйте Dice coefficient.\n",
    "* датасет для обучения модели: https://www.kaggle.com/competitions/understanding_cloud_organization/data"
   ]
  },
  {
   "cell_type": "markdown",
   "id": "d705fafe",
   "metadata": {},
   "source": [
    "# Выполнение"
   ]
  },
  {
   "cell_type": "markdown",
   "id": "a8f23cf1",
   "metadata": {},
   "source": [
    "Устанавливаем устройство (CPU или CUDA)."
   ]
  },
  {
   "cell_type": "code",
   "execution_count": 1,
   "id": "3a683641",
   "metadata": {},
   "outputs": [
    {
     "name": "stdout",
     "output_type": "stream",
     "text": [
      "True\n",
      "1\n",
      "2.3.0+cu118\n"
     ]
    }
   ],
   "source": [
    "import torch\n",
    "print (torch.cuda.is_available()) # Проверяем, доступно ли CUDA\n",
    "print (torch.cuda.device_count()) # Выводим количество доступных GPU\n",
    "print (torch.__version__) # Выводим версию PyTorch"
   ]
  },
  {
   "cell_type": "code",
   "execution_count": 2,
   "id": "ec7170e9",
   "metadata": {},
   "outputs": [
    {
     "name": "stdout",
     "output_type": "stream",
     "text": [
      "Using device: cuda\n"
     ]
    }
   ],
   "source": [
    "device = torch.device(\"cuda\" if torch.cuda.is_available() else \"cpu\")\n",
    "print(f\"Using device: {device}\")"
   ]
  },
  {
   "cell_type": "markdown",
   "id": "5ea86953-5c2a-4a85-bbfa-1179ef4f0bff",
   "metadata": {},
   "source": [
    "Импортируем основые библотеки."
   ]
  },
  {
   "cell_type": "code",
   "execution_count": 3,
   "id": "512cd25f",
   "metadata": {},
   "outputs": [],
   "source": [
    "import numpy as np\n",
    "import pandas as pd\n",
    "import os\n",
    "from skimage.io import imread\n",
    "from skimage.transform import resize\n",
    "import matplotlib.pyplot as plt\n",
    "\n",
    "import torch\n",
    "import torch.nn as nn\n",
    "import torch.optim as optim\n",
    "import torch.nn.functional as F\n",
    "from torch.utils.data import DataLoader, Dataset\n",
    "from torchvision import transforms, models\n",
    "from sklearn.model_selection import train_test_split"
   ]
  },
  {
   "cell_type": "markdown",
   "id": "5bd0b73b-e509-4c4b-9461-dc70627c36ff",
   "metadata": {},
   "source": [
    "Посмотрим на датасет."
   ]
  },
  {
   "cell_type": "code",
   "execution_count": 4,
   "id": "ea788ac3",
   "metadata": {},
   "outputs": [
    {
     "data": {
      "text/html": [
       "<div>\n",
       "<style scoped>\n",
       "    .dataframe tbody tr th:only-of-type {\n",
       "        vertical-align: middle;\n",
       "    }\n",
       "\n",
       "    .dataframe tbody tr th {\n",
       "        vertical-align: top;\n",
       "    }\n",
       "\n",
       "    .dataframe thead th {\n",
       "        text-align: right;\n",
       "    }\n",
       "</style>\n",
       "<table border=\"1\" class=\"dataframe\">\n",
       "  <thead>\n",
       "    <tr style=\"text-align: right;\">\n",
       "      <th>Label</th>\n",
       "      <th>Image</th>\n",
       "      <th>Fish</th>\n",
       "      <th>Flower</th>\n",
       "      <th>Gravel</th>\n",
       "      <th>Sugar</th>\n",
       "    </tr>\n",
       "  </thead>\n",
       "  <tbody>\n",
       "    <tr>\n",
       "      <th>0</th>\n",
       "      <td>0011165.jpg</td>\n",
       "      <td>264918 937 266318 937 267718 937 269118 937 27...</td>\n",
       "      <td>1355565 1002 1356965 1002 1358365 1002 1359765...</td>\n",
       "      <td>NaN</td>\n",
       "      <td>NaN</td>\n",
       "    </tr>\n",
       "    <tr>\n",
       "      <th>1</th>\n",
       "      <td>002be4f.jpg</td>\n",
       "      <td>233813 878 235213 878 236613 878 238010 881 23...</td>\n",
       "      <td>1339279 519 1340679 519 1342079 519 1343479 51...</td>\n",
       "      <td>NaN</td>\n",
       "      <td>67495 350 68895 350 70295 350 71695 350 73095 ...</td>\n",
       "    </tr>\n",
       "    <tr>\n",
       "      <th>2</th>\n",
       "      <td>0031ae9.jpg</td>\n",
       "      <td>3510 690 4910 690 6310 690 7710 690 9110 690 1...</td>\n",
       "      <td>2047 703 3447 703 4847 703 6247 703 7647 703 9...</td>\n",
       "      <td>NaN</td>\n",
       "      <td>658170 388 659570 388 660970 388 662370 388 66...</td>\n",
       "    </tr>\n",
       "    <tr>\n",
       "      <th>3</th>\n",
       "      <td>0035239.jpg</td>\n",
       "      <td>NaN</td>\n",
       "      <td>100812 462 102212 462 103612 462 105012 462 10...</td>\n",
       "      <td>65400 380 66800 380 68200 380 69600 380 71000 ...</td>\n",
       "      <td>NaN</td>\n",
       "    </tr>\n",
       "    <tr>\n",
       "      <th>4</th>\n",
       "      <td>003994e.jpg</td>\n",
       "      <td>2367966 18 2367985 2 2367993 8 2368002 62 2369...</td>\n",
       "      <td>NaN</td>\n",
       "      <td>353317 416 354717 416 356117 416 357517 416 35...</td>\n",
       "      <td>28011 489 29411 489 30811 489 32211 489 33611 ...</td>\n",
       "    </tr>\n",
       "  </tbody>\n",
       "</table>\n",
       "</div>"
      ],
      "text/plain": [
       "Label        Image                                               Fish  \\\n",
       "0      0011165.jpg  264918 937 266318 937 267718 937 269118 937 27...   \n",
       "1      002be4f.jpg  233813 878 235213 878 236613 878 238010 881 23...   \n",
       "2      0031ae9.jpg  3510 690 4910 690 6310 690 7710 690 9110 690 1...   \n",
       "3      0035239.jpg                                                NaN   \n",
       "4      003994e.jpg  2367966 18 2367985 2 2367993 8 2368002 62 2369...   \n",
       "\n",
       "Label                                             Flower  \\\n",
       "0      1355565 1002 1356965 1002 1358365 1002 1359765...   \n",
       "1      1339279 519 1340679 519 1342079 519 1343479 51...   \n",
       "2      2047 703 3447 703 4847 703 6247 703 7647 703 9...   \n",
       "3      100812 462 102212 462 103612 462 105012 462 10...   \n",
       "4                                                    NaN   \n",
       "\n",
       "Label                                             Gravel  \\\n",
       "0                                                    NaN   \n",
       "1                                                    NaN   \n",
       "2                                                    NaN   \n",
       "3      65400 380 66800 380 68200 380 69600 380 71000 ...   \n",
       "4      353317 416 354717 416 356117 416 357517 416 35...   \n",
       "\n",
       "Label                                              Sugar  \n",
       "0                                                    NaN  \n",
       "1      67495 350 68895 350 70295 350 71695 350 73095 ...  \n",
       "2      658170 388 659570 388 660970 388 662370 388 66...  \n",
       "3                                                    NaN  \n",
       "4      28011 489 29411 489 30811 489 32211 489 33611 ...  "
      ]
     },
     "execution_count": 4,
     "metadata": {},
     "output_type": "execute_result"
    }
   ],
   "source": [
    "train_csv_path = 'train.csv'\n",
    "train_images_path = 'train_images/'\n",
    "\n",
    "df = pd.read_csv(train_csv_path)\n",
    "df['Image'] = df['Image_Label'].apply(lambda x: x.split('_')[0])\n",
    "df['Label'] = df['Image_Label'].apply(lambda x: x.split('_')[1])\n",
    "\n",
    "# Преобразуем DataFrame так, чтобы каждая строка соответствовала одному изображению\n",
    "df = df.pivot(index='Image', columns='Label', values='EncodedPixels')\n",
    "df = df.reset_index()\n",
    "\n",
    "# Посмотрим на данные\n",
    "df.head()"
   ]
  },
  {
   "cell_type": "markdown",
   "id": "a8b8bc48-864d-4147-ba14-71cb54deadce",
   "metadata": {},
   "source": [
    "Реализуем функцию rle_decode, которая декодирует строку RLE-кодирования (Run-Length Encoding) в двумерный массив маски изображения."
   ]
  },
  {
   "cell_type": "code",
   "execution_count": 5,
   "id": "293645b6",
   "metadata": {},
   "outputs": [],
   "source": [
    "def rle_decode(mask_rle, shape):\n",
    "    '''\n",
    "    mask_rle: строка RLE-кодирования\n",
    "    shape: (ширина, высота) маски\n",
    "    Возвращает: декодированная маска в виде numpy array\n",
    "    '''\n",
    "    s = mask_rle.split()\n",
    "    starts, lengths = [np.asarray(x, dtype=int) for x in (s[0::2], s[1::2])]\n",
    "    starts -= 1\n",
    "    ends = starts + lengths\n",
    "    img = np.zeros(shape[0]*shape[1], dtype=np.uint8)\n",
    "    for lo, hi in zip(starts, ends):\n",
    "        img[lo:hi] = 1\n",
    "    return img.reshape(shape).T"
   ]
  },
  {
   "cell_type": "markdown",
   "id": "d476bb77-9dd5-4588-8b92-1a1b63fa330e",
   "metadata": {},
   "source": [
    "Определим класс CloudDataset, который наследуется от класса Dataset из библиотеки torch.utils.data. Класс предназначен для работы с набором данных изображений и их соответствующими масками, закодированными в формате RLE (Run-Length Encoding).\n",
    "Инициализация класса \"CloudDataset\":\n",
    "* init - метод инициализации, который вызывается при создании экземпляра класса.\n",
    "* df - DataFrame, содержащий информацию об изображениях и соответствующих масках.\n",
    "* img_dir - директория, в которой хранятся изображения.\n",
    "* transform - необязательный параметр, определяющий трансформации для изображений и масок (например, аугментации данных).\n",
    "\n",
    "Метод len:\n",
    "* Возвращает количество изображений в наборе данных, что определяется длиной DataFrame self.df.\n",
    "\n",
    "Метод getitem:\n",
    "* getitem - метод, который возвращает изображение и соответствующие маски по индексу idx.\n",
    "* img_name - имя изображения, извлекаемое из DataFrame.\n",
    "* img_path - полный путь к изображению.\n",
    "* image - изображение, загружаемое с диска и изменяемое до размера 256x256 пикселей.\n",
    "\n",
    "Создание масок:\n",
    "</br>1. Создаём пустой массив masks размером 256x256x4 для хранения масок для четырех классов объектов.\n",
    "</br>2. Для каждого класса (Fish, Flower, Gravel, Sugar):\n",
    "* Извлекается строка RLE-кодирования маски из DataFrame.\n",
    "* Проверяется, является ли значение NaN, и заменяется на пустую строку, если это так.\n",
    "* Если строка RLE-кодирования не пустая, она декодируется в маску с оригинальным размером 1400x2100 пикселей и затем изменяется до 256x256.\n",
    "\n",
    "Применение трансформаций и преобразование в тензоры:\n",
    "* Если задан параметр transform, применяются трансформации к изображению и маскам.\n",
    "* Преобразуется изображение в тензор с помощью transforms.ToTensor().\n",
    "* Преобразуется маски в тензор и изменяет их оси, чтобы привести к порядку [класс, высота, ширина].\n",
    "\n",
    "Возвращение изображения и масок:\n",
    "* Возвращается изображение и соответствующие маски в виде тензоров."
   ]
  },
  {
   "cell_type": "code",
   "execution_count": 6,
   "id": "f51dd36e",
   "metadata": {},
   "outputs": [],
   "source": [
    "class CloudDataset(Dataset):\n",
    "    def __init__(self, df, img_dir, transform=None):\n",
    "        self.df = df\n",
    "        self.img_dir = img_dir\n",
    "        self.transform = transform\n",
    "\n",
    "    def __len__(self):\n",
    "        return len(self.df)\n",
    "\n",
    "    def __getitem__(self, idx):\n",
    "        img_name = self.df.iloc[idx, 0]\n",
    "        img_path = os.path.join(self.img_dir, img_name)\n",
    "        image = imread(img_path)\n",
    "        image = resize(image, (256, 256), mode='constant', preserve_range=True).astype(np.float32)  # Преобразование к float32\n",
    "        \n",
    "        masks = np.zeros((256, 256, 4), dtype=np.float32)\n",
    "        for i, label in enumerate(['Fish', 'Flower', 'Gravel', 'Sugar']):\n",
    "            mask_rle = self.df.iloc[idx][label]\n",
    "            if pd.isna(mask_rle):  # Проверяем, является ли значение NaN\n",
    "                mask_rle = ''  # Заменяем NaN на пустую строку\n",
    "            \n",
    "            if mask_rle:\n",
    "                mask = rle_decode(mask_rle, (1400, 2100))\n",
    "                mask = resize(mask, (256, 256), mode='constant', preserve_range=True).astype(np.float32)  # Преобразование к float32\n",
    "                masks[..., i] = mask\n",
    "        \n",
    "        if self.transform:\n",
    "            augmented = self.transform(image=image, mask=masks)\n",
    "            image = augmented['image']\n",
    "            masks = augmented['mask']\n",
    "        \n",
    "        image = transforms.ToTensor()(image)\n",
    "        masks = torch.from_numpy(masks).permute(2, 0, 1)\n",
    "        \n",
    "        return image, masks\n",
    "\n",
    "# Создаем датасет и разделяем на обучающую и тестовую выборки\n",
    "dataset = CloudDataset(df, train_images_path, transform=None)\n",
    "train_indices, val_indices = train_test_split(range(len(dataset)), test_size=0.2, random_state=42)\n",
    "\n",
    "train_dataset = torch.utils.data.Subset(dataset, train_indices)\n",
    "val_dataset = torch.utils.data.Subset(dataset, val_indices)\n",
    "\n",
    "train_loader = DataLoader(train_dataset, batch_size=8, shuffle=True)\n",
    "val_loader = DataLoader(val_dataset, batch_size=8, shuffle=False)"
   ]
  },
  {
   "cell_type": "markdown",
   "id": "53bd0bc0-2f24-425f-ac3c-0aea4ae6a2d0",
   "metadata": {},
   "source": [
    "Создадим объект набора данных (CloudDataset) и разделим его на обучающую и валидационную выборки, после чего создадим загрузчики данных (DataLoader) для каждой из выборок."
   ]
  },
  {
   "cell_type": "code",
   "execution_count": 7,
   "id": "23c7b05a-2887-4fed-868f-16fae5f92e99",
   "metadata": {},
   "outputs": [],
   "source": [
    "# Создаём датасет и разделяем на обучающую и тестовую выборки\n",
    "dataset = CloudDataset(df, train_images_path, transform=None)\n",
    "train_indices, val_indices = train_test_split(range(len(dataset)), test_size=0.2, random_state=42)\n",
    "\n",
    "train_dataset = torch.utils.data.Subset(dataset, train_indices)\n",
    "val_dataset = torch.utils.data.Subset(dataset, val_indices)\n",
    "\n",
    "train_loader = DataLoader(train_dataset, batch_size=8, shuffle=True)\n",
    "val_loader = DataLoader(val_dataset, batch_size=8, shuffle=False)"
   ]
  },
  {
   "cell_type": "markdown",
   "id": "0d6c99c0-4a89-40a0-824d-cea97a9d38ce",
   "metadata": {},
   "source": [
    "Выполним проверку загрузки данных из train_loader, чтобы убедиться, что данные правильно загружаются и имеют правильные формы"
   ]
  },
  {
   "cell_type": "code",
   "execution_count": 8,
   "id": "64e1e4eb-9d3d-4d84-93db-731170721f93",
   "metadata": {},
   "outputs": [
    {
     "name": "stdout",
     "output_type": "stream",
     "text": [
      "Batch 0, Image shape: torch.Size([8, 3, 256, 256]), Mask shape: torch.Size([8, 4, 256, 256])\n",
      "Batch 1, Image shape: torch.Size([8, 3, 256, 256]), Mask shape: torch.Size([8, 4, 256, 256])\n",
      "Data loading test completed in 6.63 seconds\n"
     ]
    }
   ],
   "source": [
    "import time\n",
    "\n",
    "# Проверка загрузки данных\n",
    "start_time = time.time()\n",
    "\n",
    "for idx, (img, mask) in enumerate(train_loader):\n",
    "    print(f\"Batch {idx}, Image shape: {img.shape}, Mask shape: {mask.shape}\")\n",
    "    if idx == 1:  # Остановимся после первой проверки\n",
    "        break\n",
    "\n",
    "end_time = time.time()\n",
    "print(f\"Data loading test completed in {end_time - start_time:.2f} seconds\")"
   ]
  },
  {
   "cell_type": "markdown",
   "id": "7a8f2a96-1c04-434d-b49b-380ef7cd1c32",
   "metadata": {},
   "source": [
    "Определим архитектуру нейронной сети UNet для сегментации изображений. UNet состоит из симметричного энкодера и декодера, что позволяет модели хорошо захватывать и использовать как глобальные, так и локальные признаки изображения.\n",
    "\n",
    "Определение класса UNet:\n",
    "* class UNet(nn.Module) - определение класса UNet, который наследуется от nn.Module.\n",
    "* self.encoder - используется ResNet34 в качестве энкодера для извлечения признаков из изображений.\n",
    "* self.pool - операция макс-пулинга для уменьшения размерности признаков.\n",
    "\n",
    "Определение блоков свёрток (конволюций) для энкодера:\n",
    "* self.conv1 - первый блок свёрток для обработки входного изображения.\n",
    "* nn.Conv2d - свертка с ядром 3x3.\n",
    "* nn.ReLU - активационная функция ReLU.\n",
    "* nn.Dropout - регуляризация для предотвращения переобучения.\n",
    "\n",
    "Аналогично для других блоков энкодера.:\n",
    "* self.conv2, self.conv3, self.conv4 - аналогичные блоки, но с увеличивающимся количеством каналов.\n",
    "\n",
    "Определение транспонированных свёрток для декодера:\n",
    "* self.upconv4, self.upconv3, self.upconv2 - транспонированные свёртки для увеличения размерности признаков.\n",
    "\n",
    "Определение блоков свёрток для декодера:\n",
    "* self.dec4, self.dec3, self.dec2 - блоки свёрток для обработки признаков после объединения (конкатенации) с признаками из энкодера.\n",
    "\n",
    "Определение финального слоя:\n",
    "* self.final - последний свёрточный слой, который уменьшает количество каналов до 4 (по одному для каждой маски сегментации).\n",
    "\n",
    "Определение метода forward:\n",
    "* Метод forward определяет, как данные проходят через сеть.\n",
    "* Encoder: e1, e2, e3, e4 - этапы энкодера, применяющие последовательные свёртки и пулинги к входному изображению.\n",
    "* Decoder: d4, d3, d2 - этапы декодера, которые применяют транспонированные свёртки и конкатенируют признаки с соответствующими признаками из энкодера.\n",
    "* Decoder: torch.cat((d4, e3), dim=1) - объединение (конкатенация) признаков по каналам.\n",
    "* Output: out - финальный выход сети, который представляет собой 4-классовую маску сегментации.\n",
    "\n",
    "\n",
    "\n",
    "\n",
    "\n",
    "\n",
    "\n",
    "\n",
    "\n",
    "\n",
    "\n",
    "\n",
    "\n",
    "\n"
   ]
  },
  {
   "cell_type": "code",
   "execution_count": 9,
   "id": "0d736815",
   "metadata": {},
   "outputs": [],
   "source": [
    "# Определение модели\n",
    "class UNet(nn.Module):\n",
    "    def __init__(self):\n",
    "        super(UNet, self).__init__()\n",
    "        self.encoder = models.resnet34(weights=models.ResNet34_Weights.DEFAULT)\n",
    "        self.pool = nn.MaxPool2d(2, 2)\n",
    "\n",
    "        self.conv1 = nn.Sequential(\n",
    "            nn.Conv2d(3, 64, 3, padding=1),\n",
    "            nn.ReLU(inplace=True),\n",
    "            nn.Conv2d(64, 64, 3, padding=1),\n",
    "            nn.ReLU(inplace=True),\n",
    "            nn.Dropout(0.5)\n",
    "        )\n",
    "        \n",
    "        self.conv2 = nn.Sequential(\n",
    "            nn.Conv2d(64, 128, 3, padding=1),\n",
    "            nn.ReLU(inplace=True),\n",
    "            nn.Conv2d(128, 128, 3, padding=1),\n",
    "            nn.ReLU(inplace=True),\n",
    "            nn.Dropout(0.5)\n",
    "        )\n",
    "        \n",
    "        self.conv3 = nn.Sequential(\n",
    "            nn.Conv2d(128, 256, 3, padding=1),\n",
    "            nn.ReLU(inplace=True),\n",
    "            nn.Conv2d(256, 256, 3, padding=1),\n",
    "            nn.ReLU(inplace=True),\n",
    "            nn.Dropout(0.5)\n",
    "        )\n",
    "        \n",
    "        self.conv4 = nn.Sequential(\n",
    "            nn.Conv2d(256, 512, 3, padding=1),\n",
    "            nn.ReLU(inplace=True),\n",
    "            nn.Conv2d(512, 512, 3, padding=1),\n",
    "            nn.ReLU(inplace=True),\n",
    "            nn.Dropout(0.5)\n",
    "        )\n",
    "\n",
    "        self.upconv4 = nn.ConvTranspose2d(512, 256, 2, stride=2)\n",
    "        self.upconv3 = nn.ConvTranspose2d(256, 128, 2, stride=2)\n",
    "        self.upconv2 = nn.ConvTranspose2d(128, 64, 2, stride=2)\n",
    "\n",
    "        self.dec4 = nn.Sequential(\n",
    "            nn.Conv2d(512, 256, 3, padding=1),\n",
    "            nn.ReLU(inplace=True),\n",
    "            nn.Conv2d(256, 256, 3, padding=1),\n",
    "            nn.ReLU(inplace=True),\n",
    "            nn.Dropout(0.5)\n",
    "        )\n",
    "\n",
    "        self.dec3 = nn.Sequential(\n",
    "            nn.Conv2d(256, 128, 3, padding=1),\n",
    "            nn.ReLU(inplace=True),\n",
    "            nn.Conv2d(128, 128, 3, padding=1),\n",
    "            nn.ReLU(inplace=True),\n",
    "            nn.Dropout(0.5)\n",
    "        )\n",
    "\n",
    "        self.dec2 = nn.Sequential(\n",
    "            nn.Conv2d(128, 64, 3, padding=1),\n",
    "            nn.ReLU(inplace=True),\n",
    "            nn.Conv2d(64, 64, 3, padding=1),\n",
    "            nn.ReLU(inplace=True),\n",
    "            nn.Dropout(0.5)\n",
    "        )\n",
    "\n",
    "        self.final = nn.Conv2d(64, 4, 1)\n",
    "\n",
    "    def forward(self, x):\n",
    "        # Encoder\n",
    "        e1 = self.conv1(x)\n",
    "        e2 = self.conv2(self.pool(e1))\n",
    "        e3 = self.conv3(self.pool(e2))\n",
    "        e4 = self.conv4(self.pool(e3))\n",
    "\n",
    "        # Decoder\n",
    "        d4 = self.upconv4(e4)\n",
    "        d4 = torch.cat((d4, e3), dim=1)\n",
    "        d4 = self.dec4(d4)\n",
    "\n",
    "        d3 = self.upconv3(d4)\n",
    "        d3 = torch.cat((d3, e2), dim=1)\n",
    "        d3 = self.dec3(d3)\n",
    "\n",
    "        d2 = self.upconv2(d3)\n",
    "        d2 = torch.cat((d2, e1), dim=1)\n",
    "        d2 = self.dec2(d2)\n",
    "\n",
    "        out = self.final(d2)\n",
    "\n",
    "        return out"
   ]
  },
  {
   "cell_type": "code",
   "execution_count": 10,
   "id": "61e1d7a1",
   "metadata": {},
   "outputs": [
    {
     "name": "stdout",
     "output_type": "stream",
     "text": [
      "Количество батчей в train_loader: 555\n"
     ]
    }
   ],
   "source": [
    "print(f'Количество батчей в train_loader: {len(train_loader)}')"
   ]
  },
  {
   "cell_type": "markdown",
   "id": "dc9e1c2e-e302-4f07-a036-cba120466f83",
   "metadata": {},
   "source": [
    "Реализуем процесс обучения и оценки модели UNet для задачи сегментации изображений.\n",
    "\n",
    "Определение устройства для вычислений:\n",
    "* Устанавливаем устройство для выполнения вычислений. Если доступен GPU, используется 'cuda', иначе используется CPU.\n",
    "\n",
    "Инициализация модели, функции потерь и оптимизатора:\n",
    "* Создаём экземпляр модели UNet и перемещает её на выбранное устройство.\n",
    "* criterion - функция потерь. Здесь используется BCEWithLogitsLoss, подходящая для многоклассовой сегментации.\n",
    "* optimizer - оптимизатор Adam с параметрами lr (learning rate) и weight_decay (параметр для регуляризации).\n",
    "\n",
    "Гиперпараметры и инициализация списков для хранения значений потерь:\n",
    "* num_epochs - количество эпох обучения.\n",
    "* train_losses и val_losses - списки для хранения значений потерь на обучающей и валидационной выборках для каждой эпохи.\n",
    "\n",
    "Основной цикл обучения:\n",
    "* for epoch in range(num_epochs): цикл по количеству эпох.\n",
    "* model.train(): перевод модели в режим обучения.\n",
    "* for images, masks in train_loader: итерация по батчам данных из обучающего набора.\n",
    "* images и masks.to(device): перемещение данных на устройство (CPU или GPU).\n",
    "* optimizer.zero_grad(): обнуление градиентов.\n",
    "* outputs = model(images): прямое распространение (forward pass) через модель.\n",
    "* loss = criterion(outputs, masks): вычисление функции потерь.\n",
    "* loss.backward(): обратное распространение (backward pass) для вычисления градиентов.\n",
    "* optimizer.step(): обновление параметров модели.\n",
    "* running_loss += loss.item() * images.size(0): накопление значения потерь для текущего батча.\n",
    "* epoch_loss = running_loss / len(train_loader.dataset): вычисление средней потери за эпоху.\n",
    "* train_losses.append(epoch_loss): сохранение значения потерь для обучающей выборки.\n",
    "\n",
    "Оценка модели на валидационной выборке:\n",
    "* model.eval(): перевод модели в режим оценки (отключение dropout и batch normalization).\n",
    "* with torch.no_grad(): отключение вычисления градиентов для уменьшения потребления памяти и ускорения вычислений.\n",
    "* for images, masks in val_loader: итерация по батчам данных из валидационного набора.\n",
    "* outputs = model(images): прямое распространение (forward pass) через модель.\n",
    "* loss = criterion(outputs, masks): вычисление функции потерь.\n",
    "* val_loss += loss.item() * images.size(0): накопление значения потерь для текущего батча.\n",
    "* val_loss = val_loss / len(val_loader.dataset): вычисление средней потери за эпоху.\n",
    "* val_losses.append(val_loss): сохранение значения потерь для валидационной выборки.\n",
    "* print(...): вывод информации о текущей эпохе, включая потери на обучающей и валидационной выборках."
   ]
  },
  {
   "cell_type": "code",
   "execution_count": 11,
   "id": "94450990-d085-40fa-8c74-893815d2f0b2",
   "metadata": {},
   "outputs": [
    {
     "name": "stdout",
     "output_type": "stream",
     "text": [
      "Epoch 1/25, Train Loss: 0.4472, Validation Loss: 0.4155\n",
      "Epoch 2/25, Train Loss: 0.4265, Validation Loss: 0.4169\n",
      "Epoch 3/25, Train Loss: 0.4207, Validation Loss: 0.4126\n",
      "Epoch 4/25, Train Loss: 0.4175, Validation Loss: 0.4125\n",
      "Epoch 5/25, Train Loss: 0.4145, Validation Loss: 0.4137\n",
      "Epoch 6/25, Train Loss: 0.4127, Validation Loss: 0.4111\n",
      "Epoch 7/25, Train Loss: 0.4096, Validation Loss: 0.4013\n",
      "Epoch 8/25, Train Loss: 0.4021, Validation Loss: 0.3956\n",
      "Epoch 9/25, Train Loss: 0.3941, Validation Loss: 0.3858\n",
      "Epoch 10/25, Train Loss: 0.3911, Validation Loss: 0.3884\n",
      "Epoch 11/25, Train Loss: 0.3895, Validation Loss: 0.3873\n",
      "Epoch 12/25, Train Loss: 0.3869, Validation Loss: 0.3814\n",
      "Epoch 13/25, Train Loss: 0.3862, Validation Loss: 0.3851\n",
      "Epoch 14/25, Train Loss: 0.3835, Validation Loss: 0.3839\n",
      "Epoch 15/25, Train Loss: 0.3820, Validation Loss: 0.3840\n",
      "Epoch 16/25, Train Loss: 0.3817, Validation Loss: 0.3765\n",
      "Epoch 17/25, Train Loss: 0.3814, Validation Loss: 0.3788\n",
      "Epoch 18/25, Train Loss: 0.3795, Validation Loss: 0.3761\n",
      "Epoch 19/25, Train Loss: 0.3790, Validation Loss: 0.3813\n",
      "Epoch 20/25, Train Loss: 0.3778, Validation Loss: 0.3757\n",
      "Epoch 21/25, Train Loss: 0.3780, Validation Loss: 0.3817\n",
      "Epoch 22/25, Train Loss: 0.3769, Validation Loss: 0.3755\n",
      "Epoch 23/25, Train Loss: 0.3776, Validation Loss: 0.3768\n",
      "Epoch 24/25, Train Loss: 0.3757, Validation Loss: 0.3758\n",
      "Epoch 25/25, Train Loss: 0.3759, Validation Loss: 0.3762\n"
     ]
    }
   ],
   "source": [
    "# Обучение модели\n",
    "device = torch.device('cuda' if torch.cuda.is_available() else 'cpu')\n",
    "\n",
    "model = UNet().to(device)\n",
    "criterion = nn.BCEWithLogitsLoss()\n",
    "optimizer = optim.Adam(model.parameters(), lr=1e-4, weight_decay=1e-5)\n",
    "\n",
    "num_epochs = 25\n",
    "\n",
    "train_losses = []\n",
    "val_losses = []\n",
    "\n",
    "for epoch in range(num_epochs):\n",
    "    model.train()\n",
    "    running_loss = 0.0\n",
    "    for images, masks in train_loader:\n",
    "        images = images.to(device)\n",
    "        masks = masks.to(device)\n",
    "\n",
    "        optimizer.zero_grad()\n",
    "\n",
    "        outputs = model(images)\n",
    "        loss = criterion(outputs, masks)\n",
    "        loss.backward()\n",
    "        optimizer.step()\n",
    "\n",
    "        running_loss += loss.item() * images.size(0)\n",
    "\n",
    "    epoch_loss = running_loss / len(train_loader.dataset)\n",
    "    train_losses.append(epoch_loss)\n",
    "\n",
    "    # Оценка на валидационной выборке\n",
    "    model.eval()\n",
    "    val_loss = 0.0\n",
    "    with torch.no_grad():\n",
    "        for images, masks in val_loader:\n",
    "            images = images.to(device)\n",
    "            masks = masks.to(device)\n",
    "\n",
    "            outputs = model(images)\n",
    "            loss = criterion(outputs, masks)\n",
    "            val_loss += loss.item() * images.size(0)\n",
    "\n",
    "    val_loss = val_loss / len(val_loader.dataset)\n",
    "    val_losses.append(val_loss)\n",
    "    \n",
    "    print(f'Epoch {epoch+1}/{num_epochs}, Train Loss: {epoch_loss:.4f}, Validation Loss: {val_loss:.4f}')"
   ]
  },
  {
   "cell_type": "markdown",
   "id": "6b7704a9-3018-4ca4-8015-abcfaef534d5",
   "metadata": {},
   "source": [
    "Построим график потерь на обучающей и валидационной выборках в течение обучения модели."
   ]
  },
  {
   "cell_type": "code",
   "execution_count": 52,
   "id": "f91c70e8",
   "metadata": {},
   "outputs": [
    {
     "data": {
      "image/png": "[encoded data removed]",
      "text/plain": [
       "<Figure size 1000x500 with 1 Axes>"
      ]
     },
     "metadata": {},
     "output_type": "display_data"
    }
   ],
   "source": [
    "# Построение графиков потерь\n",
    "plt.figure(figsize=(10, 5))\n",
    "plt.plot(range(1, num_epochs+1), train_losses, label='Train Loss')\n",
    "plt.plot(range(1, num_epochs+1), val_losses, label='Validation Loss')\n",
    "plt.xlabel('Epochs')\n",
    "plt.ylabel('Loss')\n",
    "plt.title('Training and Validation Loss Over Epochs')\n",
    "plt.legend()\n",
    "plt.show()"
   ]
  }
 ],
 "metadata": {
  "kernelspec": {
   "display_name": "Python 3 (ipykernel)",
   "language": "python",
   "name": "python3"
  },
  "language_info": {
   "codemirror_mode": {
    "name": "ipython",
    "version": 3
   },
   "file_extension": ".py",
   "mimetype": "text/x-python",
   "name": "python",
   "nbconvert_exporter": "python",
   "pygments_lexer": "ipython3",
   "version": "3.11.9"
  }
 },
 "nbformat": 4,
 "nbformat_minor": 5
}
