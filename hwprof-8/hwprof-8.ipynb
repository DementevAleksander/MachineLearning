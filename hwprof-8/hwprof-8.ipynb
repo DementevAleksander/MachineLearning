{
 "cells": [
  {
   "cell_type": "markdown",
   "id": "f2b039b3",
   "metadata": {},
   "source": [
    "# Почувствуй мощь трансформеров в бою"
   ]
  },
  {
   "cell_type": "markdown",
   "id": "1b765aae",
   "metadata": {},
   "source": [
    "<b>Цель.</b> Научиться работать с трансформерными моделями и применять их для различных NLP задач."
   ]
  },
  {
   "cell_type": "markdown",
   "id": "0036f9be-a7b2-4afd-a431-d7d70c1e040e",
   "metadata": {},
   "source": [
    "<b>Описание/Пошаговая инструкция выполнения домашнего задания:</b>\n",
    "1. В качестве данных выберете возьмите датасет RuCola для русского языка https://github.com/RussianNLP/RuCoLA (в качестве train возьмите in_domain_train.csv, а в качестве теста in_domain_dev.csv).\n",
    "2. Разбейте in_domain_train на train и val.\n",
    "3. Зафайнтьюньте и протестируйте RuBert или RuRoBerta на данной задаче (можно взять любую предобученную модель руберт с сайта huggingface. Например, ruBert-base/large https://huggingface.co/sberbank-ai/ruBert-base / https://huggingface.co/sberbank-ai/ruBert-large или rubert-base-cased https://huggingface.co/DeepPavlov/rubert-base-cased, ruRoberta-large https://huggingface.co/sberbank-ai/ruRoberta-large, xlm-roberta-base https://huggingface.co/xlm-roberta-base).\n",
    "4. Возьмите RuGPT3 base или large и решите данное задание с помощью методов few-/zero-shot:\n",
    "а) переберите несколько вариантов затравок,\n",
    "б) протестируйте различное число few-shot примеров (0, 1, 2, 4).\n",
    "5. Обучите и протестируйте модель RuT5 на данной задаче (пример finetun’а можете найти здесь https://github.com/RussianNLP/RuCoLA/blob/main/baselines/finetune_t5.py).\n",
    "6. Сравните полученные результаты."
   ]
  },
  {
   "cell_type": "markdown",
   "id": "d705fafe",
   "metadata": {},
   "source": [
    "# Выполнение"
   ]
  },
  {
   "cell_type": "markdown",
   "id": "874f3968-2627-4b42-9ae7-083a73a2cacf",
   "metadata": {},
   "source": [
    "Импортируем основные библиотеки."
   ]
  },
  {
   "cell_type": "code",
   "execution_count": 1,
   "id": "44399a85-0a0b-4e04-9ccf-8c565dadb41b",
   "metadata": {},
   "outputs": [],
   "source": [
    "import os\n",
    "import evaluate\n",
    "import pandas as pd\n",
    "import numpy as np\n",
    "import matplotlib.pyplot as plt\n",
    "import seaborn as sns\n",
    "\n",
    "import torch\n",
    "import torch.nn as nn\n",
    "from torch.nn import CrossEntropyLoss\n",
    "from torch.utils.data import Dataset, DataLoader\n",
    "from torch.optim import AdamW\n",
    "from tqdm.auto import tqdm, trange\n",
    "\n",
    "from sklearn.model_selection import train_test_split\n",
    "from sklearn.metrics import accuracy_score, precision_recall_fscore_support\n",
    "from datasets import Dataset\n",
    "from functools import partial\n",
    "from shutil import rmtree\n",
    "from razdel import tokenize\n",
    "from transformers import (\n",
    "    DataCollatorForSeq2Seq,\n",
    "    Seq2SeqTrainingArguments,\n",
    "    Seq2SeqTrainer,\n",
    "    T5Tokenizer,\n",
    "    T5ForConditionalGeneration,\n",
    "\tAutoTokenizer,\n",
    "    AutoModelForSequenceClassification,\n",
    "    AutoModelForMaskedLM,\n",
    "    DataCollatorWithPadding,\n",
    "    Trainer,\n",
    "    TrainingArguments,\n",
    "    TrainerCallback,\n",
    ")\n",
    "\n",
    "import warnings\n",
    "from transformers import logging as transformers_logging\n",
    "from sklearn.exceptions import UndefinedMetricWarning\n",
    "\n",
    "# Отключение всех предупреждений\n",
    "warnings.filterwarnings('ignore')\n",
    "\n",
    "# Отключение предупреждений transformers\n",
    "transformers_logging.set_verbosity_error()\n",
    "\n",
    "# Отключение специфических предупреждений sklearn\n",
    "warnings.filterwarnings('ignore', category=UndefinedMetricWarning)"
   ]
  },
  {
   "cell_type": "markdown",
   "id": "155aa7b5-f8a7-4a2f-9099-a8140567f1b0",
   "metadata": {},
   "source": [
    "Посмтрим на датасет."
   ]
  },
  {
   "cell_type": "code",
   "execution_count": 2,
   "id": "4ae202d7-f15f-4e15-9ba6-0719299d10b3",
   "metadata": {},
   "outputs": [
    {
     "data": {
      "text/html": [
       "<div>\n",
       "<style scoped>\n",
       "    .dataframe tbody tr th:only-of-type {\n",
       "        vertical-align: middle;\n",
       "    }\n",
       "\n",
       "    .dataframe tbody tr th {\n",
       "        vertical-align: top;\n",
       "    }\n",
       "\n",
       "    .dataframe thead th {\n",
       "        text-align: right;\n",
       "    }\n",
       "</style>\n",
       "<table border=\"1\" class=\"dataframe\">\n",
       "  <thead>\n",
       "    <tr style=\"text-align: right;\">\n",
       "      <th></th>\n",
       "      <th>id</th>\n",
       "      <th>sentence</th>\n",
       "      <th>acceptable</th>\n",
       "      <th>error_type</th>\n",
       "      <th>detailed_source</th>\n",
       "    </tr>\n",
       "  </thead>\n",
       "  <tbody>\n",
       "    <tr>\n",
       "      <th>0</th>\n",
       "      <td>0</td>\n",
       "      <td>Вдруг решетка беззвучно поехала в сторону, и н...</td>\n",
       "      <td>1</td>\n",
       "      <td>0</td>\n",
       "      <td>Paducheva2004</td>\n",
       "    </tr>\n",
       "    <tr>\n",
       "      <th>1</th>\n",
       "      <td>1</td>\n",
       "      <td>Этим летом не никуда ездили.</td>\n",
       "      <td>0</td>\n",
       "      <td>Syntax</td>\n",
       "      <td>Rusgram</td>\n",
       "    </tr>\n",
       "    <tr>\n",
       "      <th>2</th>\n",
       "      <td>2</td>\n",
       "      <td>Только Иван выразил какую бы то ни было готовн...</td>\n",
       "      <td>1</td>\n",
       "      <td>0</td>\n",
       "      <td>Paducheva2013</td>\n",
       "    </tr>\n",
       "    <tr>\n",
       "      <th>3</th>\n",
       "      <td>3</td>\n",
       "      <td>Теперь ты видишь собственными глазами, как тут...</td>\n",
       "      <td>1</td>\n",
       "      <td>0</td>\n",
       "      <td>Paducheva2010</td>\n",
       "    </tr>\n",
       "    <tr>\n",
       "      <th>4</th>\n",
       "      <td>4</td>\n",
       "      <td>На поверку вся теория оказалась полной чепухой.</td>\n",
       "      <td>1</td>\n",
       "      <td>0</td>\n",
       "      <td>Paducheva2010</td>\n",
       "    </tr>\n",
       "  </tbody>\n",
       "</table>\n",
       "</div>"
      ],
      "text/plain": [
       "   id                                           sentence  acceptable  \\\n",
       "0   0  Вдруг решетка беззвучно поехала в сторону, и н...           1   \n",
       "1   1                       Этим летом не никуда ездили.           0   \n",
       "2   2  Только Иван выразил какую бы то ни было готовн...           1   \n",
       "3   3  Теперь ты видишь собственными глазами, как тут...           1   \n",
       "4   4    На поверку вся теория оказалась полной чепухой.           1   \n",
       "\n",
       "  error_type detailed_source  \n",
       "0          0   Paducheva2004  \n",
       "1     Syntax         Rusgram  \n",
       "2          0   Paducheva2013  \n",
       "3          0   Paducheva2010  \n",
       "4          0   Paducheva2010  "
      ]
     },
     "metadata": {},
     "output_type": "display_data"
    },
    {
     "data": {
      "text/html": [
       "<div>\n",
       "<style scoped>\n",
       "    .dataframe tbody tr th:only-of-type {\n",
       "        vertical-align: middle;\n",
       "    }\n",
       "\n",
       "    .dataframe tbody tr th {\n",
       "        vertical-align: top;\n",
       "    }\n",
       "\n",
       "    .dataframe thead th {\n",
       "        text-align: right;\n",
       "    }\n",
       "</style>\n",
       "<table border=\"1\" class=\"dataframe\">\n",
       "  <thead>\n",
       "    <tr style=\"text-align: right;\">\n",
       "      <th></th>\n",
       "      <th>id</th>\n",
       "      <th>sentence</th>\n",
       "      <th>acceptable</th>\n",
       "      <th>error_type</th>\n",
       "      <th>detailed_source</th>\n",
       "    </tr>\n",
       "  </thead>\n",
       "  <tbody>\n",
       "    <tr>\n",
       "      <th>0</th>\n",
       "      <td>0</td>\n",
       "      <td>Иван вчера не позвонил.</td>\n",
       "      <td>1</td>\n",
       "      <td>0</td>\n",
       "      <td>Paducheva2013</td>\n",
       "    </tr>\n",
       "    <tr>\n",
       "      <th>1</th>\n",
       "      <td>1</td>\n",
       "      <td>У многих туристов, кто посещают Кемер весной, ...</td>\n",
       "      <td>0</td>\n",
       "      <td>Syntax</td>\n",
       "      <td>USE8</td>\n",
       "    </tr>\n",
       "    <tr>\n",
       "      <th>2</th>\n",
       "      <td>2</td>\n",
       "      <td>Лесные запахи набегали волнами; в них смешалос...</td>\n",
       "      <td>1</td>\n",
       "      <td>0</td>\n",
       "      <td>USE5</td>\n",
       "    </tr>\n",
       "    <tr>\n",
       "      <th>3</th>\n",
       "      <td>3</td>\n",
       "      <td>Вчера президент имел неофициальную беседу с ан...</td>\n",
       "      <td>1</td>\n",
       "      <td>0</td>\n",
       "      <td>Seliverstova</td>\n",
       "    </tr>\n",
       "    <tr>\n",
       "      <th>4</th>\n",
       "      <td>4</td>\n",
       "      <td>Коллега так и не признал вину за катастрофу пе...</td>\n",
       "      <td>1</td>\n",
       "      <td>0</td>\n",
       "      <td>Testelets</td>\n",
       "    </tr>\n",
       "  </tbody>\n",
       "</table>\n",
       "</div>"
      ],
      "text/plain": [
       "   id                                           sentence  acceptable  \\\n",
       "0   0                            Иван вчера не позвонил.           1   \n",
       "1   1  У многих туристов, кто посещают Кемер весной, ...           0   \n",
       "2   2  Лесные запахи набегали волнами; в них смешалос...           1   \n",
       "3   3  Вчера президент имел неофициальную беседу с ан...           1   \n",
       "4   4  Коллега так и не признал вину за катастрофу пе...           1   \n",
       "\n",
       "  error_type detailed_source  \n",
       "0          0   Paducheva2013  \n",
       "1     Syntax            USE8  \n",
       "2          0            USE5  \n",
       "3          0    Seliverstova  \n",
       "4          0       Testelets  "
      ]
     },
     "metadata": {},
     "output_type": "display_data"
    }
   ],
   "source": [
    "# Загружаем датасеты\n",
    "train_df = pd.read_csv('in_domain_train.csv')\n",
    "dev_df = pd.read_csv('in_domain_dev.csv')\n",
    "\n",
    "# Выводим первые несколько строк для ознакомления\n",
    "display(train_df.head(), dev_df.head())"
   ]
  },
  {
   "cell_type": "markdown",
   "id": "bf65b28c-2e12-4aff-acc1-6a12c05f6a9e",
   "metadata": {},
   "source": [
    "Посмотрим на распределение целевой переменной acceptable."
   ]
  },
  {
   "cell_type": "code",
   "execution_count": 3,
   "id": "ac313c62-680a-48d0-92ac-ad2c1778ecf4",
   "metadata": {},
   "outputs": [
    {
     "data": {
      "image/png": "[encoded data removed]",
      "text/plain": [
       "<Figure size 1200x600 with 2 Axes>"
      ]
     },
     "metadata": {},
     "output_type": "display_data"
    }
   ],
   "source": [
    "# Подсчёт количества значений целевой переменной в каждом датасете\n",
    "train_counts = train_df['acceptable'].value_counts()\n",
    "dev_counts = dev_df['acceptable'].value_counts()\n",
    "\n",
    "# Построение графиков\n",
    "fig, axs = plt.subplots(1, 2, figsize=(12, 6))\n",
    "\n",
    "# График для train_df\n",
    "sns.barplot(x=train_counts.index, y=train_counts.values, ax=axs[0])\n",
    "axs[0].set_title('Train Dataset')\n",
    "axs[0].set_xlabel('Acceptable')\n",
    "axs[0].set_ylabel('Count')\n",
    "\n",
    "# График для dev_df\n",
    "sns.barplot(x=dev_counts.index, y=dev_counts.values, ax=axs[1])\n",
    "axs[1].set_title('Dev Dataset')\n",
    "axs[1].set_xlabel('Acceptable')\n",
    "axs[1].set_ylabel('Count')\n",
    "\n",
    "# Отображение графиков\n",
    "plt.tight_layout()\n",
    "plt.show()"
   ]
  },
  {
   "cell_type": "markdown",
   "id": "cd7af37a-09ac-468f-8596-db563cf1cc92",
   "metadata": {},
   "source": [
    "Выполним небольшой чит-код по сокращению количества данных в датасетах, чтобы ускорить процесс обучения."
   ]
  },
  {
   "cell_type": "markdown",
   "id": "e7a7a423-c39c-430e-a5b2-efe43f2c29c1",
   "metadata": {},
   "source": [
    "Уменьшим количество записей в даттасете <b>in_domain_dev.csv</b>."
   ]
  },
  {
   "cell_type": "code",
   "execution_count": 4,
   "id": "8f18a1ce-b8f6-4656-82a5-7bc234c37dd9",
   "metadata": {},
   "outputs": [
    {
     "name": "stdout",
     "output_type": "stream",
     "text": [
      "acceptable\n",
      "1    733\n",
      "0    250\n",
      "Name: count, dtype: int64\n"
     ]
    }
   ],
   "source": [
    "class_counts = dev_df['acceptable'].value_counts()\n",
    "print(class_counts)"
   ]
  },
  {
   "cell_type": "code",
   "execution_count": 5,
   "id": "298ca514-dc60-4995-80ba-4e86b6090e55",
   "metadata": {},
   "outputs": [
    {
     "name": "stdout",
     "output_type": "stream",
     "text": [
      "acceptable\n",
      "1    500\n",
      "0    250\n",
      "Name: count, dtype: int64\n"
     ]
    }
   ],
   "source": [
    "# Количество строк класса 1, которые нужно удалить\n",
    "rows_to_drop = 233\n",
    "# rows_to_drop = 483\n",
    "\n",
    "# Выбор рандомных строк класса 1 для удаления\n",
    "if class_counts[1] > rows_to_drop:\n",
    "    # Получение индексов рандомных строк класса 1\n",
    "    random_indices = dev_df[dev_df['acceptable'] == 1].sample(n=rows_to_drop, random_state=42).index\n",
    "    \n",
    "    # Удаление выбранных строк из DataFrame\n",
    "    dev_df = dev_df.drop(random_indices)\n",
    "\n",
    "    # Проверка нового количества записей по каждому классу\n",
    "    new_class_counts = dev_df['acceptable'].value_counts()\n",
    "    print(new_class_counts)\n",
    "else:\n",
    "    print(\"Невозможно удалить такое количество строк, так как количество строк класса 1 меньше указанного.\")"
   ]
  },
  {
   "cell_type": "code",
   "execution_count": 6,
   "id": "262605d8-c3ed-4538-acd0-a5250ed308f1",
   "metadata": {},
   "outputs": [
    {
     "name": "stdout",
     "output_type": "stream",
     "text": [
      "acceptable\n",
      "1    350\n",
      "0    100\n",
      "Name: count, dtype: int64\n"
     ]
    }
   ],
   "source": [
    "# Количество строк класса 1 и класса 0, которые нужно удалить\n",
    "rows_to_drop = 150\n",
    "# rows_to_drop = 249\n",
    "\n",
    "# Выбор рандомных строк для удаления\n",
    "if class_counts[1] >= rows_to_drop and class_counts[0] >= rows_to_drop:\n",
    "    # Получение индексов рандомных строк класса 1\n",
    "    random_indices_class_1 = dev_df[dev_df['acceptable'] == 1].sample(n=rows_to_drop, random_state=42).index\n",
    "    # Получение индексов рандомных строк класса 0\n",
    "    random_indices_class_0 = dev_df[dev_df['acceptable'] == 0].sample(n=rows_to_drop, random_state=42).index\n",
    "    \n",
    "    # Объединение индексов строк для удаления\n",
    "    rows_to_drop_indices = random_indices_class_1.union(random_indices_class_0)\n",
    "    \n",
    "    # Удаление выбранных строк из DataFrame\n",
    "    dev_df = dev_df.drop(rows_to_drop_indices)\n",
    "\n",
    "    # Проверка нового количества записей по каждому классу\n",
    "    new_class_counts = dev_df['acceptable'].value_counts()\n",
    "    print(new_class_counts)\n",
    "else:\n",
    "    print(\"Невозможно удалить такое количество строк, так как количество строк в одном из классов меньше указанного.\")"
   ]
  },
  {
   "cell_type": "markdown",
   "id": "6328e830-2f95-4ccb-8085-50ea7cdbf64b",
   "metadata": {},
   "source": [
    "Уменьшим количество записей в даттасете <b>in_domain_train.csv</b>."
   ]
  },
  {
   "cell_type": "code",
   "execution_count": 7,
   "id": "57057bb9-a3c8-46d9-8486-80ee2d821267",
   "metadata": {},
   "outputs": [
    {
     "name": "stdout",
     "output_type": "stream",
     "text": [
      "acceptable\n",
      "1    5864\n",
      "0    2005\n",
      "Name: count, dtype: int64\n"
     ]
    }
   ],
   "source": [
    "class_counts = train_df['acceptable'].value_counts()\n",
    "print(class_counts)"
   ]
  },
  {
   "cell_type": "code",
   "execution_count": 8,
   "id": "2b3767af-70de-4e53-8381-49b17175c7d8",
   "metadata": {},
   "outputs": [
    {
     "name": "stdout",
     "output_type": "stream",
     "text": [
      "acceptable\n",
      "1    4005\n",
      "0    2005\n",
      "Name: count, dtype: int64\n"
     ]
    }
   ],
   "source": [
    "# Количество строк класса 1, которые нужно удалить\n",
    "rows_to_drop = 1859\n",
    "# rows_to_drop = 3859\n",
    "\n",
    "# Выбор рандомных строк класса 1 для удаления\n",
    "if class_counts[1] > rows_to_drop:\n",
    "    # Получение индексов рандомных строк класса 1\n",
    "    random_indices = train_df[train_df['acceptable'] == 1].sample(n=rows_to_drop, random_state=42).index\n",
    "    \n",
    "    # Удаление выбранных строк из DataFrame\n",
    "    train_df = train_df.drop(random_indices)\n",
    "\n",
    "    # Проверка нового количества записей по каждому классу\n",
    "    new_class_counts = train_df['acceptable'].value_counts()\n",
    "    print(new_class_counts)\n",
    "else:\n",
    "    print(\"Невозможно удалить такое количество строк, так как количество строк класса 1 меньше указанного.\")"
   ]
  },
  {
   "cell_type": "code",
   "execution_count": 9,
   "id": "a60057c8-4cb1-4416-9bf8-c11cc8e877d4",
   "metadata": {},
   "outputs": [
    {
     "name": "stdout",
     "output_type": "stream",
     "text": [
      "acceptable\n",
      "1    2800\n",
      "0     800\n",
      "Name: count, dtype: int64\n"
     ]
    }
   ],
   "source": [
    "# Количество строк класса 1 и класса 0, которые нужно удалить\n",
    "rows_to_drop = 1205\n",
    "# rows_to_drop = 2004\n",
    "\n",
    "# Выбор рандомных строк для удаления\n",
    "if class_counts[1] >= rows_to_drop and class_counts[0] >= rows_to_drop:\n",
    "    # Получение индексов рандомных строк класса 1\n",
    "    random_indices_class_1 = train_df[train_df['acceptable'] == 1].sample(n=rows_to_drop, random_state=42).index\n",
    "    # Получение индексов рандомных строк класса 0\n",
    "    random_indices_class_0 = train_df[train_df['acceptable'] == 0].sample(n=rows_to_drop, random_state=42).index\n",
    "    \n",
    "    # Объединение индексов строк для удаления\n",
    "    rows_to_drop_indices = random_indices_class_1.union(random_indices_class_0)\n",
    "    \n",
    "    # Удаление выбранных строк из DataFrame\n",
    "    train_df = train_df.drop(rows_to_drop_indices)\n",
    "\n",
    "    # Проверка нового количества записей по каждому классу\n",
    "    new_class_counts = train_df['acceptable'].value_counts()\n",
    "    print(new_class_counts)\n",
    "else:\n",
    "    print(\"Невозможно удалить такое количество строк, так как количество строк в одном из классов меньше указанного.\")"
   ]
  },
  {
   "cell_type": "markdown",
   "id": "451d6a86-42ca-4a40-aff0-6cdceba25f42",
   "metadata": {},
   "source": [
    "<b> Зафайнтьюним и протестируем RuBert на данной задаче. Возьмём предобученную модель RuBert с сайта huggingface - ruBert-large - https://huggingface.co/sberbank-ai/ruBert-large.</b>"
   ]
  },
  {
   "cell_type": "code",
   "execution_count": 10,
   "id": "f85c8de2-d6fb-4b9c-af23-7c4181c3bd9f",
   "metadata": {},
   "outputs": [
    {
     "data": {
      "application/vnd.jupyter.widget-view+json": {
       "model_id": "56650d422e4346df8ad2aa4bbe028540",
       "version_major": 2,
       "version_minor": 0
      },
      "text/plain": [
       "Map:   0%|          | 0/3600 [00:00<?, ? examples/s]"
      ]
     },
     "metadata": {},
     "output_type": "display_data"
    },
    {
     "data": {
      "application/vnd.jupyter.widget-view+json": {
       "model_id": "fe305752553a42c9b06a54877f9e36f6",
       "version_major": 2,
       "version_minor": 0
      },
      "text/plain": [
       "Map:   0%|          | 0/450 [00:00<?, ? examples/s]"
      ]
     },
     "metadata": {},
     "output_type": "display_data"
    },
    {
     "data": {
      "application/vnd.jupyter.widget-view+json": {
       "model_id": "92ac063f4b8c4ac78f5e1f41c78ce772",
       "version_major": 2,
       "version_minor": 0
      },
      "text/plain": [
       "Epoch:   0%|          | 0/5 [00:00<?, ?it/s]"
      ]
     },
     "metadata": {},
     "output_type": "display_data"
    },
    {
     "data": {
      "application/vnd.jupyter.widget-view+json": {
       "model_id": "daf4fea9d3894931b1de52379101b218",
       "version_major": 2,
       "version_minor": 0
      },
      "text/plain": [
       "Training:   0%|          | 0/900 [00:00<?, ?it/s]"
      ]
     },
     "metadata": {},
     "output_type": "display_data"
    },
    {
     "data": {
      "application/vnd.jupyter.widget-view+json": {
       "model_id": "0346920fecc441eda40097f1488c1074",
       "version_major": 2,
       "version_minor": 0
      },
      "text/plain": [
       "Evaluating:   0%|          | 0/113 [00:00<?, ?it/s]"
      ]
     },
     "metadata": {},
     "output_type": "display_data"
    },
    {
     "name": "stdout",
     "output_type": "stream",
     "text": [
      "Epoch 1/5\n",
      "Training Loss: 0.5385\n",
      "Validation Loss: 0.5026\n",
      "Validation Accuracy: 0.7778\n"
     ]
    },
    {
     "data": {
      "application/vnd.jupyter.widget-view+json": {
       "model_id": "b5ad33615d5943699ae32cd55a03c3ac",
       "version_major": 2,
       "version_minor": 0
      },
      "text/plain": [
       "Training:   0%|          | 0/900 [00:00<?, ?it/s]"
      ]
     },
     "metadata": {},
     "output_type": "display_data"
    },
    {
     "data": {
      "application/vnd.jupyter.widget-view+json": {
       "model_id": "b71c17b77d9d4a8d9a90eb5a6502f5a7",
       "version_major": 2,
       "version_minor": 0
      },
      "text/plain": [
       "Evaluating:   0%|          | 0/113 [00:00<?, ?it/s]"
      ]
     },
     "metadata": {},
     "output_type": "display_data"
    },
    {
     "name": "stdout",
     "output_type": "stream",
     "text": [
      "Epoch 2/5\n",
      "Training Loss: 0.4950\n",
      "Validation Loss: 0.4803\n",
      "Validation Accuracy: 0.7778\n"
     ]
    },
    {
     "data": {
      "application/vnd.jupyter.widget-view+json": {
       "model_id": "363b4a4fa8a6422fb4c51f4aa8f82773",
       "version_major": 2,
       "version_minor": 0
      },
      "text/plain": [
       "Training:   0%|          | 0/900 [00:00<?, ?it/s]"
      ]
     },
     "metadata": {},
     "output_type": "display_data"
    },
    {
     "data": {
      "application/vnd.jupyter.widget-view+json": {
       "model_id": "1c81aea4977649b289cb3e88524a8241",
       "version_major": 2,
       "version_minor": 0
      },
      "text/plain": [
       "Evaluating:   0%|          | 0/113 [00:00<?, ?it/s]"
      ]
     },
     "metadata": {},
     "output_type": "display_data"
    },
    {
     "name": "stdout",
     "output_type": "stream",
     "text": [
      "Epoch 3/5\n",
      "Training Loss: 0.4419\n",
      "Validation Loss: 0.4703\n",
      "Validation Accuracy: 0.7933\n"
     ]
    },
    {
     "data": {
      "application/vnd.jupyter.widget-view+json": {
       "model_id": "683b713b984946cda11f7f90a4db7f3f",
       "version_major": 2,
       "version_minor": 0
      },
      "text/plain": [
       "Training:   0%|          | 0/900 [00:00<?, ?it/s]"
      ]
     },
     "metadata": {},
     "output_type": "display_data"
    },
    {
     "data": {
      "application/vnd.jupyter.widget-view+json": {
       "model_id": "6490ebae6f984f71870cb112c6ef79de",
       "version_major": 2,
       "version_minor": 0
      },
      "text/plain": [
       "Evaluating:   0%|          | 0/113 [00:00<?, ?it/s]"
      ]
     },
     "metadata": {},
     "output_type": "display_data"
    },
    {
     "name": "stdout",
     "output_type": "stream",
     "text": [
      "Epoch 4/5\n",
      "Training Loss: 0.3635\n",
      "Validation Loss: 0.4868\n",
      "Validation Accuracy: 0.8067\n"
     ]
    },
    {
     "data": {
      "application/vnd.jupyter.widget-view+json": {
       "model_id": "18d31e96808644d08dba541005b1422f",
       "version_major": 2,
       "version_minor": 0
      },
      "text/plain": [
       "Training:   0%|          | 0/900 [00:00<?, ?it/s]"
      ]
     },
     "metadata": {},
     "output_type": "display_data"
    },
    {
     "data": {
      "application/vnd.jupyter.widget-view+json": {
       "model_id": "f5748873d7a04878beb7fc2e5c20b0e6",
       "version_major": 2,
       "version_minor": 0
      },
      "text/plain": [
       "Evaluating:   0%|          | 0/113 [00:00<?, ?it/s]"
      ]
     },
     "metadata": {},
     "output_type": "display_data"
    },
    {
     "name": "stdout",
     "output_type": "stream",
     "text": [
      "Epoch 5/5\n",
      "Training Loss: 0.2637\n",
      "Validation Loss: 0.5788\n",
      "Validation Accuracy: 0.8022\n"
     ]
    },
    {
     "data": {
      "application/vnd.jupyter.widget-view+json": {
       "model_id": "d6daa9ab6e5d491fb81db1da5e4a3fb7",
       "version_major": 2,
       "version_minor": 0
      },
      "text/plain": [
       "Final Evaluation:   0%|          | 0/113 [00:00<?, ?it/s]"
      ]
     },
     "metadata": {},
     "output_type": "display_data"
    },
    {
     "name": "stdout",
     "output_type": "stream",
     "text": [
      "Final Eval_loss: 0.5788463041994029\n",
      "Final Eval_accuracy: 0.8022222222222222\n"
     ]
    }
   ],
   "source": [
    "# Переименование столбца 'acceptable' в 'labels'\n",
    "train_df_RB = train_df.rename(columns={'acceptable': 'labels'})\n",
    "dev_df_RB = dev_df.rename(columns={'acceptable': 'labels'})\n",
    "\n",
    "# Удаление индекса из датафреймов\n",
    "train_df_RB = train_df_RB.reset_index(drop=True)\n",
    "dev_df_RB = dev_df_RB.reset_index(drop=True)\n",
    "\n",
    "# Подготовка данных\n",
    "train_data = Dataset.from_pandas(train_df_RB[['sentence', 'labels']])\n",
    "test_data = Dataset.from_pandas(dev_df_RB[['sentence', 'labels']])\n",
    "\n",
    "# Загрузка токенизатора и модели\n",
    "base_model = 'sberbank-ai/ruBert-large'\n",
    "tokenizer = AutoTokenizer.from_pretrained(base_model)\n",
    "model = AutoModelForSequenceClassification.from_pretrained(base_model, num_labels=2)\n",
    "\n",
    "# Токенизация данных\n",
    "def tokenize_function(examples):\n",
    "    return tokenizer(examples['sentence'], truncation=True, max_length=512)\n",
    "\n",
    "train_data = train_data.map(tokenize_function, batched=True, remove_columns=['sentence'])\n",
    "test_data = test_data.map(tokenize_function, batched=True, remove_columns=['sentence'])\n",
    "\n",
    "# Создание DataLoader'ов\n",
    "collator = DataCollatorWithPadding(tokenizer=tokenizer)\n",
    "train_dataloader = DataLoader(train_data, shuffle=True, batch_size=4, collate_fn=collator)\n",
    "val_dataloader = DataLoader(test_data, shuffle=False, batch_size=4, collate_fn=collator)\n",
    "\n",
    "# Настройка модели и оптимизатора\n",
    "if torch.cuda.is_available():\n",
    "    model.cuda()\n",
    "\n",
    "optimizer = torch.optim.Adam(model.parameters(), lr=1e-6)\n",
    "\n",
    "# Обучение модели и оценка после каждой эпохи\n",
    "for epoch in trange(5, desc=\"Epoch\"):\n",
    "    # Обучение модели\n",
    "    model.train()\n",
    "    train_losses = []\n",
    "    for batch in tqdm(train_dataloader, desc=\"Training\"):\n",
    "        batch = {k: v.to(model.device) for k, v in batch.items()}\n",
    "        out = model(**batch)\n",
    "        loss = out.loss\n",
    "        loss.backward()\n",
    "        optimizer.step()\n",
    "        optimizer.zero_grad()\n",
    "        train_losses.append(loss.item())\n",
    "    \n",
    "    train_loss = np.mean(train_losses)\n",
    "    \n",
    "    # Оценка модели\n",
    "    model.eval()\n",
    "    eval_losses = []\n",
    "    eval_preds = []\n",
    "    eval_targets = []\n",
    "    for batch in tqdm(val_dataloader, desc=\"Evaluating\"):\n",
    "        batch = {k: v.to(model.device) for k, v in batch.items()}\n",
    "        with torch.no_grad():\n",
    "            out = model(**batch)\n",
    "            eval_losses.append(out.loss.item())\n",
    "            eval_preds.extend(out.logits.argmax(1).tolist())\n",
    "            eval_targets.extend(batch['labels'].tolist())\n",
    "    \n",
    "    eval_loss = np.mean(eval_losses)\n",
    "    eval_accuracy = accuracy_score(eval_targets, eval_preds)\n",
    "    \n",
    "    # Вывод результатов за эпоху\n",
    "    print(f\"Epoch {epoch+1}/{5}\")\n",
    "    print(f\"Training Loss: {train_loss:.4f}\")\n",
    "    print(f\"Validation Loss: {eval_loss:.4f}\")\n",
    "    print(f\"Validation Accuracy: {eval_accuracy:.4f}\")\n",
    "\n",
    "# Финальная оценка модели\n",
    "eval_losses = []\n",
    "eval_preds = []\n",
    "eval_targets = []\n",
    "model.eval()\n",
    "for batch in tqdm(val_dataloader, desc=\"Final Evaluation\"):\n",
    "    batch = {k: v.to(model.device) for k, v in batch.items()}\n",
    "    with torch.no_grad():\n",
    "        out = model(**batch)\n",
    "        eval_losses.append(out.loss.item())\n",
    "        eval_preds.extend(out.logits.argmax(1).tolist())\n",
    "        eval_targets.extend(batch['labels'].tolist())\n",
    "\n",
    "final_eval_loss = np.mean(eval_losses)\n",
    "final_eval_accuracy = accuracy_score(eval_targets, eval_preds)\n",
    "\n",
    "print('Final Eval_loss:', final_eval_loss)\n",
    "print('Final Eval_accuracy:', final_eval_accuracy)"
   ]
  },
  {
   "cell_type": "markdown",
   "id": "a582487c-1902-4357-8508-06f2e89ea4c9",
   "metadata": {},
   "source": [
    "<b>Возьмём RuGPT3 large и решим данное задание с помощью методов few-shot.</b>"
   ]
  },
  {
   "cell_type": "code",
   "execution_count": 10,
   "id": "29f0312c-bb70-41eb-8168-91c92c328ba5",
   "metadata": {},
   "outputs": [
    {
     "data": {
      "application/vnd.jupyter.widget-view+json": {
       "model_id": "701dce1dfdf342a3938d4f742351cb0d",
       "version_major": 2,
       "version_minor": 0
      },
      "text/plain": [
       "Map:   0%|          | 0/3600 [00:00<?, ? examples/s]"
      ]
     },
     "metadata": {},
     "output_type": "display_data"
    },
    {
     "data": {
      "application/vnd.jupyter.widget-view+json": {
       "model_id": "9e1a8718eb4049ecb8b35dc60c9abfa9",
       "version_major": 2,
       "version_minor": 0
      },
      "text/plain": [
       "Map:   0%|          | 0/450 [00:00<?, ? examples/s]"
      ]
     },
     "metadata": {},
     "output_type": "display_data"
    },
    {
     "name": "stdout",
     "output_type": "stream",
     "text": [
      "{'loss': 0.8401, 'grad_norm': 0.5966641902923584, 'learning_rate': 4.888888888888889e-05, 'epoch': 0.1111111111111111}\n",
      "{'loss': 0.6001, 'grad_norm': 10.104169845581055, 'learning_rate': 4.7777777777777784e-05, 'epoch': 0.2222222222222222}\n",
      "{'loss': 0.5856, 'grad_norm': 7.7971391677856445, 'learning_rate': 4.666666666666667e-05, 'epoch': 0.3333333333333333}\n",
      "{'loss': 0.5531, 'grad_norm': 1.2665376663208008, 'learning_rate': 4.555555555555556e-05, 'epoch': 0.4444444444444444}\n",
      "{'loss': 0.5548, 'grad_norm': 4.187890529632568, 'learning_rate': 4.4444444444444447e-05, 'epoch': 0.5555555555555556}\n",
      "{'loss': 0.5543, 'grad_norm': 1.069111943244934, 'learning_rate': 4.3333333333333334e-05, 'epoch': 0.6666666666666666}\n",
      "{'loss': 0.5598, 'grad_norm': 1.741490125656128, 'learning_rate': 4.222222222222222e-05, 'epoch': 0.7777777777777778}\n",
      "{'loss': 0.604, 'grad_norm': 6.570312976837158, 'learning_rate': 4.111111111111111e-05, 'epoch': 0.8888888888888888}\n",
      "{'loss': 0.5422, 'grad_norm': 1.1055327653884888, 'learning_rate': 4e-05, 'epoch': 1.0}\n",
      "{'eval_loss': 0.5195597410202026, 'eval_accuracy': 0.7777777777777778, 'eval_runtime': 253.5221, 'eval_samples_per_second': 1.775, 'eval_steps_per_second': 0.446, 'epoch': 1.0}\n",
      "{'loss': 0.5042, 'grad_norm': 5.248927593231201, 'learning_rate': 3.888888888888889e-05, 'epoch': 1.1111111111111112}\n",
      "{'loss': 0.5499, 'grad_norm': 4.6874518394470215, 'learning_rate': 3.777777777777778e-05, 'epoch': 1.2222222222222223}\n",
      "{'loss': 0.5484, 'grad_norm': 1.9838361740112305, 'learning_rate': 3.6666666666666666e-05, 'epoch': 1.3333333333333333}\n",
      "{'loss': 0.4775, 'grad_norm': 3.13621187210083, 'learning_rate': 3.555555555555556e-05, 'epoch': 1.4444444444444444}\n",
      "{'loss': 0.5443, 'grad_norm': 1.0004525184631348, 'learning_rate': 3.444444444444445e-05, 'epoch': 1.5555555555555556}\n",
      "{'loss': 0.5413, 'grad_norm': 8.02375602722168, 'learning_rate': 3.3333333333333335e-05, 'epoch': 1.6666666666666665}\n",
      "{'loss': 0.5119, 'grad_norm': 3.8124444484710693, 'learning_rate': 3.222222222222223e-05, 'epoch': 1.7777777777777777}\n",
      "{'loss': 0.5109, 'grad_norm': 8.754006385803223, 'learning_rate': 3.111111111111111e-05, 'epoch': 1.8888888888888888}\n",
      "{'loss': 0.5293, 'grad_norm': 0.6860207915306091, 'learning_rate': 3e-05, 'epoch': 2.0}\n",
      "{'eval_loss': 0.5505251884460449, 'eval_accuracy': 0.7955555555555556, 'eval_runtime': 606.94, 'eval_samples_per_second': 0.741, 'eval_steps_per_second': 0.186, 'epoch': 2.0}\n",
      "{'loss': 0.4169, 'grad_norm': 4.524041652679443, 'learning_rate': 2.8888888888888888e-05, 'epoch': 2.111111111111111}\n",
      "{'loss': 0.4808, 'grad_norm': 4.836647987365723, 'learning_rate': 2.777777777777778e-05, 'epoch': 2.2222222222222223}\n",
      "{'loss': 0.5006, 'grad_norm': 4.4374494552612305, 'learning_rate': 2.6666666666666667e-05, 'epoch': 2.3333333333333335}\n",
      "{'loss': 0.469, 'grad_norm': 0.18693599104881287, 'learning_rate': 2.5555555555555554e-05, 'epoch': 2.4444444444444446}\n",
      "{'loss': 0.4893, 'grad_norm': 0.45267000794410706, 'learning_rate': 2.4444444444444445e-05, 'epoch': 2.5555555555555554}\n",
      "{'loss': 0.5045, 'grad_norm': 3.629689931869507, 'learning_rate': 2.3333333333333336e-05, 'epoch': 2.6666666666666665}\n",
      "{'loss': 0.5248, 'grad_norm': 1.1044009923934937, 'learning_rate': 2.2222222222222223e-05, 'epoch': 2.7777777777777777}\n",
      "{'loss': 0.5019, 'grad_norm': 0.3926127254962921, 'learning_rate': 2.111111111111111e-05, 'epoch': 2.888888888888889}\n",
      "{'loss': 0.4557, 'grad_norm': 0.6330012679100037, 'learning_rate': 2e-05, 'epoch': 3.0}\n",
      "{'eval_loss': 0.6628209352493286, 'eval_accuracy': 0.7755555555555556, 'eval_runtime': 569.5915, 'eval_samples_per_second': 0.79, 'eval_steps_per_second': 0.198, 'epoch': 3.0}\n",
      "{'loss': 0.3153, 'grad_norm': 0.17470888793468475, 'learning_rate': 1.888888888888889e-05, 'epoch': 3.111111111111111}\n",
      "{'loss': 0.3514, 'grad_norm': 9.460288047790527, 'learning_rate': 1.777777777777778e-05, 'epoch': 3.2222222222222223}\n",
      "{'loss': 0.4456, 'grad_norm': 18.5792293548584, 'learning_rate': 1.6666666666666667e-05, 'epoch': 3.3333333333333335}\n",
      "{'loss': 0.3411, 'grad_norm': 17.54851722717285, 'learning_rate': 1.5555555555555555e-05, 'epoch': 3.4444444444444446}\n",
      "{'loss': 0.4117, 'grad_norm': 12.329800605773926, 'learning_rate': 1.4444444444444444e-05, 'epoch': 3.5555555555555554}\n",
      "{'loss': 0.3378, 'grad_norm': 0.41636139154434204, 'learning_rate': 1.3333333333333333e-05, 'epoch': 3.6666666666666665}\n",
      "{'loss': 0.4406, 'grad_norm': 7.743638038635254, 'learning_rate': 1.2222222222222222e-05, 'epoch': 3.7777777777777777}\n",
      "{'loss': 0.3289, 'grad_norm': 25.756290435791016, 'learning_rate': 1.1111111111111112e-05, 'epoch': 3.888888888888889}\n",
      "{'loss': 0.4522, 'grad_norm': 7.3894453048706055, 'learning_rate': 1e-05, 'epoch': 4.0}\n",
      "{'eval_loss': 0.8159018158912659, 'eval_accuracy': 0.7688888888888888, 'eval_runtime': 808.2908, 'eval_samples_per_second': 0.557, 'eval_steps_per_second': 0.14, 'epoch': 4.0}\n",
      "{'loss': 0.2515, 'grad_norm': 0.12079677730798721, 'learning_rate': 8.88888888888889e-06, 'epoch': 4.111111111111111}\n",
      "{'loss': 0.3565, 'grad_norm': 0.3438161313533783, 'learning_rate': 7.777777777777777e-06, 'epoch': 4.222222222222222}\n",
      "{'loss': 0.1642, 'grad_norm': 16.974058151245117, 'learning_rate': 6.666666666666667e-06, 'epoch': 4.333333333333333}\n",
      "{'loss': 0.2365, 'grad_norm': 1.3537970781326294, 'learning_rate': 5.555555555555556e-06, 'epoch': 4.444444444444445}\n",
      "{'loss': 0.3137, 'grad_norm': 0.5262078642845154, 'learning_rate': 4.444444444444445e-06, 'epoch': 4.555555555555555}\n",
      "{'loss': 0.2714, 'grad_norm': 51.88791275024414, 'learning_rate': 3.3333333333333333e-06, 'epoch': 4.666666666666667}\n",
      "{'loss': 0.2544, 'grad_norm': 7.56783390045166, 'learning_rate': 2.2222222222222225e-06, 'epoch': 4.777777777777778}\n",
      "{'loss': 0.2372, 'grad_norm': 0.04165169596672058, 'learning_rate': 1.1111111111111112e-06, 'epoch': 4.888888888888889}\n",
      "{'loss': 0.3565, 'grad_norm': 0.1486717313528061, 'learning_rate': 0.0, 'epoch': 5.0}\n",
      "{'eval_loss': 1.1301571130752563, 'eval_accuracy': 0.7577777777777778, 'eval_runtime': 681.1713, 'eval_samples_per_second': 0.661, 'eval_steps_per_second': 0.166, 'epoch': 5.0}\n",
      "{'train_runtime': 71302.4715, 'train_samples_per_second': 0.252, 'train_steps_per_second': 0.063, 'train_loss': 0.4515947240193685, 'epoch': 5.0}\n",
      "{'eval_loss': 1.1301571130752563, 'eval_accuracy': 0.7577777777777778, 'eval_runtime': 679.0925, 'eval_samples_per_second': 0.663, 'eval_steps_per_second': 0.166, 'epoch': 5.0}\n",
      "{'eval_loss': 1.1301571130752563, 'eval_accuracy': 0.7577777777777778, 'eval_runtime': 679.0925, 'eval_samples_per_second': 0.663, 'eval_steps_per_second': 0.166, 'epoch': 5.0}\n"
     ]
    }
   ],
   "source": [
    "# Выбор модели и токенизатора\n",
    "model_name = \"ai-forever/rugpt3large_based_on_gpt2\"\n",
    "tokenizer = AutoTokenizer.from_pretrained(model_name)\n",
    "\n",
    "# Функция для токенизации данных\n",
    "def tokenize_function(examples):\n",
    "    return tokenizer(examples['sentence'], truncation=True, padding='max_length', max_length=128)\n",
    "\n",
    "# Подготовка данных для обучения и тестирования\n",
    "train_dfset = Dataset.from_pandas(train_df)\n",
    "train_dfset = train_dfset.map(tokenize_function, batched=True)\n",
    "train_dfset = train_dfset.rename_column(\"acceptable\", \"labels\")\n",
    "train_dfset.set_format(type='torch', columns=['input_ids', 'attention_mask', 'labels'])\n",
    "\n",
    "dev_dataset = Dataset.from_pandas(dev_df)\n",
    "dev_dataset = dev_dataset.map(tokenize_function, batched=True)\n",
    "dev_dataset = dev_dataset.rename_column(\"acceptable\", \"labels\")\n",
    "dev_dataset.set_format(type='torch', columns=['input_ids', 'attention_mask', 'labels'])\n",
    "\n",
    "# Загрузка модели для классификации\n",
    "model = AutoModelForSequenceClassification.from_pretrained(model_name, num_labels=2)  # num_labels=2 - количество классов=2\n",
    "\n",
    "# Настройка аргументов тренировки\n",
    "training_args = TrainingArguments(\n",
    "    output_dir=\"./results\",\n",
    "    per_device_train_batch_size=4,\n",
    "    per_device_eval_batch_size=4,\n",
    "    eval_strategy=\"epoch\",\n",
    "    logging_dir=\"./logs\",\n",
    "    logging_steps=100,\n",
    "    num_train_epochs=5,\n",
    "    overwrite_output_dir=True,\n",
    "    report_to=\"tensorboard\",\n",
    ")\n",
    "\n",
    "# Функция для оценки модели\n",
    "def compute_metrics(pred):\n",
    "    labels = pred.label_ids\n",
    "    preds = np.argmax(pred.predictions, axis=1)\n",
    "    acc = accuracy_score(labels, preds)\n",
    "    precision, recall, f1, _ = precision_recall_fscore_support(labels, preds, average='weighted')\n",
    "    return {\n",
    "        'accuracy': acc,\n",
    "    }\n",
    "\n",
    "# Инициализация трейнера\n",
    "trainer = Trainer(\n",
    "    model=model,\n",
    "    args=training_args,\n",
    "    train_dataset=train_dfset,\n",
    "    eval_dataset=dev_dataset,\n",
    "    data_collator=DataCollatorWithPadding(tokenizer),\n",
    "    tokenizer=tokenizer,\n",
    "    compute_metrics=compute_metrics,\n",
    ")\n",
    "\n",
    "# Обучение модели\n",
    "trainer.train()\n",
    "\n",
    "# Оценка модели на тестовом наборе\n",
    "eval_results = trainer.evaluate()\n",
    "\n",
    "# Вывод результатов оценки\n",
    "print(eval_results)"
   ]
  },
  {
   "cell_type": "markdown",
   "id": "e463a00f-5761-4ea3-a625-946e91a37616",
   "metadata": {},
   "source": [
    "<b>Обучим и протестируем модель RuT5 на данной задаче (за пример finetun’а взят код здесь: https://github.com/RussianNLP/RuCoLA/blob/main/baselines/finetune_t5.py)</b>"
   ]
  },
  {
   "cell_type": "code",
   "execution_count": 11,
   "id": "8a84cc1f-a092-4e23-8e9b-a114bc6a640d",
   "metadata": {},
   "outputs": [
    {
     "data": {
      "application/vnd.jupyter.widget-view+json": {
       "model_id": "2ca9dc3edb1140a789c8d43b606fab16",
       "version_major": 2,
       "version_minor": 0
      },
      "text/plain": [
       "Map:   0%|          | 0/3600 [00:00<?, ? examples/s]"
      ]
     },
     "metadata": {},
     "output_type": "display_data"
    },
    {
     "data": {
      "application/vnd.jupyter.widget-view+json": {
       "model_id": "09be7848e1c6433a8a829005e91dc00d",
       "version_major": 2,
       "version_minor": 0
      },
      "text/plain": [
       "Map:   0%|          | 0/450 [00:00<?, ? examples/s]"
      ]
     },
     "metadata": {},
     "output_type": "display_data"
    },
    {
     "name": "stdout",
     "output_type": "stream",
     "text": [
      "{'eval_loss': 0.20055700838565826, 'eval_accuracy': 0.7777777777777778, 'eval_runtime': 33.2342, 'eval_samples_per_second': 13.54, 'eval_steps_per_second': 0.12, 'epoch': 1.0}\n",
      "{'eval_loss': 0.1978120058774948, 'eval_accuracy': 0.7777777777777778, 'eval_runtime': 33.1919, 'eval_samples_per_second': 13.558, 'eval_steps_per_second': 0.121, 'epoch': 2.0}\n",
      "{'eval_loss': 0.20033080875873566, 'eval_accuracy': 0.7777777777777778, 'eval_runtime': 33.0539, 'eval_samples_per_second': 13.614, 'eval_steps_per_second': 0.121, 'epoch': 3.0}\n",
      "{'eval_loss': 0.19990453124046326, 'eval_accuracy': 0.7777777777777778, 'eval_runtime': 33.0723, 'eval_samples_per_second': 13.607, 'eval_steps_per_second': 0.121, 'epoch': 4.0}\n",
      "{'eval_loss': 0.2198890894651413, 'eval_accuracy': 0.7777777777777778, 'eval_runtime': 33.0883, 'eval_samples_per_second': 13.6, 'eval_steps_per_second': 0.121, 'epoch': 5.0}\n",
      "{'train_runtime': 420.9455, 'train_samples_per_second': 42.761, 'train_steps_per_second': 0.344, 'train_loss': 0.8018408939756196, 'epoch': 5.0}\n",
      "t5-base_0.0001_0_128_42\n",
      "train {'train_runtime': 420.9455, 'train_samples_per_second': 42.761, 'train_steps_per_second': 0.344, 'train_loss': 0.8018408939756196, 'epoch': 5.0}\n",
      "dev {'test_loss': 0.1978120058774948, 'test_accuracy': 0.7777777777777778, 'test_runtime': 33.1981, 'test_samples_per_second': 13.555, 'test_steps_per_second': 0.12}\n"
     ]
    }
   ],
   "source": [
    "# Загрузка метрик\n",
    "ACCURACY = evaluate.load(\"accuracy\")\n",
    "MODEL_TO_HUB_NAME = {\n",
    "    \"t5-base\": \"sberbank-ai/ruT5-base\",\n",
    "    \"t5-large\": \"sberbank-ai/ruT5-large\",\n",
    "}\n",
    "\n",
    "os.environ[\"TOKENIZERS_PARALLELISM\"] = \"false\"\n",
    "\n",
    "WEIGHT_DECAY = 0\n",
    "N_EPOCHS = 5\n",
    "LEARNING_RATE = 1e-4\n",
    "BATCH_SIZE = 128\n",
    "SEED = 42\n",
    "\n",
    "POS_LABEL = \"yes\"\n",
    "NEG_LABEL = \"no\"\n",
    "\n",
    "def compute_metrics(p, tokenizer):\n",
    "    string_preds = tokenizer.batch_decode(p.predictions, skip_special_tokens=True)\n",
    "    int_preds = [1 if prediction == POS_LABEL else 0 for prediction in string_preds]\n",
    "\n",
    "    labels = np.where(p.label_ids != -100, p.label_ids, tokenizer.pad_token_id)\n",
    "    string_labels = tokenizer.batch_decode(labels, skip_special_tokens=True)\n",
    "    int_labels = []\n",
    "\n",
    "    for string_label in string_labels:\n",
    "        if string_label == POS_LABEL:\n",
    "            int_labels.append(1)\n",
    "        elif string_label == NEG_LABEL or string_label == \"\":  # second case accounts for test data\n",
    "            int_labels.append(0)\n",
    "        else:\n",
    "            raise ValueError()\n",
    "\n",
    "    acc_result = ACCURACY.compute(predictions=int_preds, references=int_labels)\n",
    "    result = {\"accuracy\": acc_result[\"accuracy\"],}\n",
    "\n",
    "    return result\n",
    "\n",
    "def preprocess_examples(examples, tokenizer):\n",
    "    result = tokenizer(examples[\"sentence\"], padding=False)\n",
    "\n",
    "    if \"acceptable\" in examples:\n",
    "        label_sequences = []\n",
    "        for label in examples[\"acceptable\"]:\n",
    "            if label == 1:\n",
    "                target_sequence = POS_LABEL\n",
    "            elif label == 0:\n",
    "                target_sequence = NEG_LABEL\n",
    "            else:\n",
    "                raise ValueError(\"Unknown class label\")\n",
    "            label_sequences.append(target_sequence)\n",
    "    else:\n",
    "        # a hack to avoid the \"You have to specify either decoder_input_ids or decoder_inputs_embeds\" error\n",
    "        # for test data\n",
    "        label_sequences = [\"\" for _ in examples[\"sentence\"]]\n",
    "\n",
    "    result[\"labels\"] = tokenizer(label_sequences, padding=False)[\"input_ids\"]\n",
    "    result[\"length\"] = [len(list(tokenize(sentence))) for sentence in examples[\"sentence\"]]\n",
    "    return result\n",
    "\n",
    "def read_splits(as_datasets=False):\n",
    "    if as_datasets:\n",
    "        train_dfset = Dataset.from_pandas(train_df)\n",
    "        dev_dataset = Dataset.from_pandas(dev_df)\n",
    "        return {\"train\": train_dfset, \"dev\": dev_dataset}\n",
    "    else:\n",
    "        return train_df, dev_df\n",
    "\n",
    "model_name = \"t5-base\"  # или \"t5-large\"\n",
    "\n",
    "tokenizer = T5Tokenizer.from_pretrained(MODEL_TO_HUB_NAME[model_name])\n",
    "splits = read_splits(as_datasets=True)\n",
    "\n",
    "# Применение функции preprocess_examples к каждому элементу словаря\n",
    "tokenized_splits = {\n",
    "    key: value.map(partial(preprocess_examples, tokenizer=tokenizer), batched=True, remove_columns=[\"sentence\"])\n",
    "    for key, value in splits.items()\n",
    "}\n",
    "\n",
    "data_collator = DataCollatorForSeq2Seq(tokenizer, pad_to_multiple_of=8)\n",
    "\n",
    "model = T5ForConditionalGeneration.from_pretrained(MODEL_TO_HUB_NAME[model_name])\n",
    "\n",
    "run_base_dir = f\"{model_name}_{LEARNING_RATE}_{WEIGHT_DECAY}_{BATCH_SIZE}\"\n",
    "\n",
    "training_args = Seq2SeqTrainingArguments(\n",
    "    output_dir=f\"checkpoints/{run_base_dir}\",\n",
    "    overwrite_output_dir=True,\n",
    "    evaluation_strategy=\"epoch\",\n",
    "    per_device_train_batch_size=BATCH_SIZE,\n",
    "    per_device_eval_batch_size=BATCH_SIZE,\n",
    "    learning_rate=LEARNING_RATE,\n",
    "    weight_decay=WEIGHT_DECAY,\n",
    "    num_train_epochs=N_EPOCHS,\n",
    "    lr_scheduler_type=\"constant\",\n",
    "    save_strategy=\"epoch\",\n",
    "    save_total_limit=1,\n",
    "    seed=SEED,\n",
    "    fp16=True,\n",
    "    dataloader_num_workers=4,\n",
    "    group_by_length=True,\n",
    "    report_to=\"none\",\n",
    "    load_best_model_at_end=True,\n",
    "    optim=\"adafactor\",\n",
    "    predict_with_generate=True,\n",
    ")\n",
    "\n",
    "trainer = Seq2SeqTrainer(\n",
    "    model=model,\n",
    "    args=training_args,\n",
    "    train_dataset=tokenized_splits[\"train\"],\n",
    "    eval_dataset=tokenized_splits[\"dev\"],\n",
    "    compute_metrics=partial(compute_metrics, tokenizer=tokenizer),\n",
    "    tokenizer=tokenizer,\n",
    "    data_collator=data_collator,\n",
    ")\n",
    "\n",
    "train_result = trainer.train()\n",
    "print(f\"{run_base_dir}_{SEED}\")\n",
    "print(\"train\", train_result.metrics)\n",
    "\n",
    "os.makedirs(f\"results/{run_base_dir}_{SEED}\", exist_ok=True)\n",
    "\n",
    "dev_predictions = trainer.predict(\n",
    "    test_dataset=tokenized_splits[\"dev\"], metric_key_prefix=\"test\", max_length=10\n",
    ")\n",
    "print(\"dev\", dev_predictions.metrics)\n",
    "\n",
    "predictions = trainer.predict(test_dataset=tokenized_splits[\"dev\"], max_length=10)\n",
    "\n",
    "string_preds = tokenizer.batch_decode(predictions.predictions, skip_special_tokens=True)\n",
    "\n",
    "int_preds = [1 if prediction == POS_LABEL else 0 for prediction in string_preds]\n",
    "int_preds = np.asarray(int_preds)\n",
    "\n",
    "np.save(f\"results/{run_base_dir}_{SEED}/preds.npy\", int_preds)\n",
    "\n",
    "rmtree(f\"checkpoints/{run_base_dir}\")\n",
    "\n",
    "os.makedirs(\"results_agg\", exist_ok=True)\n",
    "np.save(f\"results_agg/{model_name}_dev.npy\", np.array([[dev_predictions.metrics[\"test_accuracy\"],]]))"
   ]
  },
  {
   "cell_type": "markdown",
   "id": "ecadc362-f789-44fd-9b39-b9b5ae7404ef",
   "metadata": {},
   "source": [
    "<b>Результаты.</b>"
   ]
  },
  {
   "cell_type": "code",
   "execution_count": 10,
   "id": "57060299-f141-4a1a-b8de-a700b03092c3",
   "metadata": {},
   "outputs": [
    {
     "data": {
      "text/html": [
       "<div>\n",
       "<style scoped>\n",
       "    .dataframe tbody tr th:only-of-type {\n",
       "        vertical-align: middle;\n",
       "    }\n",
       "\n",
       "    .dataframe tbody tr th {\n",
       "        vertical-align: top;\n",
       "    }\n",
       "\n",
       "    .dataframe thead th {\n",
       "        text-align: right;\n",
       "    }\n",
       "</style>\n",
       "<table border=\"1\" class=\"dataframe\">\n",
       "  <thead>\n",
       "    <tr style=\"text-align: right;\">\n",
       "      <th></th>\n",
       "      <th>Model</th>\n",
       "      <th>Loss</th>\n",
       "      <th>Accuracy</th>\n",
       "    </tr>\n",
       "  </thead>\n",
       "  <tbody>\n",
       "    <tr>\n",
       "      <th>0</th>\n",
       "      <td>RuBert</td>\n",
       "      <td>0.5788</td>\n",
       "      <td>0.8022</td>\n",
       "    </tr>\n",
       "    <tr>\n",
       "      <th>1</th>\n",
       "      <td>RuGPT3</td>\n",
       "      <td>1.1302</td>\n",
       "      <td>0.7578</td>\n",
       "    </tr>\n",
       "    <tr>\n",
       "      <th>2</th>\n",
       "      <td>RuT5</td>\n",
       "      <td>0.1978</td>\n",
       "      <td>0.7778</td>\n",
       "    </tr>\n",
       "  </tbody>\n",
       "</table>\n",
       "</div>"
      ],
      "text/plain": [
       "    Model    Loss  Accuracy\n",
       "0  RuBert  0.5788    0.8022\n",
       "1  RuGPT3  1.1302    0.7578\n",
       "2    RuT5  0.1978    0.7778"
      ]
     },
     "execution_count": 10,
     "metadata": {},
     "output_type": "execute_result"
    }
   ],
   "source": [
    "import pandas as pd\n",
    "result = {\n",
    "    'Model': ['RuBert', 'RuGPT3', 'RuT5'],\n",
    "    'Loss': [0.5788, 1.1302, 0.1978],\n",
    "    'Accuracy': [0.8022, 0.7578, 0.7778]\n",
    "}\n",
    "\n",
    "df_result = pd.DataFrame(result)\n",
    "df_result"
   ]
  },
  {
   "cell_type": "markdown",
   "id": "3e61a0da-b527-4297-a29d-ad4af0ecb057",
   "metadata": {},
   "source": [
    "<b>RuBert:</b> Модель RuBert демонстрирует хорошее значение accuracy (80.22%) при сравнительно невысоком значении loss (0.5788). Это указывает на то, что модель хорошо справляется с задачей, обеспечивая хорошее качество предсказаний.\n",
    "<br><b>RuGPT3:</b> Модель RuGPT3 имеет наибольшее значение loss (1.1302) среди всех моделей, что указывает на большую степень ошибок в предсказаниях. Значение accuracy (75.78%) также самое низкое, что говорит о том, что RuGPT3 работает хуже по сравнению с другими моделями в данном контексте.\n",
    "<br><b>RuT5:</b> Модель RuT5 показывает самое низкое значение loss (0.1978), что свидетельствует о минимальных ошибках в предсказаниях. Однако значение accuracy (77.78%) ниже, чем у RuBert, но выше, чем у RuGPT3. Это указывает на то, что RuT5 делает меньше ошибок, но может не так хорошо улавливать паттерны данных, как RuBert."
   ]
  },
  {
   "cell_type": "markdown",
   "id": "66590c93-cd6f-48a9-a5fb-7882e3a5fc2e",
   "metadata": {},
   "source": [
    "<b>Общие выводы:</b>\n",
    "* RuBert и RuT5 показывают лучшие результаты по сравнению с RuGPT3.\n",
    "* RuBert демонстрирует наилучший баланс между низким значением loss и высоким значением accuracy, что делает его наиболее предпочтительной моделью из трёх для данной задачи.\n",
    "* RuT5 имеет наименьшее значение loss, что говорит о высокой точности предсказаний, но немного уступает RuBert в общем качестве.\n",
    "* RuGPT3 показывает наихудшие результаты по обоим параметрам, что указывает на необходимость улучшений или замены модели для достижения лучших результатов."
   ]
  }
 ],
 "metadata": {
  "kernelspec": {
   "display_name": "Python 3 (ipykernel)",
   "language": "python",
   "name": "python3"
  },
  "language_info": {
   "codemirror_mode": {
    "name": "ipython",
    "version": 3
   },
   "file_extension": ".py",
   "mimetype": "text/x-python",
   "name": "python",
   "nbconvert_exporter": "python",
   "pygments_lexer": "ipython3",
   "version": "3.11.9"
  }
 },
 "nbformat": 4,
 "nbformat_minor": 5
}
