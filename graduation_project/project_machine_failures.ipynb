{
 "cells": [
  {
   "cell_type": "markdown",
   "id": "f2b039b3",
   "metadata": {},
   "source": [
    "# Прогнозирование отказов фрезерного станка"
   ]
  },
  {
   "cell_type": "markdown",
   "id": "1b765aae",
   "metadata": {},
   "source": [
    "<b>Цель.</b> Разработать модель машинного обучения, которая будет прогнозировать отказы оборудования, что позволит:\n",
    " * увеличить производственную эффективность за счёт своевременного проведения профилактической работы,\n",
    "что способствует снижению временных простоев и увеличению общей производительности оборудования,\n",
    " * повысить качество продукции за счёт минимизации дефектов, вызванных нештатной работой оборудования,\n",
    " * улучшить безопасность за счёт предотвращения возможных аварийных ситуаций."
   ]
  },
  {
   "cell_type": "markdown",
   "id": "5db566d4",
   "metadata": {},
   "source": [
    "# Краткое описание проекта"
   ]
  },
  {
   "cell_type": "markdown",
   "id": "38f9ff4f",
   "metadata": {},
   "source": [
    "В ходе выполнения проекта:\n",
    "</br>1. Провёл анализ датасета: проанализировал объём данных и его качество, выявил и обработал ошибки в данных.\n",
    "</br>2. Построил графики (выполнил EDA). Нашёл данные, имеющие высокую корреляцию. Обнаружил сильный дисбаланс в данных.\n",
    "</br>3. Для обучения модели применил стандартизацию данных StandardScaler(), stratify ддя корректного разбиения данных, технику балансировки over-sampling для синтетического увеличения примеров в меньшем классе.\n",
    "</br>4. Обучил несколько моделей ('Логистическая регрессия', 'Метод ближайших соседей', 'Дерево решений', 'Случайны лес', 'Градиентный бустинг') и сравнил получившиеся метрики качества (Accuracy, Precision, Recall, F1-Score, ROC-AUC).\n",
    "</br>5. Попробовал обучиться модели с предварительной настройкой гиперпараметров, что не привело к значительным улучшением моделей."
   ]
  },
  {
   "cell_type": "markdown",
   "id": "d705fafe",
   "metadata": {},
   "source": [
    "# Выполнение проекта"
   ]
  },
  {
   "cell_type": "markdown",
   "id": "a8f23cf1",
   "metadata": {},
   "source": [
    "1. Импортируем основные библиотеки."
   ]
  },
  {
   "cell_type": "code",
   "execution_count": 1,
   "id": "d31a372e",
   "metadata": {},
   "outputs": [],
   "source": [
    "import seaborn as sns\n",
    "import pandas as pd\n",
    "import numpy as np\n",
    "import matplotlib.pyplot as plt\n",
    "from sklearn.model_selection import train_test_split, GridSearchCV\n",
    "from sklearn.preprocessing import StandardScaler\n",
    "from sklearn.metrics import accuracy_score, precision_score, recall_score, f1_score, roc_auc_score\n",
    "from sklearn.linear_model import LogisticRegression\n",
    "from sklearn.neighbors import KNeighborsClassifier\n",
    "from sklearn.tree import DecisionTreeClassifier\n",
    "from sklearn.ensemble import RandomForestClassifier\n",
    "from imblearn.over_sampling import SMOTE\n",
    "from lightgbm import LGBMClassifier"
   ]
  },
  {
   "cell_type": "markdown",
   "id": "823c3157",
   "metadata": {},
   "source": [
    "2. Считываем данные из CSV-файла. Выводим первые 5 строк, чтобы убедиться, что данные считались с локального файла."
   ]
  },
  {
   "cell_type": "code",
   "execution_count": 2,
   "id": "3db85b17",
   "metadata": {},
   "outputs": [
    {
     "data": {
      "text/html": [
       "<div>\n",
       "<style scoped>\n",
       "    .dataframe tbody tr th:only-of-type {\n",
       "        vertical-align: middle;\n",
       "    }\n",
       "\n",
       "    .dataframe tbody tr th {\n",
       "        vertical-align: top;\n",
       "    }\n",
       "\n",
       "    .dataframe thead th {\n",
       "        text-align: right;\n",
       "    }\n",
       "</style>\n",
       "<table border=\"1\" class=\"dataframe\">\n",
       "  <thead>\n",
       "    <tr style=\"text-align: right;\">\n",
       "      <th></th>\n",
       "      <th>UDI</th>\n",
       "      <th>Product ID</th>\n",
       "      <th>Type</th>\n",
       "      <th>Air temperature [K]</th>\n",
       "      <th>Process temperature [K]</th>\n",
       "      <th>Rotational speed [rpm]</th>\n",
       "      <th>Torque [Nm]</th>\n",
       "      <th>Tool wear [min]</th>\n",
       "      <th>Machine failure</th>\n",
       "      <th>TWF</th>\n",
       "      <th>HDF</th>\n",
       "      <th>PWF</th>\n",
       "      <th>OSF</th>\n",
       "      <th>RNF</th>\n",
       "    </tr>\n",
       "  </thead>\n",
       "  <tbody>\n",
       "    <tr>\n",
       "      <th>0</th>\n",
       "      <td>1</td>\n",
       "      <td>M14860</td>\n",
       "      <td>M</td>\n",
       "      <td>298.1</td>\n",
       "      <td>308.6</td>\n",
       "      <td>1551</td>\n",
       "      <td>42.8</td>\n",
       "      <td>0</td>\n",
       "      <td>0</td>\n",
       "      <td>0</td>\n",
       "      <td>0</td>\n",
       "      <td>0</td>\n",
       "      <td>0</td>\n",
       "      <td>0</td>\n",
       "    </tr>\n",
       "    <tr>\n",
       "      <th>1</th>\n",
       "      <td>2</td>\n",
       "      <td>L47181</td>\n",
       "      <td>L</td>\n",
       "      <td>298.2</td>\n",
       "      <td>308.7</td>\n",
       "      <td>1408</td>\n",
       "      <td>46.3</td>\n",
       "      <td>3</td>\n",
       "      <td>0</td>\n",
       "      <td>0</td>\n",
       "      <td>0</td>\n",
       "      <td>0</td>\n",
       "      <td>0</td>\n",
       "      <td>0</td>\n",
       "    </tr>\n",
       "    <tr>\n",
       "      <th>2</th>\n",
       "      <td>3</td>\n",
       "      <td>L47182</td>\n",
       "      <td>L</td>\n",
       "      <td>298.1</td>\n",
       "      <td>308.5</td>\n",
       "      <td>1498</td>\n",
       "      <td>49.4</td>\n",
       "      <td>5</td>\n",
       "      <td>0</td>\n",
       "      <td>0</td>\n",
       "      <td>0</td>\n",
       "      <td>0</td>\n",
       "      <td>0</td>\n",
       "      <td>0</td>\n",
       "    </tr>\n",
       "    <tr>\n",
       "      <th>3</th>\n",
       "      <td>4</td>\n",
       "      <td>L47183</td>\n",
       "      <td>L</td>\n",
       "      <td>298.2</td>\n",
       "      <td>308.6</td>\n",
       "      <td>1433</td>\n",
       "      <td>39.5</td>\n",
       "      <td>7</td>\n",
       "      <td>0</td>\n",
       "      <td>0</td>\n",
       "      <td>0</td>\n",
       "      <td>0</td>\n",
       "      <td>0</td>\n",
       "      <td>0</td>\n",
       "    </tr>\n",
       "    <tr>\n",
       "      <th>4</th>\n",
       "      <td>5</td>\n",
       "      <td>L47184</td>\n",
       "      <td>L</td>\n",
       "      <td>298.2</td>\n",
       "      <td>308.7</td>\n",
       "      <td>1408</td>\n",
       "      <td>40.0</td>\n",
       "      <td>9</td>\n",
       "      <td>0</td>\n",
       "      <td>0</td>\n",
       "      <td>0</td>\n",
       "      <td>0</td>\n",
       "      <td>0</td>\n",
       "      <td>0</td>\n",
       "    </tr>\n",
       "  </tbody>\n",
       "</table>\n",
       "</div>"
      ],
      "text/plain": [
       "   UDI Product ID Type  Air temperature [K]  Process temperature [K]  \\\n",
       "0    1     M14860    M                298.1                    308.6   \n",
       "1    2     L47181    L                298.2                    308.7   \n",
       "2    3     L47182    L                298.1                    308.5   \n",
       "3    4     L47183    L                298.2                    308.6   \n",
       "4    5     L47184    L                298.2                    308.7   \n",
       "\n",
       "   Rotational speed [rpm]  Torque [Nm]  Tool wear [min]  Machine failure  TWF  \\\n",
       "0                    1551         42.8                0                0    0   \n",
       "1                    1408         46.3                3                0    0   \n",
       "2                    1498         49.4                5                0    0   \n",
       "3                    1433         39.5                7                0    0   \n",
       "4                    1408         40.0                9                0    0   \n",
       "\n",
       "   HDF  PWF  OSF  RNF  \n",
       "0    0    0    0    0  \n",
       "1    0    0    0    0  \n",
       "2    0    0    0    0  \n",
       "3    0    0    0    0  \n",
       "4    0    0    0    0  "
      ]
     },
     "execution_count": 2,
     "metadata": {},
     "output_type": "execute_result"
    }
   ],
   "source": [
    "df = pd.read_csv('ai4i2020.csv')\n",
    "pd.set_option('display.max_columns', None)\n",
    "df.head()"
   ]
  },
  {
   "cell_type": "markdown",
   "id": "e42b79ab",
   "metadata": {},
   "source": [
    "Целевая переменная - <b>Machine failure</b> (метка «сбой машины», которая указывает, верен ли сбой машины в этой конкретной точке данных).\n",
    "\n",
    "Приведём описание признаков:\n",
    " * <b>UDI</b> - уникальный идентификатор в диапазоне от 1 до 10000.\n",
    " * <b>Product ID</b> - маркировка качества и серийный номер.\n",
    " * <b>Type</b> - маркировка качества, L, M или H для низкого (50 % всех продуктов), среднего (30 %) и высокого (20 %) качества.\n",
    " * <b>Air temperature [K]</b> - температура воздуха [К].\n",
    " * <b>Process temperature [K]</b> - температура процесса [К].\n",
    " * <b>Rotational speed [rpm]</b> - скорость вращения [об/мин]: рассчитано на основе мощности 2860 Вт с наложением нормально распределённого шума.\n",
    " * <b>Torque [Nm]</b> - крутящий момент [Нм], значения крутящего момента обычно распределяются в районе 40 Нм с SD = 10 Нм и без отрицательных значений.\n",
    " * <b>Tool wear [min]</b> - износ инструмента [мин], варианты качества H/M/L увеличивают износ инструмента, используемого в процессе, на 5/3/2 минуты.\n",
    " * <b>TWF</b> - тип отказа, отказ из-за износа инструмента.\n",
    " * <b>HDF</b> - тип отказа, нарушение отвода тепла.\n",
    " * <b>PWF</b> - тип отказа, сбой мощности.\n",
    " * <b>OSF</b> - тип отказа, отказ от перенапряжения.\n",
    " * <b>RNF</b> - тип отказа, случайные сбои."
   ]
  },
  {
   "cell_type": "markdown",
   "id": "1a5405dc",
   "metadata": {},
   "source": [
    "Для удобства заменим заголовки в датасете."
   ]
  },
  {
   "cell_type": "code",
   "execution_count": 3,
   "id": "e69e266b",
   "metadata": {},
   "outputs": [],
   "source": [
    "# Словарь с новыми названиями заголовков\n",
    "new_column_names = {\n",
    "    'Type': 'type', # Маркировка качества\n",
    "    'Air temperature [K]': 'temp_air', # Температура воздуха [K]\n",
    "    'Process temperature [K]': 'temp_proc', # Температура процесса [K]\n",
    "    'Rotational speed [rpm]': 'spd_rotat', # Скорость вращения [об/мин]\n",
    "    'Torque [Nm]': 'torque', # Крутящий момент [Нм]\n",
    "    'Tool wear [min]': 'wear_tool', # Износ инструмента [мин]\n",
    "    'Machine failure': 'target', # Отказ\n",
    "}\n",
    "\n",
    "# Замена названий столбцов\n",
    "df = df.rename(columns=new_column_names)"
   ]
  },
  {
   "cell_type": "markdown",
   "id": "6a91c523",
   "metadata": {},
   "source": [
    "3. Посмотрим на количество записей в файле."
   ]
  },
  {
   "cell_type": "code",
   "execution_count": 4,
   "id": "6bc71864",
   "metadata": {},
   "outputs": [
    {
     "data": {
      "text/plain": [
       "(10000, 14)"
      ]
     },
     "execution_count": 4,
     "metadata": {},
     "output_type": "execute_result"
    }
   ],
   "source": [
    "df.shape"
   ]
  },
  {
   "cell_type": "markdown",
   "id": "e2c1e7ff",
   "metadata": {},
   "source": [
    "4. Посмотрим, какого типа эти данные:"
   ]
  },
  {
   "cell_type": "code",
   "execution_count": 5,
   "id": "d7a2f2ad",
   "metadata": {},
   "outputs": [
    {
     "name": "stdout",
     "output_type": "stream",
     "text": [
      "<class 'pandas.core.frame.DataFrame'>\n",
      "RangeIndex: 10000 entries, 0 to 9999\n",
      "Data columns (total 14 columns):\n",
      " #   Column      Non-Null Count  Dtype  \n",
      "---  ------      --------------  -----  \n",
      " 0   UDI         10000 non-null  int64  \n",
      " 1   Product ID  10000 non-null  object \n",
      " 2   type        10000 non-null  object \n",
      " 3   temp_air    10000 non-null  float64\n",
      " 4   temp_proc   10000 non-null  float64\n",
      " 5   spd_rotat   10000 non-null  int64  \n",
      " 6   torque      10000 non-null  float64\n",
      " 7   wear_tool   10000 non-null  int64  \n",
      " 8   target      10000 non-null  int64  \n",
      " 9   TWF         10000 non-null  int64  \n",
      " 10  HDF         10000 non-null  int64  \n",
      " 11  PWF         10000 non-null  int64  \n",
      " 12  OSF         10000 non-null  int64  \n",
      " 13  RNF         10000 non-null  int64  \n",
      "dtypes: float64(3), int64(9), object(2)\n",
      "memory usage: 1.1+ MB\n"
     ]
    }
   ],
   "source": [
    "df.info()"
   ]
  },
  {
   "cell_type": "markdown",
   "id": "16b86d96",
   "metadata": {},
   "source": [
    "Видим, что пропущенные значения отсутствуют. Есть категориальные признаки."
   ]
  },
  {
   "cell_type": "code",
   "execution_count": 6,
   "id": "3a37e76f",
   "metadata": {},
   "outputs": [
    {
     "data": {
      "text/plain": [
       "UDI           10000\n",
       "Product ID    10000\n",
       "type              3\n",
       "temp_air         93\n",
       "temp_proc        82\n",
       "spd_rotat       941\n",
       "torque          577\n",
       "wear_tool       246\n",
       "target            2\n",
       "TWF               2\n",
       "HDF               2\n",
       "PWF               2\n",
       "OSF               2\n",
       "RNF               2\n",
       "dtype: int64"
      ]
     },
     "execution_count": 6,
     "metadata": {},
     "output_type": "execute_result"
    }
   ],
   "source": [
    "# Просмотр количества уникальных записей для каждого признака\n",
    "df.apply(lambda x: x.nunique())"
   ]
  },
  {
   "cell_type": "markdown",
   "id": "b774f192",
   "metadata": {},
   "source": [
    "5. Уберём из датасета уникальные значения UDI и Product ID."
   ]
  },
  {
   "cell_type": "code",
   "execution_count": 7,
   "id": "0f6e34d9",
   "metadata": {},
   "outputs": [
    {
     "data": {
      "text/html": [
       "<div>\n",
       "<style scoped>\n",
       "    .dataframe tbody tr th:only-of-type {\n",
       "        vertical-align: middle;\n",
       "    }\n",
       "\n",
       "    .dataframe tbody tr th {\n",
       "        vertical-align: top;\n",
       "    }\n",
       "\n",
       "    .dataframe thead th {\n",
       "        text-align: right;\n",
       "    }\n",
       "</style>\n",
       "<table border=\"1\" class=\"dataframe\">\n",
       "  <thead>\n",
       "    <tr style=\"text-align: right;\">\n",
       "      <th></th>\n",
       "      <th>type</th>\n",
       "      <th>temp_air</th>\n",
       "      <th>temp_proc</th>\n",
       "      <th>spd_rotat</th>\n",
       "      <th>torque</th>\n",
       "      <th>wear_tool</th>\n",
       "      <th>target</th>\n",
       "      <th>TWF</th>\n",
       "      <th>HDF</th>\n",
       "      <th>PWF</th>\n",
       "      <th>OSF</th>\n",
       "      <th>RNF</th>\n",
       "    </tr>\n",
       "  </thead>\n",
       "  <tbody>\n",
       "    <tr>\n",
       "      <th>0</th>\n",
       "      <td>M</td>\n",
       "      <td>298.1</td>\n",
       "      <td>308.6</td>\n",
       "      <td>1551</td>\n",
       "      <td>42.8</td>\n",
       "      <td>0</td>\n",
       "      <td>0</td>\n",
       "      <td>0</td>\n",
       "      <td>0</td>\n",
       "      <td>0</td>\n",
       "      <td>0</td>\n",
       "      <td>0</td>\n",
       "    </tr>\n",
       "    <tr>\n",
       "      <th>1</th>\n",
       "      <td>L</td>\n",
       "      <td>298.2</td>\n",
       "      <td>308.7</td>\n",
       "      <td>1408</td>\n",
       "      <td>46.3</td>\n",
       "      <td>3</td>\n",
       "      <td>0</td>\n",
       "      <td>0</td>\n",
       "      <td>0</td>\n",
       "      <td>0</td>\n",
       "      <td>0</td>\n",
       "      <td>0</td>\n",
       "    </tr>\n",
       "    <tr>\n",
       "      <th>2</th>\n",
       "      <td>L</td>\n",
       "      <td>298.1</td>\n",
       "      <td>308.5</td>\n",
       "      <td>1498</td>\n",
       "      <td>49.4</td>\n",
       "      <td>5</td>\n",
       "      <td>0</td>\n",
       "      <td>0</td>\n",
       "      <td>0</td>\n",
       "      <td>0</td>\n",
       "      <td>0</td>\n",
       "      <td>0</td>\n",
       "    </tr>\n",
       "    <tr>\n",
       "      <th>3</th>\n",
       "      <td>L</td>\n",
       "      <td>298.2</td>\n",
       "      <td>308.6</td>\n",
       "      <td>1433</td>\n",
       "      <td>39.5</td>\n",
       "      <td>7</td>\n",
       "      <td>0</td>\n",
       "      <td>0</td>\n",
       "      <td>0</td>\n",
       "      <td>0</td>\n",
       "      <td>0</td>\n",
       "      <td>0</td>\n",
       "    </tr>\n",
       "    <tr>\n",
       "      <th>4</th>\n",
       "      <td>L</td>\n",
       "      <td>298.2</td>\n",
       "      <td>308.7</td>\n",
       "      <td>1408</td>\n",
       "      <td>40.0</td>\n",
       "      <td>9</td>\n",
       "      <td>0</td>\n",
       "      <td>0</td>\n",
       "      <td>0</td>\n",
       "      <td>0</td>\n",
       "      <td>0</td>\n",
       "      <td>0</td>\n",
       "    </tr>\n",
       "  </tbody>\n",
       "</table>\n",
       "</div>"
      ],
      "text/plain": [
       "  type  temp_air  temp_proc  spd_rotat  torque  wear_tool  target  TWF  HDF  \\\n",
       "0    M     298.1      308.6       1551    42.8          0       0    0    0   \n",
       "1    L     298.2      308.7       1408    46.3          3       0    0    0   \n",
       "2    L     298.1      308.5       1498    49.4          5       0    0    0   \n",
       "3    L     298.2      308.6       1433    39.5          7       0    0    0   \n",
       "4    L     298.2      308.7       1408    40.0          9       0    0    0   \n",
       "\n",
       "   PWF  OSF  RNF  \n",
       "0    0    0    0  \n",
       "1    0    0    0  \n",
       "2    0    0    0  \n",
       "3    0    0    0  \n",
       "4    0    0    0  "
      ]
     },
     "execution_count": 7,
     "metadata": {},
     "output_type": "execute_result"
    }
   ],
   "source": [
    "# Удаление признаков\n",
    "columns_to_drop = ['UDI', 'Product ID']\n",
    "df = df.drop(columns=columns_to_drop, axis=1)\n",
    "\n",
    "# Вывод обновленного датасета\n",
    "df.head()"
   ]
  },
  {
   "cell_type": "markdown",
   "id": "d79ea274",
   "metadata": {},
   "source": [
    "# EDA"
   ]
  },
  {
   "cell_type": "markdown",
   "id": "9c1518a0",
   "metadata": {},
   "source": [
    "1. Посмотрим на соотношение значений целевой переменной."
   ]
  },
  {
   "cell_type": "code",
   "execution_count": 8,
   "id": "dea92273",
   "metadata": {},
   "outputs": [
    {
     "data": {
      "image/png": "[encoded data removed]",
      "text/plain": [
       "<Figure size 640x480 with 1 Axes>"
      ]
     },
     "metadata": {},
     "output_type": "display_data"
    }
   ],
   "source": [
    "# Создаем столбчатую диаграмму\n",
    "fig, ax = plt.subplots()\n",
    "target_value_counts = df['target'].value_counts().sort_index()\n",
    "ax.bar(target_value_counts.index, target_value_counts, color=['lightgreen', 'red'])\n",
    "\n",
    "# Настроим ось x для отображения только значений 0 и 1\n",
    "ax.set_xticks([0, 1])\n",
    "ax.set_xticklabels([0, 1])\n",
    "\n",
    "# Настройка заголовка и осей\n",
    "plt.title('Соотношение значений целевой переменной')\n",
    "plt.xlabel('Значение целевой переменной')\n",
    "plt.ylabel('Количество')\n",
    "\n",
    "# Добавим числовые значения на график\n",
    "for i, value in enumerate(target_value_counts):\n",
    "    plt.text(i, value, str(value), ha='center', va='bottom')\n",
    "\n",
    "# Отображаем график\n",
    "plt.show()"
   ]
  },
  {
   "cell_type": "markdown",
   "id": "243af802",
   "metadata": {},
   "source": [
    "Видим, что число отказов значительно меньше случаев нормальной работы, т.е. целевая переменная сильно несбалансирована.\n",
    "</br>1. Это потребует от нас соответсвующего распределения данных при тестировании и обучении.\n",
    "</br>2. Так же потребуется применять алгоритмы машинного обучения, обладающие встроенной устойчивостью к дисбалансу классов,\n",
    "такие как алгоритмы случайного леса и градиентного бустинга.\n",
    "</br>3. Кроме того будем использовать метрики, учитывающие дисбаланс классов, такие как recall, ROC-AUC."
   ]
  },
  {
   "cell_type": "markdown",
   "id": "706001fc",
   "metadata": {},
   "source": [
    "2. Проверим данные на корректность соответсвия отказа и типа отказа."
   ]
  },
  {
   "cell_type": "code",
   "execution_count": 9,
   "id": "d59fb4dc",
   "metadata": {},
   "outputs": [
    {
     "data": {
      "text/html": [
       "<div>\n",
       "<style scoped>\n",
       "    .dataframe tbody tr th:only-of-type {\n",
       "        vertical-align: middle;\n",
       "    }\n",
       "\n",
       "    .dataframe tbody tr th {\n",
       "        vertical-align: top;\n",
       "    }\n",
       "\n",
       "    .dataframe thead th {\n",
       "        text-align: right;\n",
       "    }\n",
       "</style>\n",
       "<table border=\"1\" class=\"dataframe\">\n",
       "  <thead>\n",
       "    <tr style=\"text-align: right;\">\n",
       "      <th></th>\n",
       "      <th>type</th>\n",
       "      <th>temp_air</th>\n",
       "      <th>temp_proc</th>\n",
       "      <th>spd_rotat</th>\n",
       "      <th>torque</th>\n",
       "      <th>wear_tool</th>\n",
       "      <th>target</th>\n",
       "      <th>TWF</th>\n",
       "      <th>HDF</th>\n",
       "      <th>PWF</th>\n",
       "      <th>OSF</th>\n",
       "      <th>RNF</th>\n",
       "      <th>type_target</th>\n",
       "    </tr>\n",
       "  </thead>\n",
       "  <tbody>\n",
       "    <tr>\n",
       "      <th>0</th>\n",
       "      <td>M</td>\n",
       "      <td>298.1</td>\n",
       "      <td>308.6</td>\n",
       "      <td>1551</td>\n",
       "      <td>42.8</td>\n",
       "      <td>0</td>\n",
       "      <td>0</td>\n",
       "      <td>0</td>\n",
       "      <td>0</td>\n",
       "      <td>0</td>\n",
       "      <td>0</td>\n",
       "      <td>0</td>\n",
       "      <td>0</td>\n",
       "    </tr>\n",
       "    <tr>\n",
       "      <th>1</th>\n",
       "      <td>L</td>\n",
       "      <td>298.2</td>\n",
       "      <td>308.7</td>\n",
       "      <td>1408</td>\n",
       "      <td>46.3</td>\n",
       "      <td>3</td>\n",
       "      <td>0</td>\n",
       "      <td>0</td>\n",
       "      <td>0</td>\n",
       "      <td>0</td>\n",
       "      <td>0</td>\n",
       "      <td>0</td>\n",
       "      <td>0</td>\n",
       "    </tr>\n",
       "    <tr>\n",
       "      <th>2</th>\n",
       "      <td>L</td>\n",
       "      <td>298.1</td>\n",
       "      <td>308.5</td>\n",
       "      <td>1498</td>\n",
       "      <td>49.4</td>\n",
       "      <td>5</td>\n",
       "      <td>0</td>\n",
       "      <td>0</td>\n",
       "      <td>0</td>\n",
       "      <td>0</td>\n",
       "      <td>0</td>\n",
       "      <td>0</td>\n",
       "      <td>0</td>\n",
       "    </tr>\n",
       "    <tr>\n",
       "      <th>3</th>\n",
       "      <td>L</td>\n",
       "      <td>298.2</td>\n",
       "      <td>308.6</td>\n",
       "      <td>1433</td>\n",
       "      <td>39.5</td>\n",
       "      <td>7</td>\n",
       "      <td>0</td>\n",
       "      <td>0</td>\n",
       "      <td>0</td>\n",
       "      <td>0</td>\n",
       "      <td>0</td>\n",
       "      <td>0</td>\n",
       "      <td>0</td>\n",
       "    </tr>\n",
       "    <tr>\n",
       "      <th>4</th>\n",
       "      <td>L</td>\n",
       "      <td>298.2</td>\n",
       "      <td>308.7</td>\n",
       "      <td>1408</td>\n",
       "      <td>40.0</td>\n",
       "      <td>9</td>\n",
       "      <td>0</td>\n",
       "      <td>0</td>\n",
       "      <td>0</td>\n",
       "      <td>0</td>\n",
       "      <td>0</td>\n",
       "      <td>0</td>\n",
       "      <td>0</td>\n",
       "    </tr>\n",
       "  </tbody>\n",
       "</table>\n",
       "</div>"
      ],
      "text/plain": [
       "  type  temp_air  temp_proc  spd_rotat  torque  wear_tool  target  TWF  HDF  \\\n",
       "0    M     298.1      308.6       1551    42.8          0       0    0    0   \n",
       "1    L     298.2      308.7       1408    46.3          3       0    0    0   \n",
       "2    L     298.1      308.5       1498    49.4          5       0    0    0   \n",
       "3    L     298.2      308.6       1433    39.5          7       0    0    0   \n",
       "4    L     298.2      308.7       1408    40.0          9       0    0    0   \n",
       "\n",
       "   PWF  OSF  RNF  type_target  \n",
       "0    0    0    0            0  \n",
       "1    0    0    0            0  \n",
       "2    0    0    0            0  \n",
       "3    0    0    0            0  \n",
       "4    0    0    0            0  "
      ]
     },
     "execution_count": 9,
     "metadata": {},
     "output_type": "execute_result"
    }
   ],
   "source": [
    "# Суммируем столбцы 'TWF', 'HDF', 'PWF', 'OSF', 'RNF' и добавляем результат в новый столбец 'Total'\n",
    "df['type_target'] = df['TWF'] + df['HDF'] + df['PWF'] + df['OSF'] + df['RNF']\n",
    "\n",
    "# Выводим обновленный датасет\n",
    "df.head()"
   ]
  },
  {
   "cell_type": "code",
   "execution_count": 10,
   "id": "3649c66e",
   "metadata": {},
   "outputs": [
    {
     "data": {
      "text/plain": [
       "target  type_target\n",
       "0       0              9643\n",
       "        1                18\n",
       "Name: count, dtype: int64"
      ]
     },
     "execution_count": 10,
     "metadata": {},
     "output_type": "execute_result"
    }
   ],
   "source": [
    "failure_data = df[['target','type_target']][df['target'] == 0]\n",
    "failure_data.value_counts()"
   ]
  },
  {
   "cell_type": "code",
   "execution_count": 11,
   "id": "26179fb3",
   "metadata": {},
   "outputs": [
    {
     "data": {
      "text/plain": [
       "target  type_target\n",
       "0       0              9643\n",
       "1       0                 9\n",
       "Name: count, dtype: int64"
      ]
     },
     "execution_count": 11,
     "metadata": {},
     "output_type": "execute_result"
    }
   ],
   "source": [
    "failure_data_type = df[['target','type_target']][df['type_target'] == 0]\n",
    "failure_data_type.value_counts()"
   ]
  },
  {
   "cell_type": "markdown",
   "id": "6e36f599",
   "metadata": {},
   "source": [
    "Видим, что для 18 записей, у которых указано отсутствие сбоя указан тип отказа.\n",
    "</br>А для 9 записей тип отказа не указан, но при этом запись помечена, как сбой.\n",
    "</br>Удилим эти записи из датасета."
   ]
  },
  {
   "cell_type": "code",
   "execution_count": 12,
   "id": "926fb012",
   "metadata": {},
   "outputs": [
    {
     "data": {
      "text/plain": [
       "(9973, 13)"
      ]
     },
     "execution_count": 12,
     "metadata": {},
     "output_type": "execute_result"
    }
   ],
   "source": [
    "df = df.drop(df[\n",
    "    ((df.type_target == 1) & (df.target == 0)) | ((df.target == 1) & (df.type_target == 0))\n",
    "].index)\n",
    "\n",
    "df.shape"
   ]
  },
  {
   "cell_type": "markdown",
   "id": "73e07606",
   "metadata": {},
   "source": [
    "Также уберём типы отказов,\n",
    "т.к. в данном проекте мы будет предсказывать отказ оборудования без учёта типа этого отказа."
   ]
  },
  {
   "cell_type": "code",
   "execution_count": 13,
   "id": "1c96e2b1",
   "metadata": {},
   "outputs": [],
   "source": [
    "columns_to_drop = ['type_target', 'type', 'TWF', 'HDF', 'PWF', 'OSF', 'RNF']\n",
    "df = df.drop(columns=columns_to_drop, axis=1)"
   ]
  },
  {
   "cell_type": "code",
   "execution_count": 14,
   "id": "de78ed17",
   "metadata": {},
   "outputs": [
    {
     "data": {
      "text/html": [
       "<div>\n",
       "<style scoped>\n",
       "    .dataframe tbody tr th:only-of-type {\n",
       "        vertical-align: middle;\n",
       "    }\n",
       "\n",
       "    .dataframe tbody tr th {\n",
       "        vertical-align: top;\n",
       "    }\n",
       "\n",
       "    .dataframe thead th {\n",
       "        text-align: right;\n",
       "    }\n",
       "</style>\n",
       "<table border=\"1\" class=\"dataframe\">\n",
       "  <thead>\n",
       "    <tr style=\"text-align: right;\">\n",
       "      <th></th>\n",
       "      <th>temp_air</th>\n",
       "      <th>temp_proc</th>\n",
       "      <th>spd_rotat</th>\n",
       "      <th>torque</th>\n",
       "      <th>wear_tool</th>\n",
       "      <th>target</th>\n",
       "    </tr>\n",
       "  </thead>\n",
       "  <tbody>\n",
       "    <tr>\n",
       "      <th>0</th>\n",
       "      <td>298.1</td>\n",
       "      <td>308.6</td>\n",
       "      <td>1551</td>\n",
       "      <td>42.8</td>\n",
       "      <td>0</td>\n",
       "      <td>0</td>\n",
       "    </tr>\n",
       "    <tr>\n",
       "      <th>1</th>\n",
       "      <td>298.2</td>\n",
       "      <td>308.7</td>\n",
       "      <td>1408</td>\n",
       "      <td>46.3</td>\n",
       "      <td>3</td>\n",
       "      <td>0</td>\n",
       "    </tr>\n",
       "    <tr>\n",
       "      <th>2</th>\n",
       "      <td>298.1</td>\n",
       "      <td>308.5</td>\n",
       "      <td>1498</td>\n",
       "      <td>49.4</td>\n",
       "      <td>5</td>\n",
       "      <td>0</td>\n",
       "    </tr>\n",
       "    <tr>\n",
       "      <th>3</th>\n",
       "      <td>298.2</td>\n",
       "      <td>308.6</td>\n",
       "      <td>1433</td>\n",
       "      <td>39.5</td>\n",
       "      <td>7</td>\n",
       "      <td>0</td>\n",
       "    </tr>\n",
       "    <tr>\n",
       "      <th>4</th>\n",
       "      <td>298.2</td>\n",
       "      <td>308.7</td>\n",
       "      <td>1408</td>\n",
       "      <td>40.0</td>\n",
       "      <td>9</td>\n",
       "      <td>0</td>\n",
       "    </tr>\n",
       "  </tbody>\n",
       "</table>\n",
       "</div>"
      ],
      "text/plain": [
       "   temp_air  temp_proc  spd_rotat  torque  wear_tool  target\n",
       "0     298.1      308.6       1551    42.8          0       0\n",
       "1     298.2      308.7       1408    46.3          3       0\n",
       "2     298.1      308.5       1498    49.4          5       0\n",
       "3     298.2      308.6       1433    39.5          7       0\n",
       "4     298.2      308.7       1408    40.0          9       0"
      ]
     },
     "execution_count": 14,
     "metadata": {},
     "output_type": "execute_result"
    }
   ],
   "source": [
    "df.head()"
   ]
  },
  {
   "cell_type": "markdown",
   "id": "9ac80653",
   "metadata": {},
   "source": [
    "3.\tПостроим диаграммы распределения числовых признаков с использованием числовой переменной для группировки и раскраски данных."
   ]
  },
  {
   "cell_type": "code",
   "execution_count": 15,
   "id": "35da2753",
   "metadata": {},
   "outputs": [
    {
     "data": {
      "image/png": "[encoded data removed]",
      "text/plain": [
       "<Figure size 1200x1200 with 5 Axes>"
      ]
     },
     "metadata": {},
     "output_type": "display_data"
    }
   ],
   "source": [
    "# Создаем графики с расцветкой 0 - зелёный, 1 - красный, в 2 столбца на всю ширину экрана\n",
    "fig, axes = plt.subplots(3, 2, figsize=(12, 12))\n",
    "\n",
    "# Создаем гистограмму с прозрачным зеленым цветом\n",
    "sns.histplot(data=df, x=\"temp_air\", hue=\"target\", kde=True, ax=axes[0, 0], palette={0: 'lightgreen', 1: 'red'})\n",
    "sns.histplot(data=df, x=\"temp_proc\", hue=\"target\", kde=True, ax=axes[0, 1], palette={0: 'lightgreen', 1: 'red'})\n",
    "sns.histplot(data=df, x=\"spd_rotat\", hue=\"target\", kde=True, ax=axes[1, 0], palette={0: 'lightgreen', 1: 'red'})\n",
    "sns.histplot(data=df, x=\"torque\", hue=\"target\", kde=True, ax=axes[1, 1], palette={0: 'lightgreen', 1: 'red'})\n",
    "sns.histplot(data=df, x=\"wear_tool\", hue=\"target\", kde=True, ax=axes[2, 0], palette={0: 'lightgreen', 1: 'red'})\n",
    "\n",
    "# Удаляем последний пустой график\n",
    "fig.delaxes(axes[2, 1])\n",
    "\n",
    "# Отображаем графики\n",
    "plt.show()"
   ]
  },
  {
   "cell_type": "code",
   "execution_count": 16,
   "id": "b8596a06",
   "metadata": {},
   "outputs": [
    {
     "data": {
      "image/png": "[encoded data removed]",
      "text/plain": [
       "<Figure size 1000x800 with 2 Axes>"
      ]
     },
     "metadata": {},
     "output_type": "display_data"
    }
   ],
   "source": [
    "# Вычисляем матрицу корреляции\n",
    "corr_matrix = df.corr()\n",
    "\n",
    "# Создаем тепловую карту корреляции\n",
    "plt.figure(figsize=(10, 8))\n",
    "sns.heatmap(corr_matrix, annot=True, cmap='coolwarm', vmin=-1, vmax=1)\n",
    "plt.title('Correlation Matrix')\n",
    "plt.show()"
   ]
  },
  {
   "cell_type": "markdown",
   "id": "b9ec7f91",
   "metadata": {},
   "source": [
    "Парные графики, а также график корреляции показывают две пары переменных,\n",
    "которые сильно коррелируют друг с другом:\n",
    "  * Температура воздуха и температура процесса (температура процесса пропорциональна температуре воздуха),\n",
    "  * Скорость вращения и крутящий момент (скорость вращения обратнопропорциональна крутящему моменту)."
   ]
  },
  {
   "cell_type": "markdown",
   "id": "939047a5",
   "metadata": {},
   "source": [
    "# Обучение модели"
   ]
  },
  {
   "cell_type": "markdown",
   "id": "f5ca179e",
   "metadata": {},
   "source": [
    "Так как у нас сильный дисбаланс классов, а так же есть сильно коррелирующие признаки обучение модели выполним следующим образом:\n",
    "</br>1. Применим стандартизацию данных <b>StandardScaler()</b>.\n",
    "</br>2. При разделении данных применим <b>stratify</b>.\n",
    "Данные будут разбиты таким образом, чтобы распределение классов в каждой части (обучающей и тестовой выборках)\n",
    "было было аналогично исходным данным.\n",
    "</br>3. Применим технику балансировки <b>over-sampling</b> количества значений в классе,\n",
    "которая увеличивает количество примеров в меньшем классе. Для over-sampling используем метод <b>SMOTE</b>."
   ]
  },
  {
   "cell_type": "code",
   "execution_count": 17,
   "id": "2f839570",
   "metadata": {},
   "outputs": [
    {
     "data": {
      "text/plain": [
       "target\n",
       "0    9643\n",
       "1     330\n",
       "Name: count, dtype: int64"
      ]
     },
     "execution_count": 17,
     "metadata": {},
     "output_type": "execute_result"
    }
   ],
   "source": [
    "df['target'].value_counts()"
   ]
  },
  {
   "cell_type": "code",
   "execution_count": 18,
   "id": "f7d30b6d",
   "metadata": {},
   "outputs": [
    {
     "name": "stdout",
     "output_type": "stream",
     "text": [
      "Целевые значения для обучения y_train: target\n",
      "0    6750\n",
      "1     231\n",
      "Name: count, dtype: int64\n",
      "Целевые значения для теста y_test: target\n",
      "0    2893\n",
      "1      99\n",
      "Name: count, dtype: int64\n"
     ]
    }
   ],
   "source": [
    "X = df.drop('target', axis=1)\n",
    "y = df['target']\n",
    "\n",
    "# Разделение на тренировочную и тестовую выборки\n",
    "X_train, X_test, y_train, y_test = train_test_split(X, y, test_size=0.3, random_state=42, stratify=y)\n",
    "\n",
    "print('Целевые значения для обучения y_train:', y_train.value_counts())\n",
    "print('Целевые значения для теста y_test:', y_test.value_counts())"
   ]
  },
  {
   "cell_type": "code",
   "execution_count": 19,
   "id": "54ec555c",
   "metadata": {},
   "outputs": [
    {
     "data": {
      "text/plain": [
       "(array([[-0.25472608, -0.47642643,  1.99803079, -1.59400236,  0.68923469],\n",
       "        [-1.15194736, -1.75783624,  0.57076298, -0.34560323, -0.81664346],\n",
       "        [ 0.19388456,  0.13055717,  0.40544239, -0.30565446,  1.94413314],\n",
       "        ...,\n",
       "        [-0.80302797, -0.34154118, -0.30543617,  0.17373081,  0.1872753 ],\n",
       "        [ 1.34033398,  0.33288503, -0.15664764, -0.22575692, -0.73821231],\n",
       "        [ 0.39326707,  1.14219649, -0.27237205,  0.64312888,  1.72452591]]),\n",
       " array([[-0.95256485, -0.74619691, -0.95018649,  0.19370519,  0.09315792],\n",
       "        [ 0.19388456, -0.27409856, -0.88405826,  1.45209152,  0.234334  ],\n",
       "        [-1.00241048, -1.69039362, -0.6195453 ,  0.36348747, -0.09507685],\n",
       "        ...,\n",
       "        [-1.20179298, -0.34154118,  0.93446829, -0.77505253, -0.65978115],\n",
       "        [-0.75318234, -0.20665594, -0.0905194 ,  0.4633594 , -0.377429  ],\n",
       "        [ 1.14095147,  1.27708174, -0.1731797 ,  0.23365396,  0.81472453]]))"
      ]
     },
     "execution_count": 19,
     "metadata": {},
     "output_type": "execute_result"
    }
   ],
   "source": [
    "# Нормализация признаков\n",
    "scaler = StandardScaler()\n",
    "X_train = scaler.fit_transform(X_train)\n",
    "X_test = scaler.transform(X_test)\n",
    "X_train, X_test"
   ]
  },
  {
   "cell_type": "code",
   "execution_count": 20,
   "id": "6bfe0b58",
   "metadata": {},
   "outputs": [
    {
     "name": "stdout",
     "output_type": "stream",
     "text": [
      "(13500, 5)\n",
      "(13500,)\n",
      "target\n",
      "0    6750\n",
      "1    6750\n",
      "Name: count, dtype: int64\n"
     ]
    }
   ],
   "source": [
    "# Применение SMOTE\n",
    "smote = SMOTE()\n",
    "\n",
    "# В этом коде происходит применение метода SMOTE (Synthetic Minority Over-sampling Technique) к обучающему набору данных.\n",
    "# После использования метода fit_resample объекта, созданного из класса SMOTE, данные из обучающего набора,\n",
    "# которые включают матрицу признаков X_train и соответствующие целевые значения y_train,\n",
    "# будут изменены для создания нового набора данных X_train_sm и y_train_sm,\n",
    "# в котором присутствует дополнительное количество синтетических примеров, сохраняя исходные целевые значения.\n",
    "\n",
    "X_train_sm, y_train_sm = smote.fit_resample(X_train, y_train)\n",
    "\n",
    "print(X_train_sm.shape)\n",
    "print(y_train_sm.shape)\n",
    "\n",
    "y_train_sm_series = pd.Series(y_train_sm)\n",
    "class_counts = y_train_sm_series.value_counts()\n",
    "print(class_counts)"
   ]
  },
  {
   "cell_type": "code",
   "execution_count": 21,
   "id": "ddb71aa1",
   "metadata": {
    "scrolled": true
   },
   "outputs": [
    {
     "data": {
      "text/html": [
       "<div>\n",
       "<style scoped>\n",
       "    .dataframe tbody tr th:only-of-type {\n",
       "        vertical-align: middle;\n",
       "    }\n",
       "\n",
       "    .dataframe tbody tr th {\n",
       "        vertical-align: top;\n",
       "    }\n",
       "\n",
       "    .dataframe thead th {\n",
       "        text-align: right;\n",
       "    }\n",
       "</style>\n",
       "<table border=\"1\" class=\"dataframe\">\n",
       "  <thead>\n",
       "    <tr style=\"text-align: right;\">\n",
       "      <th></th>\n",
       "      <th>Model</th>\n",
       "      <th>Sampling</th>\n",
       "      <th>Accuracy</th>\n",
       "      <th>Precision</th>\n",
       "      <th>Recall</th>\n",
       "      <th>F1-Score</th>\n",
       "      <th>ROC-AUC</th>\n",
       "    </tr>\n",
       "  </thead>\n",
       "  <tbody>\n",
       "    <tr>\n",
       "      <th>0</th>\n",
       "      <td>Логистическая регрессия</td>\n",
       "      <td>No Sampling</td>\n",
       "      <td>0.971257</td>\n",
       "      <td>0.782609</td>\n",
       "      <td>0.181818</td>\n",
       "      <td>0.295082</td>\n",
       "      <td>0.590045</td>\n",
       "    </tr>\n",
       "    <tr>\n",
       "      <th>1</th>\n",
       "      <td>Логистическая регрессия</td>\n",
       "      <td>SMOTE</td>\n",
       "      <td>0.819519</td>\n",
       "      <td>0.135537</td>\n",
       "      <td>0.828283</td>\n",
       "      <td>0.232955</td>\n",
       "      <td>0.823751</td>\n",
       "    </tr>\n",
       "    <tr>\n",
       "      <th>2</th>\n",
       "      <td>Метод ближайших соседей</td>\n",
       "      <td>No Sampling</td>\n",
       "      <td>0.975267</td>\n",
       "      <td>0.857143</td>\n",
       "      <td>0.303030</td>\n",
       "      <td>0.447761</td>\n",
       "      <td>0.650651</td>\n",
       "    </tr>\n",
       "    <tr>\n",
       "      <th>3</th>\n",
       "      <td>Метод ближайших соседей</td>\n",
       "      <td>SMOTE</td>\n",
       "      <td>0.941176</td>\n",
       "      <td>0.340249</td>\n",
       "      <td>0.828283</td>\n",
       "      <td>0.482353</td>\n",
       "      <td>0.886661</td>\n",
       "    </tr>\n",
       "    <tr>\n",
       "      <th>4</th>\n",
       "      <td>Дерево решений</td>\n",
       "      <td>No Sampling</td>\n",
       "      <td>0.979278</td>\n",
       "      <td>0.717647</td>\n",
       "      <td>0.616162</td>\n",
       "      <td>0.663043</td>\n",
       "      <td>0.803933</td>\n",
       "    </tr>\n",
       "    <tr>\n",
       "      <th>5</th>\n",
       "      <td>Дерево решений</td>\n",
       "      <td>SMOTE</td>\n",
       "      <td>0.965241</td>\n",
       "      <td>0.483871</td>\n",
       "      <td>0.757576</td>\n",
       "      <td>0.590551</td>\n",
       "      <td>0.864961</td>\n",
       "    </tr>\n",
       "    <tr>\n",
       "      <th>6</th>\n",
       "      <td>Случайны лес</td>\n",
       "      <td>No Sampling</td>\n",
       "      <td>0.984291</td>\n",
       "      <td>0.882353</td>\n",
       "      <td>0.606061</td>\n",
       "      <td>0.718563</td>\n",
       "      <td>0.801648</td>\n",
       "    </tr>\n",
       "    <tr>\n",
       "      <th>7</th>\n",
       "      <td>Случайны лес</td>\n",
       "      <td>SMOTE</td>\n",
       "      <td>0.972259</td>\n",
       "      <td>0.556338</td>\n",
       "      <td>0.797980</td>\n",
       "      <td>0.655602</td>\n",
       "      <td>0.888102</td>\n",
       "    </tr>\n",
       "    <tr>\n",
       "      <th>8</th>\n",
       "      <td>Градиентный бустинг</td>\n",
       "      <td>No Sampling</td>\n",
       "      <td>0.983289</td>\n",
       "      <td>0.855072</td>\n",
       "      <td>0.595960</td>\n",
       "      <td>0.702381</td>\n",
       "      <td>0.796251</td>\n",
       "    </tr>\n",
       "    <tr>\n",
       "      <th>9</th>\n",
       "      <td>Градиентный бустинг</td>\n",
       "      <td>SMOTE</td>\n",
       "      <td>0.972928</td>\n",
       "      <td>0.562500</td>\n",
       "      <td>0.818182</td>\n",
       "      <td>0.666667</td>\n",
       "      <td>0.898203</td>\n",
       "    </tr>\n",
       "  </tbody>\n",
       "</table>\n",
       "</div>"
      ],
      "text/plain": [
       "                     Model     Sampling  Accuracy  Precision    Recall  \\\n",
       "0  Логистическая регрессия  No Sampling  0.971257   0.782609  0.181818   \n",
       "1  Логистическая регрессия        SMOTE  0.819519   0.135537  0.828283   \n",
       "2  Метод ближайших соседей  No Sampling  0.975267   0.857143  0.303030   \n",
       "3  Метод ближайших соседей        SMOTE  0.941176   0.340249  0.828283   \n",
       "4           Дерево решений  No Sampling  0.979278   0.717647  0.616162   \n",
       "5           Дерево решений        SMOTE  0.965241   0.483871  0.757576   \n",
       "6             Случайны лес  No Sampling  0.984291   0.882353  0.606061   \n",
       "7             Случайны лес        SMOTE  0.972259   0.556338  0.797980   \n",
       "8      Градиентный бустинг  No Sampling  0.983289   0.855072  0.595960   \n",
       "9      Градиентный бустинг        SMOTE  0.972928   0.562500  0.818182   \n",
       "\n",
       "   F1-Score   ROC-AUC  \n",
       "0  0.295082  0.590045  \n",
       "1  0.232955  0.823751  \n",
       "2  0.447761  0.650651  \n",
       "3  0.482353  0.886661  \n",
       "4  0.663043  0.803933  \n",
       "5  0.590551  0.864961  \n",
       "6  0.718563  0.801648  \n",
       "7  0.655602  0.888102  \n",
       "8  0.702381  0.796251  \n",
       "9  0.666667  0.898203  "
      ]
     },
     "execution_count": 21,
     "metadata": {},
     "output_type": "execute_result"
    }
   ],
   "source": [
    "# Инициализация моделей\n",
    "models = [\n",
    "    LogisticRegression(),\n",
    "    KNeighborsClassifier(),\n",
    "    DecisionTreeClassifier(),\n",
    "    RandomForestClassifier(),\n",
    "    LGBMClassifier(verbosity=-1)\n",
    "]\n",
    "\n",
    "model_names = ['Логистическая регрессия', 'Метод ближайших соседей', 'Дерево решений', 'Случайны лес', 'Градиентный бустинг']\n",
    "\n",
    "# Создаем DataFrame для хранения результатов\n",
    "results = pd.DataFrame(columns=['Model', 'Sampling', 'Accuracy', 'Precision', 'Recall', 'F1-Score', 'ROC-AUC'])\n",
    "\n",
    "# Обучение и оценка моделей\n",
    "# используем цикл for для перебора пар моделей и их имен из списка models и списка model_names.\n",
    "for model, model_name in zip(models, model_names):\n",
    "    # Используем исходные данные\n",
    "    model.fit(X_train, y_train) # обучаем модель на обучающих данных X_train и y_train.\n",
    "    y_pred = model.predict(X_test) # предсказываем значения для тестовых данных X_test с помощью модели.\n",
    "    \n",
    "    # добавляем результаты модели в DataFrame results:\n",
    "    # имя модели, метку 'No Sampling', значения метрик точности, точности, полноты, F1-Score и ROC-AUC.\n",
    "    results.loc[len(results)] = [model_name, 'No Sampling',\n",
    "                                  accuracy_score(y_test, y_pred), \n",
    "                                  precision_score(y_test, y_pred), \n",
    "                                  recall_score(y_test, y_pred), \n",
    "                                  f1_score(y_test, y_pred), \n",
    "                                  roc_auc_score(y_test, y_pred)]\n",
    "    \n",
    "    # Используем данные с применением SMOTE\n",
    "    smote = SMOTE()\n",
    "    X_train_sm, y_train_sm = smote.fit_resample(X_train, y_train)\n",
    "    model.fit(X_train_sm, y_train_sm)\n",
    "    y_pred_sm = model.predict(X_test)\n",
    "    results.loc[len(results)] = [model_name, 'SMOTE',\n",
    "                                  accuracy_score(y_test, y_pred_sm), \n",
    "                                  precision_score(y_test, y_pred_sm), \n",
    "                                  recall_score(y_test, y_pred_sm), \n",
    "                                  f1_score(y_test, y_pred_sm), \n",
    "                                  roc_auc_score(y_test, y_pred_sm)]\n",
    "    \n",
    "results"
   ]
  },
  {
   "cell_type": "code",
   "execution_count": 22,
   "id": "5ccbdbfc",
   "metadata": {},
   "outputs": [
    {
     "data": {
      "image/png": "[encoded data removed]",
      "text/plain": [
       "<Figure size 2500x1000 with 1 Axes>"
      ]
     },
     "metadata": {},
     "output_type": "display_data"
    }
   ],
   "source": [
    "df_test = pd.DataFrame(results)\n",
    "\n",
    "# Создадим гистограмму для каждой модели и метода выборки\n",
    "fig, ax = plt.subplots(figsize=(25, 10))\n",
    "\n",
    "df_test.set_index('Model', inplace=True)\n",
    "df_test.plot(kind='bar', ax=ax, rot=0, fontsize=11)\n",
    "ax.legend(loc='upper center')\n",
    "\n",
    "plt.tight_layout()\n",
    "plt.show()"
   ]
  },
  {
   "cell_type": "markdown",
   "id": "e2592a8b",
   "metadata": {},
   "source": [
    "<b>Основываясь на полученных данных, можно сделать следующие выводы:</b>\n",
    "</br>1. Использование метода <b>SMOTE показывает более высокую величину показателей Recall (полнота) и ROC-AUC</b>\n",
    "по сравнению с отсутствием сэмплирования для всех рассмотренных моделей\n",
    "(\"Логистическая регрессия\", \"Метод ближайших соседей\", \"Дерево решений\", \"Случайный лес\", \"LGBM\").\n",
    "Это указывает на то, что <b>использование SMOTE улучшает способность моделей определять редкие положительные примеры, что отражается в повышении величин Recall и ROC-AUC</b>.\n",
    "</br>2. Вместе с тем, метрики качества, такие как Accuracy (доля верно классифицированных объектов), Precision (точность) и F1-Score, ниже для SMOTE, чем для NO Sampling для всех рассмотренных моделей.\n",
    "<b>Снижение показателей Accuracy, Precision и F1-Score может быть связано с использованием большого количества синтетически сгенерированных примеров, что приводит к дополнительному шуму в обучающий набор данных, а также может привести к переобучению модели или усложнению границы принятия решения, что в свою очередь увеличивает количество ложноположительных и ложноотрицательных результатов</b>.\n",
    "</br>3. Общий тренд показывает, что, несмотря на некоторые компромиссы,\n",
    "<b>SMOTE в целом может улучшить объективность модели,\n",
    "особенно если цель заключается в достижении более высокой полноты Recall или более высокого ROC-AUC</b>.\n",
    "</br>4. С другой стороны, <b>если целью является точность прогноза, модели лучше обучать без сэмплирования</b>.\n",
    "</br>5. Кроме того, стоит отметить, что <b>\"Градиентный бустинг\" показывает наилучшие результаты</b> с точки зрения метрик качества среди всех рассмотренных моделей."
   ]
  },
  {
   "cell_type": "markdown",
   "id": "dfb29d5f",
   "metadata": {},
   "source": [
    "Попробуем поработать с гиперпараметрами и посмотреть на метрики качества моделей."
   ]
  },
  {
   "cell_type": "code",
   "execution_count": 23,
   "id": "a90ab0fe",
   "metadata": {},
   "outputs": [
    {
     "name": "stdout",
     "output_type": "stream",
     "text": [
      "Лучшие параметры для Логистическая регрессия : {'C': 1, 'penalty': 'l2'}\n",
      "Лучшие параметры для Метод ближайших соседей : {'n_neighbors': 5, 'weights': 'distance'}\n",
      "Лучшие параметры для Дерево решений : {'criterion': 'gini', 'max_depth': 9}\n",
      "Лучшие параметры для Случайны лес : {'max_depth': 11, 'n_estimators': 400}\n",
      "Лучшие параметры для Градиентный бустинг : {'learning_rate': 0.1, 'n_estimators': 400}\n"
     ]
    },
    {
     "data": {
      "text/html": [
       "<div>\n",
       "<style scoped>\n",
       "    .dataframe tbody tr th:only-of-type {\n",
       "        vertical-align: middle;\n",
       "    }\n",
       "\n",
       "    .dataframe tbody tr th {\n",
       "        vertical-align: top;\n",
       "    }\n",
       "\n",
       "    .dataframe thead th {\n",
       "        text-align: right;\n",
       "    }\n",
       "</style>\n",
       "<table border=\"1\" class=\"dataframe\">\n",
       "  <thead>\n",
       "    <tr style=\"text-align: right;\">\n",
       "      <th></th>\n",
       "      <th>Model</th>\n",
       "      <th>Sampling</th>\n",
       "      <th>Accuracy</th>\n",
       "      <th>Precision</th>\n",
       "      <th>Recall</th>\n",
       "      <th>F1-Score</th>\n",
       "      <th>ROC-AUC</th>\n",
       "    </tr>\n",
       "  </thead>\n",
       "  <tbody>\n",
       "    <tr>\n",
       "      <th>0</th>\n",
       "      <td>Логистическая регрессия</td>\n",
       "      <td>No Sampling</td>\n",
       "      <td>0.983289</td>\n",
       "      <td>0.855072</td>\n",
       "      <td>0.595960</td>\n",
       "      <td>0.702381</td>\n",
       "      <td>0.796251</td>\n",
       "    </tr>\n",
       "    <tr>\n",
       "      <th>1</th>\n",
       "      <td>Логистическая регрессия</td>\n",
       "      <td>SMOTE</td>\n",
       "      <td>0.818850</td>\n",
       "      <td>0.133884</td>\n",
       "      <td>0.818182</td>\n",
       "      <td>0.230114</td>\n",
       "      <td>0.818527</td>\n",
       "    </tr>\n",
       "    <tr>\n",
       "      <th>2</th>\n",
       "      <td>Метод ближайших соседей</td>\n",
       "      <td>No Sampling</td>\n",
       "      <td>0.983289</td>\n",
       "      <td>0.855072</td>\n",
       "      <td>0.595960</td>\n",
       "      <td>0.702381</td>\n",
       "      <td>0.796251</td>\n",
       "    </tr>\n",
       "    <tr>\n",
       "      <th>3</th>\n",
       "      <td>Метод ближайших соседей</td>\n",
       "      <td>SMOTE</td>\n",
       "      <td>0.942179</td>\n",
       "      <td>0.341880</td>\n",
       "      <td>0.808081</td>\n",
       "      <td>0.480480</td>\n",
       "      <td>0.877424</td>\n",
       "    </tr>\n",
       "    <tr>\n",
       "      <th>4</th>\n",
       "      <td>Дерево решений</td>\n",
       "      <td>No Sampling</td>\n",
       "      <td>0.983289</td>\n",
       "      <td>0.855072</td>\n",
       "      <td>0.595960</td>\n",
       "      <td>0.702381</td>\n",
       "      <td>0.796251</td>\n",
       "    </tr>\n",
       "    <tr>\n",
       "      <th>5</th>\n",
       "      <td>Дерево решений</td>\n",
       "      <td>SMOTE</td>\n",
       "      <td>0.946858</td>\n",
       "      <td>0.352941</td>\n",
       "      <td>0.727273</td>\n",
       "      <td>0.475248</td>\n",
       "      <td>0.840823</td>\n",
       "    </tr>\n",
       "    <tr>\n",
       "      <th>6</th>\n",
       "      <td>Случайны лес</td>\n",
       "      <td>No Sampling</td>\n",
       "      <td>0.983289</td>\n",
       "      <td>0.855072</td>\n",
       "      <td>0.595960</td>\n",
       "      <td>0.702381</td>\n",
       "      <td>0.796251</td>\n",
       "    </tr>\n",
       "    <tr>\n",
       "      <th>7</th>\n",
       "      <td>Случайны лес</td>\n",
       "      <td>SMOTE</td>\n",
       "      <td>0.957888</td>\n",
       "      <td>0.426230</td>\n",
       "      <td>0.787879</td>\n",
       "      <td>0.553191</td>\n",
       "      <td>0.875792</td>\n",
       "    </tr>\n",
       "    <tr>\n",
       "      <th>8</th>\n",
       "      <td>Градиентный бустинг</td>\n",
       "      <td>No Sampling</td>\n",
       "      <td>0.983289</td>\n",
       "      <td>0.855072</td>\n",
       "      <td>0.595960</td>\n",
       "      <td>0.702381</td>\n",
       "      <td>0.796251</td>\n",
       "    </tr>\n",
       "    <tr>\n",
       "      <th>9</th>\n",
       "      <td>Градиентный бустинг</td>\n",
       "      <td>SMOTE</td>\n",
       "      <td>0.977273</td>\n",
       "      <td>0.626016</td>\n",
       "      <td>0.777778</td>\n",
       "      <td>0.693694</td>\n",
       "      <td>0.880939</td>\n",
       "    </tr>\n",
       "  </tbody>\n",
       "</table>\n",
       "</div>"
      ],
      "text/plain": [
       "                     Model     Sampling  Accuracy  Precision    Recall  \\\n",
       "0  Логистическая регрессия  No Sampling  0.983289   0.855072  0.595960   \n",
       "1  Логистическая регрессия        SMOTE  0.818850   0.133884  0.818182   \n",
       "2  Метод ближайших соседей  No Sampling  0.983289   0.855072  0.595960   \n",
       "3  Метод ближайших соседей        SMOTE  0.942179   0.341880  0.808081   \n",
       "4           Дерево решений  No Sampling  0.983289   0.855072  0.595960   \n",
       "5           Дерево решений        SMOTE  0.946858   0.352941  0.727273   \n",
       "6             Случайны лес  No Sampling  0.983289   0.855072  0.595960   \n",
       "7             Случайны лес        SMOTE  0.957888   0.426230  0.787879   \n",
       "8      Градиентный бустинг  No Sampling  0.983289   0.855072  0.595960   \n",
       "9      Градиентный бустинг        SMOTE  0.977273   0.626016  0.777778   \n",
       "\n",
       "   F1-Score   ROC-AUC  \n",
       "0  0.702381  0.796251  \n",
       "1  0.230114  0.818527  \n",
       "2  0.702381  0.796251  \n",
       "3  0.480480  0.877424  \n",
       "4  0.702381  0.796251  \n",
       "5  0.475248  0.840823  \n",
       "6  0.702381  0.796251  \n",
       "7  0.553191  0.875792  \n",
       "8  0.702381  0.796251  \n",
       "9  0.693694  0.880939  "
      ]
     },
     "execution_count": 23,
     "metadata": {},
     "output_type": "execute_result"
    }
   ],
   "source": [
    "# Инициализация моделей с наборами гиперпараметров для подбора\n",
    "models = [\n",
    "    (LogisticRegression(), {\n",
    "        # Параметр C является коэффициентом штрафа в регуляризации.\n",
    "        # Значение C влияет на степень регуляризации модели и может влиять на ее способность к обобщению.\n",
    "        # В данном случае, мы указываем различные значения для параметра C (от 0.001 до 100),\n",
    "        # чтобы найти оптимальное значение, которое обеспечит наилучшую производительность модели.\n",
    "        'C': [0.001, 0.01, 0.1, 1, 2, 10, 100], \n",
    "        # Параметр 'penalty' означает штрафную функцию, которая используется для регуляризации модели.\n",
    "        # Штрафная функция 'l2' добавляет квадратичный штраф к ошибке квадратичной аппроксимации,\n",
    "        # что помогает предотвратить переобучение модели.\n",
    "        'penalty': ['l2']\n",
    "    }),\n",
    "    (KNeighborsClassifier(), {\n",
    "        # Параметр 'n_neighbors' означает количество ближайших соседей,\n",
    "        # которые будут использоваться для классификации новых наблюдений.\n",
    "        'n_neighbors': [3, 4, 5, 6, 7],\n",
    "        # Параметр 'weights' означает способ взвешивания голосов ближайших соседей при классификации новых наблюдений.\n",
    "        # В данном случае, мы указываем, что веса должны быть 'uniform' и 'distance'.\n",
    "        # Вес 'uniform' означает, что все ближайшие соседи имеют одинаковый вес,\n",
    "        # независимо от их расстояния до нового наблюдения.\n",
    "        # Вес 'distance' означает, что ближайшие соседи имеют больший вес, чем более далекие соседи.\n",
    "        'weights': ['uniform', 'distance']\n",
    "    }),\n",
    "    (DecisionTreeClassifier(), {\n",
    "        # Параметр 'max_depth' означает максимальную глубину дерева, которую может достичь дерево решений.\n",
    "        # Значение None означает, что дерево может быть неограниченной глубины.\n",
    "        'max_depth': [5, 9, 10, 11, 15, None],\n",
    "        # Параметр 'criterion' означает критерий, который используется для выбора лучшего разделения на каждом уровне дерева.\n",
    "        # В данном случае, мы указываем, что критерий должен быть 'gini' и 'entropy'.\n",
    "        # Критерий 'gini' минимизирует дисперсию ошибок, а критерий 'entropy' минимизирует энтропию ошибок.\n",
    "        'criterion': ['gini', 'entropy']\n",
    "    }),\n",
    "    (RandomForestClassifier(), {\n",
    "        # Параметр 'n_estimators' означает количество деревьев в алгоритме случайный лес.\n",
    "        'n_estimators': [200, 300, 400, 500, 600],\n",
    "        # Параметр 'max_depth' означает максимальную глубину дерева, которую может достичь каждое дерево в случайном лесу.\n",
    "        # Значение None означает, что дерево может быть неограниченной глубины.\n",
    "        'max_depth': [5, 9, 10, 11, 15, None]\n",
    "    }),\n",
    "    (LGBMClassifier(verbosity=-1), {\n",
    "        # Параметр 'learning_rate' означает скорость обучения, которая определяет,\n",
    "        # насколько быстро модель будет обновлять параметры при каждом шаге обучения.\n",
    "        'learning_rate': [0.05, 0.09, 0.1, 0.2, 0.3, 0.4, 0.5],\n",
    "        # Параметр 'n_estimators' означает количество деревьев в градиентном бустинге.\n",
    "        'n_estimators': [200, 300, 400, 500]\n",
    "    })\n",
    "]\n",
    "\n",
    "model_names = ['Логистическая регрессия', 'Метод ближайших соседей', 'Дерево решений', 'Случайны лес', 'Градиентный бустинг']\n",
    "\n",
    "# Создаем DataFrame для хранения результатов\n",
    "results = pd.DataFrame(columns=['Model', 'Sampling', 'Accuracy', 'Precision', 'Recall', 'F1-Score', 'ROC-AUC'])\n",
    "\n",
    "for (model, param_grid), model_name in zip(models, model_names):\n",
    "    # Подбор гиперпараметров\n",
    "    grid_search = GridSearchCV(model, param_grid, scoring='accuracy', cv=3, error_score='raise')\n",
    "    grid_search.fit(X_train, y_train)\n",
    "    best_model = grid_search.best_estimator_\n",
    "    \n",
    "    # Выводим лучшие параметры\n",
    "    best_params = grid_search.best_params_\n",
    "    print('Лучшие параметры для', model_name, ':', best_params)\n",
    "    \n",
    "    # добавляем результаты модели в DataFrame results:\n",
    "    # имя модели, метку 'No Sampling', значения метрик точности, точности, полноты, F1-Score и ROC-AUC.\n",
    "    results.loc[len(results)] = [model_name, 'No Sampling',\n",
    "                                  accuracy_score(y_test, y_pred), \n",
    "                                  precision_score(y_test, y_pred), \n",
    "                                  recall_score(y_test, y_pred), \n",
    "                                  f1_score(y_test, y_pred), \n",
    "                                  roc_auc_score(y_test, y_pred)]\n",
    "    \n",
    "    # Производим оценку модели с использованием SMOTE\n",
    "    smote = SMOTE()\n",
    "    X_train_sm, y_train_sm = smote.fit_resample(X_train, y_train)\n",
    "    best_model.fit(X_train_sm, y_train_sm)\n",
    "    y_pred_sm = best_model.predict(X_test)\n",
    "    results.loc[len(results)] = [model_name, 'SMOTE',\n",
    "                                  accuracy_score(y_test, y_pred_sm), \n",
    "                                  precision_score(y_test, y_pred_sm), \n",
    "                                  recall_score(y_test, y_pred_sm), \n",
    "                                  f1_score(y_test, y_pred_sm), \n",
    "                                  roc_auc_score(y_test, y_pred_sm)]\n",
    "\n",
    "results"
   ]
  },
  {
   "cell_type": "markdown",
   "id": "3e4e720f",
   "metadata": {},
   "source": [
    "По результатам видим, что хорошего прироста в качестве моделей мы не получили.\n",
    "</br>Практически для всех моделей разница составили в сотые-тысячные доли в сторону улучшения или ухудшения.\n",
    "</br>Как и в первом случае лучше всего показывает себя <b>Градиентный бустинг</b>.\n",
    "\n",
    "</br><b>No Sampling</b>:\n",
    "  * <b>Логистическая регрессия</b> - Практически все показатели улучшились на десятые доли (за исключением Accuracy, сотые доли).\n",
    "  * <b>Метод ближайших соседей</b> - Улучшились все показатели, за исключением Precision, значение которого снизилось на тысячные доли.\n",
    "  * <b>Дерево решений</b> - Accuracy, Precision, F1-Score улучшились, Recall, ROC-AUC ухудшились на сотые доли.\n",
    "  * <b>Случайны лес</b> - все показатели ухудшились на сотые доли.\n",
    "  * <b>Градиентный бустинг</b> - показатели не изменились.\n",
    "\n",
    "<b>SMOTE</b>::\n",
    "  * <b>Логистическая регрессия</b> - все показатели ухудшились на тысячные доли.\n",
    "  * <b>Метод ближайших соседей</b> - Accuracy, Precision улучшились, Recall, F1-Score, ROC-AUC ухудшились на тысячные доли.\n",
    "  * <b>Дерево решений</b> - все показатели ухудшились на сотые-тысячные доли.\n",
    "  * <b>Случайны лес</b> - все показатели ухудшились на сотые-тысячные доли.\n",
    "  * <b>Градиентный бустинг</b> - Accuracy, Precision, F1-Score улучшились, Recall, ROC-AUC ухудшились на сотые доли."
   ]
  }
 ],
 "metadata": {
  "kernelspec": {
   "display_name": "Python 3 (ipykernel)",
   "language": "python",
   "name": "python3"
  },
  "language_info": {
   "codemirror_mode": {
    "name": "ipython",
    "version": 3
   },
   "file_extension": ".py",
   "mimetype": "text/x-python",
   "name": "python",
   "nbconvert_exporter": "python",
   "pygments_lexer": "ipython3",
   "version": "3.11.9"
  }
 },
 "nbformat": 4,
 "nbformat_minor": 5
}
