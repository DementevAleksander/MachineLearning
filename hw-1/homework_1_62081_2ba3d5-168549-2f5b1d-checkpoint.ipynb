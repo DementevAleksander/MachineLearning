{
 "cells": [
  {
   "cell_type": "markdown",
   "metadata": {},
   "source": [
    "# <center> Homework 1 </center>"
   ]
  },
  {
   "cell_type": "markdown",
   "metadata": {},
   "source": [
    "# 0. Где мы сейчас?\n",
    "<img src=\"https://upload.wikimedia.org/wikipedia/commons/thumb/3/38/Jupyter_logo.svg/1200px-Jupyter_logo.svg.png\" width=\"150\">\n",
    "\n",
    "[Jupyter Notebook](https://jupyter.org/) - интерактивная среда для запуска программного кода в браузере. Удобный инструмент для анализа данных, который используется многими специалистами по data science. Позволяет выполнять отдельные ячейки с кодом, а не всю программу сразу, что очень удобно при знакомстве с данными."
   ]
  },
  {
   "cell_type": "markdown",
   "metadata": {},
   "source": [
    "# 1. Python\n",
    "> Python - это свободный интерпретируемый объектно-ориентированный расширяемый встраиваемый язык программирования очень высокого уровня \n",
    "\n",
    ">*(Г.Россум, Ф.Л.Дж.Дрейк, Д.С.Откидач \"Язык программирования Python\").*\n",
    "\n",
    "А если без цитат, то питон - это просто очень крутой язык, созданный в 1991 году [Великодушным пожизненным диктатором](https://ru.wikipedia.org/wiki/%D0%92%D0%B5%D0%BB%D0%B8%D0%BA%D0%BE%D0%B4%D1%83%D1%88%D0%BD%D1%8B%D0%B9_%D0%BF%D0%BE%D0%B6%D0%B8%D0%B7%D0%BD%D0%B5%D0%BD%D0%BD%D1%8B%D0%B9_%D0%B4%D0%B8%D0%BA%D1%82%D0%B0%D1%82%D0%BE%D1%80) Гвидо ван Россумом и названный в честь любимого им шоу [Monty Python's Flying Circus](https://en.wikipedia.org/wiki/Monty_Python%27s_Flying_Circus)\n",
    "\n",
    "<img src=\"https://advancelocal-adapter-image-uploads.s3.amazonaws.com/image.oregonlive.com/home/olive-media/width2048/img/tv/photo/2018/10/10/montycastjpg-7ef393e2355a42aa.jpg\" width=\"300\">"
   ]
  },
  {
   "cell_type": "markdown",
   "metadata": {},
   "source": [
    "# 2. Anaconda\n",
    "\n",
    "<img src=\"https://cdn-images-1.medium.com/max/1600/0*MVkCW8_Bmj-nuAnI.png\" width=\"300\">\n",
    "\n",
    "[Сборка Anaconda](https://www.anaconda.com/products/individual) включает очень много полезных библиотек для анализа данных. \n",
    "\n",
    "Среди наиболее популярных библиотек:\n",
    " - <a href=\"http://numpy.org\">Numpy</a> - это один из основных пакетов для математических вычислений. Он содержит средства для работы с многомерными массивами и высокоуровневыми математическими функциями\n",
    " - <a href=\"https://www.scipy.org/\">SciPy</a> - научные вычисления. Методы оптимизации, интегрирования, модули обработки сигналов и изображений, статистика, линейная алгебра, сплайны, кластеризация и многое другое\n",
    " -  <a href=\"http://pandas.pydata.org/\">Pandas</a> - основная библиотека для обработки и анализа данных. Предназначена для данных разной природы - матричных, панельных данных, временных рядов. Претендует на звание самого мощного и гибкого средства для анализа данных с открытым исходным кодом\n",
    " - <a href=\"http://scikit-learn.org/stable/\">Scikit-learn</a> - реализация очень многих методов машинного обучения с отличной документацией. \n",
    " - <a href=\"http://http://matplotlib.org/\">matplotlib</a> - хорошая библиотека для визуализации данных"
   ]
  },
  {
   "cell_type": "markdown",
   "metadata": {},
   "source": [
    "# 3. Задачки"
   ]
  },
  {
   "cell_type": "markdown",
   "metadata": {},
   "source": [
    "# Задача 1\n",
    "$N$ хоббитов делят $K$ кусков эльфийского хлеба поровну, не делящийся нацело остаток остается в корзинке у Сэма. Напишите функцию, которая принимает на вход параметры $N$ и $K$ и возвращает два числа: $x$ - cколько кусков эльфиского хлеба достанется каждому хоббиту, и $y$ - сколько кусков остаётся в корзинке."
   ]
  },
  {
   "cell_type": "code",
   "execution_count": 1,
   "metadata": {},
   "outputs": [],
   "source": [
    "def share_bread(N, K):\n",
    "    x = int(K / N)\n",
    "    y = K % N\n",
    "    return x, y\n",
    "\n",
    "assert share_bread(N=3, K=14) == (4, 2)"
   ]
  },
  {
   "cell_type": "markdown",
   "metadata": {},
   "source": [
    "## Задача 2\n",
    "\n",
    "В копях Мории хоббиты нашли стену, на которой высечены разные натуральные числа. Согласно древним сказаниям, это даты сражений. Хоббиты знают, что сражения происходили только по високосным годам. Помогите хоббитам определить, является ли год с данным числом датой великого сражения. Если это так, то верните строку \"YOU SHALL PASS\", иначе верните \"YOU SHALL NOT PASS\". Напомним, что в соответствии с хоббитским календарем, год является високосным, если его номер кратен 4, но не кратен 100, а также если он кратен 400."
   ]
  },
  {
   "cell_type": "code",
   "execution_count": 2,
   "metadata": {},
   "outputs": [],
   "source": [
    "def leap_year(year):\n",
    "    text_result = ''\n",
    "    if year % 4 == 0:\n",
    "        if year % 100 == 0:\n",
    "            if year % 400 == 0:\n",
    "                text_result = 'YOU SHALL PASS'\n",
    "            else:\n",
    "                text_result = 'YOU SHALL NOT PASS'\n",
    "        else:\n",
    "            text_result = 'YOU SHALL PASS'\n",
    "    else:\n",
    "        text_result = 'YOU SHALL NOT PASS'\n",
    "    return text_result\n",
    "\n",
    "assert leap_year(5) == 'YOU SHALL NOT PASS'"
   ]
  },
  {
   "cell_type": "markdown",
   "metadata": {},
   "source": [
    "## Задача 3\n",
    "<img src=\"http://i0.kym-cdn.com/photos/images/original/001/187/255/5e9.gif\" width=300>\n",
    "Для могущественного магического ритуала Гендальфу необходимо быстро подсчитывать площадь своего амулета, который умеет менять размеры. Известно, что амулет имеет форму треугольника и Гендальф знает длину каждой из сторон. Напишите функцию, которая считает площадь амулета по трем сторонам.  \n",
    "\n",
    "Подсказка: используйте формулу Герона\n",
    "$$ S = \\sqrt{p(p-a)(p-b)(p-c)} $$\n",
    "$$ p = \\frac{a + b + c}{2}$$\n"
   ]
  },
  {
   "cell_type": "code",
   "execution_count": 3,
   "metadata": {},
   "outputs": [],
   "source": [
    "def amulet_area(a, b, c):\n",
    "    import math\n",
    "    p = (a + b + c) / 2\n",
    "    S = math.sqrt(p * (p - a) * (p - b) * (p - c))\n",
    "    return S\n",
    "\n",
    "assert amulet_area(3, 4, 5) == 6"
   ]
  },
  {
   "cell_type": "markdown",
   "metadata": {},
   "source": [
    "## Задача 4\n",
    "\n",
    "Хоббиты собираются пешком идти до Мордора и им нужно подсчитать расстояние, которое им предстоит пройти. Хоббиты смогли вспомнить сразу несколько метрик расстояния: евклидово, манхэттена и косинусное, так что ваша задача - напистаь функцию под каждую из них. Важное условие - используйте только базовые функции numpy для решения.\n",
    "\n",
    "\n",
    "* Евклидово расстояние\n",
    "$$ d(a, b) = \\sqrt{\\sum_i (a_i - b_i)^2} $$\n",
    "* Расстояние Манхэттена\n",
    "$$ d(a, b) = \\sum_i |a_i - b_i| $$\n",
    "* Косинусное расстояние\n",
    "$$ d(a, b) = 1 - \\frac{a^\\top b}{||a||_2\\cdot||b||_2}$$"
   ]
  },
  {
   "cell_type": "code",
   "execution_count": 4,
   "metadata": {},
   "outputs": [],
   "source": [
    "import numpy as np\n",
    "def cal_euclidean(a, b):    \n",
    "    distance = np.sum(np.square(a - b))\n",
    "    return distance\n",
    "\n",
    "def cal_manhattan(a, b):    \n",
    "    distance = np.sum(abs(a - b))\n",
    "    return distance\n",
    "\n",
    "def cal_cosine(a, b):    \n",
    "    dot_cosine_prod = np.dot(a, b)\n",
    "    norm_a = np.linalg.norm(a)\n",
    "    norm_b = np.linalg.norm(b)\n",
    "    distance = 1 - (dot_cosine_prod / (norm_a * norm_b))\n",
    "    return distance"
   ]
  },
  {
   "cell_type": "code",
   "execution_count": 5,
   "metadata": {},
   "outputs": [
    {
     "name": "stdout",
     "output_type": "stream",
     "text": [
      "44\n",
      "16\n",
      "0.05378229503076415\n"
     ]
    }
   ],
   "source": [
    "a = np.random.randint(-10, 10, size=10)\n",
    "b = np.random.randint(-10, 10, size=10)\n",
    "print(cal_euclidean(a, b))\n",
    "print(cal_manhattan(a, b))\n",
    "print(cal_cosine(a, b))"
   ]
  },
  {
   "cell_type": "markdown",
   "metadata": {},
   "source": [
    "## Задача 5\n",
    "\n",
    "Ну и напоследок, еще немного практики numpy, без которой не обходится ни один хоббит.\n"
   ]
  },
  {
   "cell_type": "markdown",
   "metadata": {},
   "source": [
    "Создайте случайный array (`np.random.rand()`) длинной 100. Преобразуйте его так, чтобы\n",
    "* Максимальный элемент(ы) был равен 1\n",
    "* Минимальный элемент(ы) был равен 0\n",
    "* Остальные элементы в итнтервале от 0 до 1 остаются прежними"
   ]
  },
  {
   "cell_type": "code",
   "execution_count": 6,
   "metadata": {},
   "outputs": [
    {
     "name": "stdout",
     "output_type": "stream",
     "text": [
      "1.0 0.0\n",
      "[0.         0.51525203 0.8645999  0.54209149 0.04098749 0.32476729\n",
      " 0.85846242 0.80404785 0.13409983 0.31169985 0.25222224 0.06322089\n",
      " 0.69317902 0.31448288 0.68273595 0.07076626 0.20708088 0.64901072\n",
      " 0.38832199 0.62359336 0.60264858 0.63034665 0.87252243 0.6745476\n",
      " 0.11094231 0.15863925 0.0402952  0.62096582 0.63209493 0.30000787\n",
      " 0.62131821 0.61999369 0.87227386 0.01881588 0.81097214 0.22191089\n",
      " 0.96744431 0.28744246 0.73393584 0.32506358 0.21755987 0.28716203\n",
      " 0.11550099 0.1293213  0.89626352 0.77218739 0.98393981 0.05657932\n",
      " 0.07593634 0.23518048 0.95980701 0.6416085  0.78109633 0.17629509\n",
      " 0.03742565 0.92807962 0.77053789 0.92790604 0.67134749 0.31582249\n",
      " 0.40898622 0.76783617 0.82848396 0.44464923 0.96416334 0.10053978\n",
      " 0.05730794 0.88266865 0.92142931 0.13934731 0.48659921 0.62015347\n",
      " 0.29024265 0.14384184 0.47675905 0.47968852 0.38310375 0.41277472\n",
      " 0.00245488 0.92690221 0.83798327 0.12058231 0.17051821 0.22416122\n",
      " 0.65188922 0.45777952 0.5849492  0.02227283 0.21396117 0.01240874\n",
      " 0.37226417 0.61501444 0.37806549 0.8319816  0.47675436 0.59887818\n",
      " 0.99237248 0.99034082 0.21810425 1.        ]\n"
     ]
    }
   ],
   "source": [
    "import numpy as np\n",
    "my_array = np.random.rand(100)\n",
    "my_array[0] = 0\n",
    "my_array[99] = 1\n",
    "print(np.max(my_array), np.min(my_array))\n",
    "print(my_array)"
   ]
  },
  {
   "cell_type": "markdown",
   "metadata": {},
   "source": [
    "Создайте array размером $5 \\times 6$ с целыми числами в интервале [0,50]. Напечатайте колонку, которая содержит максимальный элемент полученной матрицы "
   ]
  },
  {
   "cell_type": "code",
   "execution_count": 7,
   "metadata": {
    "scrolled": false
   },
   "outputs": [
    {
     "name": "stdout",
     "output_type": "stream",
     "text": [
      "Shape:  (5, 6)\n",
      "Array\n",
      "[[46 50 43 33 21 13]\n",
      " [ 7 30  1 26 19 38]\n",
      " [13 11 37 35 41 36]\n",
      " [35 43 21 35 14 29]\n",
      " [12  3 34 32 24  9]]\n",
      "[50 30 11 43  3]\n"
     ]
    }
   ],
   "source": [
    "import numpy as np\n",
    "\n",
    "my_array = np.random.randint(0, 51, size=(5, 6))\n",
    "my_array = np.random.randint(0, 51, size=(5, 6))\n",
    "max_element = np.max(my_array)\n",
    "maxValIndex = np.argmax(my_array)\n",
    "if maxValIndex > 5:\n",
    "    index_elm_row = maxValIndex - (int(maxValIndex/6))*6\n",
    "    selected_column = my_array[:, index_elm_row]\n",
    "else:\n",
    "    selected_column = my_array[:, maxValIndex]\n",
    "\n",
    "print('Shape: ',my_array.shape)\n",
    "print('Array')\n",
    "print(my_array)\n",
    "print(selected_column)"
   ]
  },
  {
   "cell_type": "markdown",
   "metadata": {},
   "source": [
    "Напишите функцию, которая принимает на вохд матрицу (array) X и возвращает все её уникальные строки в виде новой матрицы."
   ]
  },
  {
   "cell_type": "code",
   "execution_count": 8,
   "metadata": {},
   "outputs": [],
   "source": [
    "def get_unique_rows(X):\n",
    "    X_unique = np.unique(X, axis=0)\n",
    "    return X_unique"
   ]
  },
  {
   "cell_type": "code",
   "execution_count": 9,
   "metadata": {},
   "outputs": [
    {
     "name": "stdout",
     "output_type": "stream",
     "text": [
      "[[4 4 4]\n",
      " [5 5 4]\n",
      " [5 4 5]\n",
      " [4 5 4]\n",
      " [5 4 5]\n",
      " [5 4 4]\n",
      " [4 4 4]\n",
      " [4 4 5]\n",
      " [5 4 5]\n",
      " [5 4 4]]\n"
     ]
    }
   ],
   "source": [
    "X = np.random.randint(4, 6, size=(10,3))\n",
    "print(X)"
   ]
  },
  {
   "cell_type": "code",
   "execution_count": 10,
   "metadata": {
    "scrolled": false
   },
   "outputs": [
    {
     "data": {
      "text/plain": [
       "array([[4, 4, 4],\n",
       "       [4, 4, 5],\n",
       "       [4, 5, 4],\n",
       "       [5, 4, 4],\n",
       "       [5, 4, 5],\n",
       "       [5, 5, 4]])"
      ]
     },
     "execution_count": 10,
     "metadata": {},
     "output_type": "execute_result"
    }
   ],
   "source": [
    "get_unique_rows(X)"
   ]
  },
  {
   "cell_type": "code",
   "execution_count": null,
   "metadata": {},
   "outputs": [],
   "source": []
  }
 ],
 "metadata": {
  "kernelspec": {
   "display_name": "Python 3 (ipykernel)",
   "language": "python",
   "name": "python3"
  },
  "language_info": {
   "codemirror_mode": {
    "name": "ipython",
    "version": 3
   },
   "file_extension": ".py",
   "mimetype": "text/x-python",
   "name": "python",
   "nbconvert_exporter": "python",
   "pygments_lexer": "ipython3",
   "version": "3.11.4"
  },
  "varInspector": {
   "cols": {
    "lenName": 16,
    "lenType": 16,
    "lenVar": 40
   },
   "kernels_config": {
    "python": {
     "delete_cmd_postfix": "",
     "delete_cmd_prefix": "del ",
     "library": "var_list.py",
     "varRefreshCmd": "print(var_dic_list())"
    },
    "r": {
     "delete_cmd_postfix": ") ",
     "delete_cmd_prefix": "rm(",
     "library": "var_list.r",
     "varRefreshCmd": "cat(var_dic_list()) "
    }
   },
   "types_to_exclude": [
    "module",
    "function",
    "builtin_function_or_method",
    "instance",
    "_Feature"
   ],
   "window_display": false
  }
 },
 "nbformat": 4,
 "nbformat_minor": 2
}
