{
 "cells": [
  {
   "cell_type": "markdown",
   "id": "f2b039b3",
   "metadata": {},
   "source": [
    "# Рекомендация цифровой музыки"
   ]
  },
  {
   "cell_type": "markdown",
   "id": "1b765aae",
   "metadata": {},
   "source": [
    "<b>Цель.</b> Настало время поработать с данными самой большой и самой дорогой компании, занимающейся, похоже, уже всем на свете: от продажи всего и вся, до настройки облачных инфраструктур и создания роботов. Конечно же это компания Джеффа могу-купить-весь-мир Безоса - Amazon."
   ]
  },
  {
   "cell_type": "markdown",
   "id": "02ef3ffe-1fad-481d-b8a2-f0937be2cddc",
   "metadata": {},
   "source": [
    "<b>Описание/Пошаговая инструкция выполнения домашнего задания:</b>\n",
    "</br>1. Выберите любой понравившийся вам набор данных по ссылке https://nijianmo.github.io/amazon/index.html, стоит обратить внимание на раздел \"Small\" subsets for experimentation, где представлены не самые большие датасеты (чтобы и в память поместился, и считался недолго).\n",
    "</br>2. Проведите базовый EDA - распределения рейтингов, количество уникальных товаров и т.д.\n",
    "</br>3. Сделайте разбиение данных на train и test методом leave-one-out.\n",
    "</br>4. На основании вашего датасета постройте 2-3 рекомендательных модели, можно включить простой бейзлайн типа модели, рекомендующей самые популярные товары.\n",
    "</br>5. Оцените качество полученных рекомендаций по метрикам HR@10, MRR@10, NDCG@10, coverage.\n",
    "</br>6. Сделайте выводы о качестве моделей."
   ]
  },
  {
   "cell_type": "markdown",
   "id": "d705fafe",
   "metadata": {},
   "source": [
    "# Выполнение"
   ]
  },
  {
   "cell_type": "markdown",
   "id": "6b554579-bfbe-4c87-8247-ccaeb2e6097e",
   "metadata": {},
   "source": [
    "<b>Подготовка данных</b>"
   ]
  },
  {
   "cell_type": "markdown",
   "id": "ec6ab77e-e4e5-417f-b75d-99279767b347",
   "metadata": {},
   "source": [
    "Сначала импортируем необходимые библиотеки и загрузим датасет."
   ]
  },
  {
   "cell_type": "code",
   "execution_count": 1,
   "id": "85ffb39f-3895-4df2-94cc-a70cc8cf554c",
   "metadata": {},
   "outputs": [],
   "source": [
    "import pandas as pd\n",
    "import matplotlib.pyplot as plt\n",
    "import seaborn as sns\n",
    "import numpy as np\n",
    "from sklearn.model_selection import train_test_split\n",
    "from sklearn.metrics.pairwise import cosine_similarity\n",
    "from scipy.sparse import csr_matrix"
   ]
  },
  {
   "cell_type": "code",
   "execution_count": 2,
   "id": "56e8f639",
   "metadata": {},
   "outputs": [],
   "source": [
    "import warnings\n",
    "\n",
    "# Скрыть все предупреждения\n",
    "warnings.filterwarnings('ignore')"
   ]
  },
  {
   "cell_type": "markdown",
   "id": "0e2412ac",
   "metadata": {},
   "source": [
    "Загрузка данных."
   ]
  },
  {
   "cell_type": "code",
   "execution_count": 3,
   "id": "39a95ebb",
   "metadata": {},
   "outputs": [],
   "source": [
    "df = pd.read_csv('Digital_Music.csv')"
   ]
  },
  {
   "cell_type": "markdown",
   "id": "2958396e",
   "metadata": {},
   "source": [
    "# Базовый EDA"
   ]
  },
  {
   "cell_type": "markdown",
   "id": "56593c5f",
   "metadata": {},
   "source": [
    "Первые 5 строк датасета."
   ]
  },
  {
   "cell_type": "code",
   "execution_count": 4,
   "id": "77fbc7ae",
   "metadata": {},
   "outputs": [
    {
     "data": {
      "text/html": [
       "<div>\n",
       "<style scoped>\n",
       "    .dataframe tbody tr th:only-of-type {\n",
       "        vertical-align: middle;\n",
       "    }\n",
       "\n",
       "    .dataframe tbody tr th {\n",
       "        vertical-align: top;\n",
       "    }\n",
       "\n",
       "    .dataframe thead th {\n",
       "        text-align: right;\n",
       "    }\n",
       "</style>\n",
       "<table border=\"1\" class=\"dataframe\">\n",
       "  <thead>\n",
       "    <tr style=\"text-align: right;\">\n",
       "      <th></th>\n",
       "      <th>asin</th>\n",
       "      <th>reviewerID</th>\n",
       "      <th>overall</th>\n",
       "      <th>unixReviewTime</th>\n",
       "    </tr>\n",
       "  </thead>\n",
       "  <tbody>\n",
       "    <tr>\n",
       "      <th>0</th>\n",
       "      <td>0001388703</td>\n",
       "      <td>A1ZCPG3D3HGRSS</td>\n",
       "      <td>5.0</td>\n",
       "      <td>1387670400</td>\n",
       "    </tr>\n",
       "    <tr>\n",
       "      <th>1</th>\n",
       "      <td>0001388703</td>\n",
       "      <td>AC2PL52NKPL29</td>\n",
       "      <td>5.0</td>\n",
       "      <td>1378857600</td>\n",
       "    </tr>\n",
       "    <tr>\n",
       "      <th>2</th>\n",
       "      <td>0001388703</td>\n",
       "      <td>A1SUZXBDZSDQ3A</td>\n",
       "      <td>5.0</td>\n",
       "      <td>1362182400</td>\n",
       "    </tr>\n",
       "    <tr>\n",
       "      <th>3</th>\n",
       "      <td>0001388703</td>\n",
       "      <td>A3A0W7FZXM0IZW</td>\n",
       "      <td>5.0</td>\n",
       "      <td>1354406400</td>\n",
       "    </tr>\n",
       "    <tr>\n",
       "      <th>4</th>\n",
       "      <td>0001388703</td>\n",
       "      <td>A12R54MKO17TW0</td>\n",
       "      <td>5.0</td>\n",
       "      <td>1325894400</td>\n",
       "    </tr>\n",
       "  </tbody>\n",
       "</table>\n",
       "</div>"
      ],
      "text/plain": [
       "         asin      reviewerID  overall  unixReviewTime\n",
       "0  0001388703  A1ZCPG3D3HGRSS      5.0      1387670400\n",
       "1  0001388703   AC2PL52NKPL29      5.0      1378857600\n",
       "2  0001388703  A1SUZXBDZSDQ3A      5.0      1362182400\n",
       "3  0001388703  A3A0W7FZXM0IZW      5.0      1354406400\n",
       "4  0001388703  A12R54MKO17TW0      5.0      1325894400"
      ]
     },
     "execution_count": 4,
     "metadata": {},
     "output_type": "execute_result"
    }
   ],
   "source": [
    "df.head()"
   ]
  },
  {
   "cell_type": "markdown",
   "id": "cc72ae38",
   "metadata": {},
   "source": [
    "Общая информация о датасете."
   ]
  },
  {
   "cell_type": "code",
   "execution_count": 5,
   "id": "214237fc",
   "metadata": {},
   "outputs": [
    {
     "name": "stdout",
     "output_type": "stream",
     "text": [
      "<class 'pandas.core.frame.DataFrame'>\n",
      "RangeIndex: 1584082 entries, 0 to 1584081\n",
      "Data columns (total 4 columns):\n",
      " #   Column          Non-Null Count    Dtype  \n",
      "---  ------          --------------    -----  \n",
      " 0   asin            1584082 non-null  object \n",
      " 1   reviewerID      1584082 non-null  object \n",
      " 2   overall         1584082 non-null  float64\n",
      " 3   unixReviewTime  1584082 non-null  int64  \n",
      "dtypes: float64(1), int64(1), object(2)\n",
      "memory usage: 48.3+ MB\n"
     ]
    }
   ],
   "source": [
    "df.info()"
   ]
  },
  {
   "cell_type": "markdown",
   "id": "83898c4b",
   "metadata": {},
   "source": [
    "Описание числовых столбцов."
   ]
  },
  {
   "cell_type": "code",
   "execution_count": 6,
   "id": "5d298147",
   "metadata": {},
   "outputs": [
    {
     "data": {
      "text/html": [
       "<div>\n",
       "<style scoped>\n",
       "    .dataframe tbody tr th:only-of-type {\n",
       "        vertical-align: middle;\n",
       "    }\n",
       "\n",
       "    .dataframe tbody tr th {\n",
       "        vertical-align: top;\n",
       "    }\n",
       "\n",
       "    .dataframe thead th {\n",
       "        text-align: right;\n",
       "    }\n",
       "</style>\n",
       "<table border=\"1\" class=\"dataframe\">\n",
       "  <thead>\n",
       "    <tr style=\"text-align: right;\">\n",
       "      <th></th>\n",
       "      <th>overall</th>\n",
       "      <th>unixReviewTime</th>\n",
       "    </tr>\n",
       "  </thead>\n",
       "  <tbody>\n",
       "    <tr>\n",
       "      <th>count</th>\n",
       "      <td>1.584082e+06</td>\n",
       "      <td>1.584082e+06</td>\n",
       "    </tr>\n",
       "    <tr>\n",
       "      <th>mean</th>\n",
       "      <td>4.660555e+00</td>\n",
       "      <td>1.408211e+09</td>\n",
       "    </tr>\n",
       "    <tr>\n",
       "      <th>std</th>\n",
       "      <td>8.440314e-01</td>\n",
       "      <td>7.857646e+07</td>\n",
       "    </tr>\n",
       "    <tr>\n",
       "      <th>min</th>\n",
       "      <td>1.000000e+00</td>\n",
       "      <td>8.773056e+08</td>\n",
       "    </tr>\n",
       "    <tr>\n",
       "      <th>25%</th>\n",
       "      <td>5.000000e+00</td>\n",
       "      <td>1.374883e+09</td>\n",
       "    </tr>\n",
       "    <tr>\n",
       "      <th>50%</th>\n",
       "      <td>5.000000e+00</td>\n",
       "      <td>1.420070e+09</td>\n",
       "    </tr>\n",
       "    <tr>\n",
       "      <th>75%</th>\n",
       "      <td>5.000000e+00</td>\n",
       "      <td>1.457222e+09</td>\n",
       "    </tr>\n",
       "    <tr>\n",
       "      <th>max</th>\n",
       "      <td>5.000000e+00</td>\n",
       "      <td>1.538438e+09</td>\n",
       "    </tr>\n",
       "  </tbody>\n",
       "</table>\n",
       "</div>"
      ],
      "text/plain": [
       "            overall  unixReviewTime\n",
       "count  1.584082e+06    1.584082e+06\n",
       "mean   4.660555e+00    1.408211e+09\n",
       "std    8.440314e-01    7.857646e+07\n",
       "min    1.000000e+00    8.773056e+08\n",
       "25%    5.000000e+00    1.374883e+09\n",
       "50%    5.000000e+00    1.420070e+09\n",
       "75%    5.000000e+00    1.457222e+09\n",
       "max    5.000000e+00    1.538438e+09"
      ]
     },
     "execution_count": 6,
     "metadata": {},
     "output_type": "execute_result"
    }
   ],
   "source": [
    "df.describe()"
   ]
  },
  {
   "cell_type": "code",
   "execution_count": 7,
   "id": "75c1d437",
   "metadata": {},
   "outputs": [
    {
     "name": "stdout",
     "output_type": "stream",
     "text": [
      "\n",
      "Количество уникальных товаров (asin): 456992\n",
      "Количество уникальных пользователей (reviewerID): 840372\n"
     ]
    }
   ],
   "source": [
    "print(\"\\nКоличество уникальных товаров (asin):\", df['asin'].nunique())\n",
    "print(\"Количество уникальных пользователей (reviewerID):\", df['reviewerID'].nunique())"
   ]
  },
  {
   "cell_type": "code",
   "execution_count": 8,
   "id": "add6a40a",
   "metadata": {},
   "outputs": [
    {
     "name": "stdout",
     "output_type": "stream",
     "text": [
      "Размер исходного датасета: (1584082, 4)\n",
      "Размер уменьшенного датасета: (99002, 4)\n",
      "Количество уникальных пользователей в уменьшенном датасете: 9211\n",
      "Количество уникальных товаров в уменьшенном датасете: 9188\n"
     ]
    }
   ],
   "source": [
    "# Подсчет количества отзывов для каждого пользователя и товара\n",
    "user_counts = df['reviewerID'].value_counts()\n",
    "item_counts = df['asin'].value_counts()\n",
    "\n",
    "# Выбор 10000 самых активных пользователей и 10000 самых популярных товаров\n",
    "top_users = user_counts.head(10000).index\n",
    "top_items = item_counts.head(10000).index\n",
    "\n",
    "# Фильтрация датасета для оставления только выбранных пользователей и товаров\n",
    "filtered_df = df[df['reviewerID'].isin(top_users) & df['asin'].isin(top_items)]\n",
    "\n",
    "print(\"Размер исходного датасета:\", df.shape)\n",
    "print(\"Размер уменьшенного датасета:\", filtered_df.shape)\n",
    "print(\"Количество уникальных пользователей в уменьшенном датасете:\", filtered_df['reviewerID'].nunique())\n",
    "print(\"Количество уникальных товаров в уменьшенном датасете:\", filtered_df['asin'].nunique())"
   ]
  },
  {
   "cell_type": "markdown",
   "id": "ad2bf076",
   "metadata": {},
   "source": [
    "Распределение рейтингов."
   ]
  },
  {
   "cell_type": "code",
   "execution_count": 9,
   "id": "07b58829",
   "metadata": {},
   "outputs": [
    {
     "data": {
      "image/png": "[encoded data removed]",
      "text/plain": [
       "<Figure size 1000x600 with 1 Axes>"
      ]
     },
     "metadata": {},
     "output_type": "display_data"
    }
   ],
   "source": [
    "plt.figure(figsize=(10, 6))\n",
    "sns.countplot(x='overall', data=filtered_df)\n",
    "plt.title('Распределение рейтингов')\n",
    "plt.xlabel('Рейтинг')\n",
    "plt.ylabel('Количество')\n",
    "plt.show()"
   ]
  },
  {
   "cell_type": "markdown",
   "id": "d050d00c",
   "metadata": {},
   "source": [
    "Распределение временных меток (год)."
   ]
  },
  {
   "cell_type": "code",
   "execution_count": 10,
   "id": "14f9cd2d",
   "metadata": {},
   "outputs": [
    {
     "data": {
      "image/png": "[encoded data removed]",
      "text/plain": [
       "<Figure size 1000x600 with 1 Axes>"
      ]
     },
     "metadata": {},
     "output_type": "display_data"
    }
   ],
   "source": [
    "filtered_df['year'] = pd.to_datetime(filtered_df['unixReviewTime'], unit='s').dt.year\n",
    "plt.figure(figsize=(10, 6))\n",
    "sns.countplot(x='year', data=filtered_df)\n",
    "plt.title('Распределение отзывов по годам')\n",
    "plt.xlabel('Год')\n",
    "plt.ylabel('Количество')\n",
    "plt.show()"
   ]
  },
  {
   "cell_type": "markdown",
   "id": "c887db67",
   "metadata": {},
   "source": [
    "# Разбиение данных на train и test методом leave-one-out"
   ]
  },
  {
   "cell_type": "code",
   "execution_count": 11,
   "id": "fcfeee4e",
   "metadata": {},
   "outputs": [
    {
     "name": "stdout",
     "output_type": "stream",
     "text": [
      "Размер train датасета: (89791, 5)\n",
      "Размер test датасета: (8637, 5)\n"
     ]
    }
   ],
   "source": [
    "# Для каждого пользователя оставляем один отзыв в качестве теста\n",
    "def leave_one_out_split(filtered_df, user_col='reviewerID', item_col='asin'):\n",
    "    test_indices = filtered_df.groupby(user_col, group_keys=False).apply(lambda x: x.sample(1)).index\n",
    "    train = filtered_df.drop(test_indices)\n",
    "    test = filtered_df.loc[test_indices]\n",
    "    return train, test\n",
    "\n",
    "train, test = leave_one_out_split(filtered_df)\n",
    "\n",
    "# Убедимся, что все пользователи из теста есть в тренировочном наборе\n",
    "test = test[test['reviewerID'].isin(train['reviewerID'])]\n",
    "\n",
    "print(\"Размер train датасета:\", train.shape)\n",
    "print(\"Размер test датасета:\", test.shape)"
   ]
  },
  {
   "cell_type": "markdown",
   "id": "336b971d",
   "metadata": {},
   "source": [
    "# Построение рекомендательных моделей"
   ]
  },
  {
   "cell_type": "markdown",
   "id": "84185c1d",
   "metadata": {},
   "source": [
    "Модель 1: Рекомендация популярных товаров."
   ]
  },
  {
   "cell_type": "code",
   "execution_count": 12,
   "id": "cd981856",
   "metadata": {},
   "outputs": [],
   "source": [
    "class PopularityRecommender:\n",
    "    def fit(self, train):\n",
    "        self.popularity = train['asin'].value_counts().index.tolist()\n",
    "        \n",
    "    def recommend(self, user, N=10):\n",
    "        return self.popularity[:N]\n",
    "\n",
    "pop_rec = PopularityRecommender()\n",
    "pop_rec.fit(train)"
   ]
  },
  {
   "cell_type": "markdown",
   "id": "e6acdd8c",
   "metadata": {},
   "source": [
    "Модель 2: Коллаборативная фильтрация (Item-Item)."
   ]
  },
  {
   "cell_type": "code",
   "execution_count": 13,
   "id": "fda4a4a5",
   "metadata": {},
   "outputs": [
    {
     "name": "stdout",
     "output_type": "stream",
     "text": [
      "Размер train датасета после удаления дубликатов: (76743, 3)\n"
     ]
    }
   ],
   "source": [
    "# Удаление дубликатов путем усреднения оценок\n",
    "train = train.groupby(['reviewerID', 'asin']).agg({'overall': 'mean'}).reset_index()\n",
    "\n",
    "print(\"Размер train датасета после удаления дубликатов:\", train.shape)\n",
    "\n",
    "# Обучение рекомендательной модели\n",
    "class ItemItemRecommender:\n",
    "    def fit(self, train):\n",
    "        user_item_matrix = train.pivot(index='reviewerID', columns='asin', values='overall').fillna(0)\n",
    "        self.user_item_matrix_sparse = csr_matrix(user_item_matrix.values)\n",
    "        self.item_similarity = cosine_similarity(self.user_item_matrix_sparse.T)\n",
    "        self.items = user_item_matrix.columns\n",
    "        self.user_item_matrix = user_item_matrix\n",
    "        \n",
    "    def recommend(self, user, N=10):\n",
    "        user_ratings = self.user_item_matrix.loc[user]\n",
    "        scores = user_ratings.values @ self.item_similarity\n",
    "        scores = pd.Series(scores, index=self.items)\n",
    "        scores = scores[user_ratings == 0]\n",
    "        return scores.nlargest(N).index.tolist()\n",
    "\n",
    "ii_rec = ItemItemRecommender()\n",
    "ii_rec.fit(train)"
   ]
  },
  {
   "cell_type": "markdown",
   "id": "0158d42b",
   "metadata": {},
   "source": [
    "# Оценка качества рекомендаций"
   ]
  },
  {
   "cell_type": "code",
   "execution_count": 14,
   "id": "0e662041",
   "metadata": {},
   "outputs": [
    {
     "name": "stdout",
     "output_type": "stream",
     "text": [
      "                 HR@10    MRR@10   NDCG@10  Coverage\n",
      "Popularity    0.017251  0.007769  0.009962  0.001106\n",
      "Item-Item CF  0.072363  0.038452  0.046358  0.933835\n"
     ]
    }
   ],
   "source": [
    "# Функция для оценки метрик\n",
    "def hit_rate(recommended, relevant):\n",
    "    return int(relevant in recommended)\n",
    "\n",
    "def reciprocal_rank(recommended, relevant):\n",
    "    if relevant in recommended:\n",
    "        return 1 / (recommended.index(relevant) + 1)\n",
    "    return 0\n",
    "\n",
    "def ndcg(recommended, relevant):\n",
    "    if relevant in recommended:\n",
    "        rank = recommended.index(relevant) + 1\n",
    "        return 1 / np.log2(rank + 1)\n",
    "    return 0\n",
    "\n",
    "def coverage(recommender, users, items, N=10):\n",
    "    recommended_items = set()\n",
    "    for user in users:\n",
    "        recommended_items.update(recommender.recommend(user, N))\n",
    "    return len(recommended_items) / len(items)\n",
    "\n",
    "def evaluate(recommender, train, test, N=10):\n",
    "    hr, rr, ndcg_score = 0, 0, 0\n",
    "    for _, row in test.iterrows():\n",
    "        user = row['reviewerID']\n",
    "        relevant = row['asin']\n",
    "        recommended = recommender.recommend(user, N)\n",
    "        hr += hit_rate(recommended, relevant)\n",
    "        rr += reciprocal_rank(recommended, relevant)\n",
    "        ndcg_score += ndcg(recommended, relevant)\n",
    "    hr /= len(test)\n",
    "    rr /= len(test)\n",
    "    ndcg_score /= len(test)\n",
    "    cov = coverage(recommender, train['reviewerID'].unique(), train['asin'].unique(), N)\n",
    "    return hr, rr, ndcg_score, cov\n",
    "\n",
    "# Оценка качества\n",
    "pop_metrics = evaluate(pop_rec, train, test)\n",
    "ii_metrics = evaluate(ii_rec, train, test)\n",
    "\n",
    "# Вывод результатов\n",
    "metrics_df = pd.DataFrame([pop_metrics, ii_metrics], columns=['HR@10', 'MRR@10', 'NDCG@10', 'Coverage'], index=['Popularity', 'Item-Item CF'])\n",
    "print(metrics_df)"
   ]
  },
  {
   "cell_type": "markdown",
   "id": "310f5281",
   "metadata": {},
   "source": [
    "<b>Вывод.</b>\n",
    "\n",
    "<b>Модель популярности:</b>\n",
    "* Рекомендует ограниченное количество самых популярных товаров.\n",
    "* Показатели HR, MRR и NDCG низкие, что указывает на слабую релевантность и качество рекомендаций.\n",
    "* Очень низкое покрытие указывает на отсутствие разнообразия в рекомендациях.\n",
    "\n",
    "<b>Item-Item Collaborative Filtering:<b>\n",
    "* Значительно лучше справляется с рекомендацией релевантных товаров.\n",
    "* Высокие показатели HR, MRR и NDCG указывают на лучшую релевантность и качество рекомендаций.\n",
    "* Высокое покрытие показывает, что модель предоставляет разнообразные рекомендации, охватывая практически весь ассортимент доступных товаров.\n",
    "\n",
    "<b>Таким образом, модель Item-Item CF явно превосходит модель популярности по всем метрикам, предоставляя более релевантные и разнообразные рекомендации.<b>"
   ]
  }
 ],
 "metadata": {
  "kernelspec": {
   "display_name": "Python 3 (ipykernel)",
   "language": "python",
   "name": "python3"
  },
  "language_info": {
   "codemirror_mode": {
    "name": "ipython",
    "version": 3
   },
   "file_extension": ".py",
   "mimetype": "text/x-python",
   "name": "python",
   "nbconvert_exporter": "python",
   "pygments_lexer": "ipython3",
   "version": "3.9.5"
  }
 },
 "nbformat": 4,
 "nbformat_minor": 5
}
