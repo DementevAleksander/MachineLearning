{
 "cells": [
  {
   "cell_type": "markdown",
   "id": "f2b039b3",
   "metadata": {},
   "source": [
    "# Что день грядущий нам готовит? Построение прогноза временного ряда с использованием изученных методов"
   ]
  },
  {
   "cell_type": "markdown",
   "id": "1b765aae",
   "metadata": {},
   "source": [
    "<b>Цель.</b> В этом домашнем задании будет заниматься очень интересными прогнозами, которые вполне могут быть полезны для организации работы метро - попробуем построить модель, которая предсказывает, сколько пассажиров будут им пользоваться в ближайшее время."
   ]
  },
  {
   "cell_type": "markdown",
   "id": "02ef3ffe-1fad-481d-b8a2-f0937be2cddc",
   "metadata": {},
   "source": [
    "<b>Описание/Пошаговая инструкция выполнения домашнего задания:</b>\n",
    "\n",
    "<b>Подготовка:</b>\n",
    "</br>1. Скачиваем данные по загруженности метро вот отсюда https://archive.ics.uci.edu/ml/datasets/Metro+Interstate+Traffic+Volume\n",
    "</br>2. Проводим базовый EDA, вам понадобятся только 4 столбца датасета - traffic_volume (наша целевая переменная), date_time, holiday (является ли день некоторым праздником) и temp (температура воздуха).\n",
    "</br>3. По результатам EDA убеждаемся, что в этом временном ряду во-первых, есть дубликаты, а во-вторых, нарушена равномерность временных интервалов, т.е. не все значения отстоят друг от друга на 1 час - дубликаты удаляем, а временные интервалы выравниваем и заполняем пропуски при помощи линейной интерполяции (подсказка - в этом вам помогут функции pd.date_range, и interpolate, пример можно найти здесь - https://pandas.pydata.org/pandas-docs/stable/reference/api/pandas.Series.interpolate.html).\n",
    "\n",
    "<b>Моделирование:</b>\n",
    "</br>Теперь, когда ряд выглядит более-менее адекватно, настало время прогнозировать. Нашей целью будет построить модель, которая способна прогнозировать загрузку метро на ближайшую неделю (т.е, так как данные у нас дневные, модель должна предсказывать на 24*7 точек вперёд).\n",
    "</br>4. Отложите последние две недели в датасете для тестирования вашей модели - на этих данных вы будете проверять финальное качество всех моделек.\n",
    "</br>5. Теперь у вас осталось еще много-много наблюдений во временном ряду, исходя из графиков, трендов и т.д., попробуйте предположить, какие исторические данные действительно будут релевантны для прогнозов текущих значений, возможно, предыдущие три года уже не так сильно влияют на следующую неделю и можно значительную часть данных просто выкинуть.\n",
    "</br>6. Генерируем дополнительные признаки из индекса, особенно нужен день недели и час дня.\n",
    "</br>7. Строим baseline прогноз - по тем данным, которые вы решили оставить для обучения модели, посчитайте средние значения по часам и по дням (вам поможет data.groupby([\"weekday\", \"hour\"])[\"traffic_volume\"].mean() и используйте эти значения в качестве прогноза на отложенную выборку - посчитайте метрики качества, которые вы посчитаете нужными.\n",
    "</br>8. А теперь свободное творчество - попробуйте построить разные модели, которые мы с вами разбирали, и побить качество базового прогноза.\n",
    "\n",
    "<b>Несколько советов:</b>\n",
    "* для SARIMA модели имеет смысл указать недельную сезонность (т.е. 24*7), чтобы она учла падения по выходным;\n",
    "* попробуйте использовать температуру воздуха, как признак, в этом случае можно отдельно спрогнозировать температуру (например, используя SARIMA), а затем воспользоваться этими предсказаниями, когда будете делать прогноз для отложенной части выборки.\n",
    "* Наконец, когда вы подберете модель, устраивающую вас по качеству на отложенной выборке, используйте эту выборку для построения прогноза на следующую неделю и попробуйте построить доверительные интервалы для этого прогноза.\n",
    "* Теперь вы круто разбираетесь в прогнозировании и временных рядах :)"
   ]
  },
  {
   "cell_type": "markdown",
   "id": "d705fafe",
   "metadata": {},
   "source": [
    "# Выполнение"
   ]
  },
  {
   "cell_type": "markdown",
   "id": "6b554579-bfbe-4c87-8247-ccaeb2e6097e",
   "metadata": {},
   "source": [
    "<b>Подготовка данных</b>"
   ]
  },
  {
   "cell_type": "markdown",
   "id": "ec6ab77e-e4e5-417f-b75d-99279767b347",
   "metadata": {},
   "source": [
    "Сначала импортируем необходимые библиотеки и загрузим датасет."
   ]
  },
  {
   "cell_type": "code",
   "execution_count": 1,
   "id": "85ffb39f-3895-4df2-94cc-a70cc8cf554c",
   "metadata": {},
   "outputs": [],
   "source": [
    "import pandas as pd\n",
    "import numpy as np\n",
    "import matplotlib.pyplot as plt\n",
    "import seaborn as sns"
   ]
  },
  {
   "cell_type": "code",
   "execution_count": 2,
   "id": "b6a9532f-f04f-4309-9990-4a69252e5811",
   "metadata": {},
   "outputs": [
    {
     "data": {
      "text/html": [
       "<div>\n",
       "<style scoped>\n",
       "    .dataframe tbody tr th:only-of-type {\n",
       "        vertical-align: middle;\n",
       "    }\n",
       "\n",
       "    .dataframe tbody tr th {\n",
       "        vertical-align: top;\n",
       "    }\n",
       "\n",
       "    .dataframe thead th {\n",
       "        text-align: right;\n",
       "    }\n",
       "</style>\n",
       "<table border=\"1\" class=\"dataframe\">\n",
       "  <thead>\n",
       "    <tr style=\"text-align: right;\">\n",
       "      <th></th>\n",
       "      <th>traffic_volume</th>\n",
       "      <th>holiday</th>\n",
       "      <th>temp</th>\n",
       "    </tr>\n",
       "    <tr>\n",
       "      <th>date_time</th>\n",
       "      <th></th>\n",
       "      <th></th>\n",
       "      <th></th>\n",
       "    </tr>\n",
       "  </thead>\n",
       "  <tbody>\n",
       "    <tr>\n",
       "      <th>2012-10-02 09:00:00</th>\n",
       "      <td>5545</td>\n",
       "      <td>NaN</td>\n",
       "      <td>288.28</td>\n",
       "    </tr>\n",
       "    <tr>\n",
       "      <th>2012-10-02 10:00:00</th>\n",
       "      <td>4516</td>\n",
       "      <td>NaN</td>\n",
       "      <td>289.36</td>\n",
       "    </tr>\n",
       "    <tr>\n",
       "      <th>2012-10-02 11:00:00</th>\n",
       "      <td>4767</td>\n",
       "      <td>NaN</td>\n",
       "      <td>289.58</td>\n",
       "    </tr>\n",
       "    <tr>\n",
       "      <th>2012-10-02 12:00:00</th>\n",
       "      <td>5026</td>\n",
       "      <td>NaN</td>\n",
       "      <td>290.13</td>\n",
       "    </tr>\n",
       "    <tr>\n",
       "      <th>2012-10-02 13:00:00</th>\n",
       "      <td>4918</td>\n",
       "      <td>NaN</td>\n",
       "      <td>291.14</td>\n",
       "    </tr>\n",
       "  </tbody>\n",
       "</table>\n",
       "</div>"
      ],
      "text/plain": [
       "                     traffic_volume holiday    temp\n",
       "date_time                                          \n",
       "2012-10-02 09:00:00            5545     NaN  288.28\n",
       "2012-10-02 10:00:00            4516     NaN  289.36\n",
       "2012-10-02 11:00:00            4767     NaN  289.58\n",
       "2012-10-02 12:00:00            5026     NaN  290.13\n",
       "2012-10-02 13:00:00            4918     NaN  291.14"
      ]
     },
     "execution_count": 2,
     "metadata": {},
     "output_type": "execute_result"
    }
   ],
   "source": [
    "# Загрузка данных\n",
    "data = pd.read_csv('Metro_Interstate_Traffic_Volume.csv')\n",
    "\n",
    "# Оставляем только необходимые столбцы\n",
    "data = data[['date_time', 'traffic_volume', 'holiday', 'temp']]\n",
    "\n",
    "# Преобразуем date_time в формат datetime\n",
    "data['date_time'] = pd.to_datetime(data['date_time'])\n",
    "\n",
    "# Устанавливаем date_time как индекс\n",
    "data.set_index('date_time', inplace=True)\n",
    "\n",
    "# Просмотрим несколько строк данных\n",
    "data.head()"
   ]
  },
  {
   "cell_type": "markdown",
   "id": "f33ef9d8-b682-4997-97e4-bd3e5c1b9518",
   "metadata": {},
   "source": [
    "<b>Базовый EDA</b>"
   ]
  },
  {
   "cell_type": "markdown",
   "id": "99fcf157-eb3d-4d96-a516-ab4d19df4dcc",
   "metadata": {},
   "source": [
    "Проведем базовый анализ данных, чтобы понять их структуру. Убеждаемся, что в этом временном ряду во-первых, есть дубликаты, а во-вторых, нарушена равномерность временных интервалов, т.е. не все значения отстоят друг от друга на 1 час."
   ]
  },
  {
   "cell_type": "code",
   "execution_count": 3,
   "id": "e7b6c9f9-d4db-49e6-acf2-a67a632be434",
   "metadata": {},
   "outputs": [
    {
     "name": "stdout",
     "output_type": "stream",
     "text": [
      "traffic_volume        0\n",
      "holiday           48143\n",
      "temp                  0\n",
      "dtype: int64\n",
      "       traffic_volume          temp\n",
      "count    48204.000000  48204.000000\n",
      "mean      3259.818355    281.205870\n",
      "std       1986.860670     13.338232\n",
      "min          0.000000      0.000000\n",
      "25%       1193.000000    272.160000\n",
      "50%       3380.000000    282.450000\n",
      "75%       4933.000000    291.806000\n",
      "max       7280.000000    310.070000\n",
      "Количество дубликатов: 7598\n"
     ]
    },
    {
     "data": {
      "image/png": "[encoded data removed]",
      "text/plain": [
       "<Figure size 1500x500 with 1 Axes>"
      ]
     },
     "metadata": {},
     "output_type": "display_data"
    }
   ],
   "source": [
    "# Проверим наличие пропусков\n",
    "print(data.isnull().sum())\n",
    "\n",
    "# Статистическое описание данных\n",
    "print(data.describe())\n",
    "\n",
    "# Проверим дубликаты\n",
    "duplicates = data.duplicated().sum()\n",
    "print(f'Количество дубликатов: {duplicates}')\n",
    "\n",
    "# Визуализируем временной ряд traffic_volume\n",
    "plt.figure(figsize=(15, 5))\n",
    "data['traffic_volume'].plot()\n",
    "plt.title('Traffic Volume Over Time')\n",
    "plt.xlabel('Date')\n",
    "plt.ylabel('Traffic Volume')\n",
    "plt.show()"
   ]
  },
  {
   "cell_type": "markdown",
   "id": "584bdf02-f559-4de1-aafc-983883408a21",
   "metadata": {},
   "source": [
    "<b>Проверка равномерности временных интервалов и заполнение пропусков.</b>"
   ]
  },
  {
   "cell_type": "markdown",
   "id": "9322940f-9b6a-46be-b541-303918abc3ec",
   "metadata": {},
   "source": [
    "Дубликаты удаляем, а временные интервалы выравниваем и заполняем пропуски при помощи линейной интерполяции."
   ]
  },
  {
   "cell_type": "code",
   "execution_count": 4,
   "id": "16df80bc-ce07-4071-8a85-ad6bd8622952",
   "metadata": {},
   "outputs": [],
   "source": [
    "# Удалим дубликаты\n",
    "data = data[~data.index.duplicated(keep='first')]"
   ]
  },
  {
   "cell_type": "code",
   "execution_count": 5,
   "id": "a6659819-0c90-456a-85b7-6447623cdd6a",
   "metadata": {},
   "outputs": [
    {
     "name": "stdout",
     "output_type": "stream",
     "text": [
      "traffic_volume    0\n",
      "holiday           0\n",
      "temp              0\n",
      "dtype: int64\n"
     ]
    }
   ],
   "source": [
    "# Создадим полный временной индекс с шагом в 1 час\n",
    "full_index = pd.date_range(start=data.index.min(), end=data.index.max(), freq='h')\n",
    "\n",
    "# Реиндексируем данные\n",
    "data = data.reindex(full_index)\n",
    "\n",
    "# Преобразуем типы данных, чтобы интерполяция работала корректно\n",
    "data['holiday'] = data['holiday'].astype('object')\n",
    "data[['traffic_volume', 'temp']] = data[['traffic_volume', 'temp']].apply(pd.to_numeric)\n",
    "\n",
    "# Заполним пропуски линейной интерполяцией только для числовых столбцов\n",
    "data[['traffic_volume', 'temp']] = data[['traffic_volume', 'temp']].interpolate(method='linear')\n",
    "\n",
    "# Заполним пропуски в столбце holiday методом forward fill и backfill\n",
    "data['holiday'] = data['holiday'].bfill().ffill()\n",
    "\n",
    "# Проверим на наличие пропусков\n",
    "print(data.isnull().sum())"
   ]
  },
  {
   "cell_type": "markdown",
   "id": "8d741594-657c-4dce-a9ff-a7a84659708d",
   "metadata": {},
   "source": [
    "<b>Отложим последние две недели данных для тестирования модели</b>"
   ]
  },
  {
   "cell_type": "code",
   "execution_count": 6,
   "id": "6a13163f-e4c9-45f4-ad6a-a97dce4c422b",
   "metadata": {},
   "outputs": [
    {
     "name": "stdout",
     "output_type": "stream",
     "text": [
      "Train data: (52215, 3)\n",
      "Test data: (336, 3)\n"
     ]
    }
   ],
   "source": [
    "# Отделим последние две недели данных для тестирования\n",
    "test_data = data[-2*7*24:]\n",
    "train_data = data[:-2*7*24]\n",
    "\n",
    "print(f'Train data: {train_data.shape}')\n",
    "print(f'Test data: {test_data.shape}')"
   ]
  },
  {
   "cell_type": "markdown",
   "id": "5acd26d1-9aba-4542-85c8-6ff2c1dc2e9c",
   "metadata": {},
   "source": [
    "<b>Генерация дополнительных признаков</b>"
   ]
  },
  {
   "cell_type": "markdown",
   "id": "9844ade6-b342-44b8-92d6-54db7fa4ec71",
   "metadata": {},
   "source": [
    "Создадим новые признаки, такие как день недели и час дня:"
   ]
  },
  {
   "cell_type": "code",
   "execution_count": 7,
   "id": "823a2024-22ce-42b5-85cb-8352c573a51f",
   "metadata": {},
   "outputs": [
    {
     "data": {
      "text/html": [
       "<div>\n",
       "<style scoped>\n",
       "    .dataframe tbody tr th:only-of-type {\n",
       "        vertical-align: middle;\n",
       "    }\n",
       "\n",
       "    .dataframe tbody tr th {\n",
       "        vertical-align: top;\n",
       "    }\n",
       "\n",
       "    .dataframe thead th {\n",
       "        text-align: right;\n",
       "    }\n",
       "</style>\n",
       "<table border=\"1\" class=\"dataframe\">\n",
       "  <thead>\n",
       "    <tr style=\"text-align: right;\">\n",
       "      <th></th>\n",
       "      <th>traffic_volume</th>\n",
       "      <th>holiday</th>\n",
       "      <th>temp</th>\n",
       "      <th>weekday</th>\n",
       "      <th>hour</th>\n",
       "    </tr>\n",
       "  </thead>\n",
       "  <tbody>\n",
       "    <tr>\n",
       "      <th>2012-10-02 09:00:00</th>\n",
       "      <td>5545.0</td>\n",
       "      <td>Columbus Day</td>\n",
       "      <td>288.28</td>\n",
       "      <td>1</td>\n",
       "      <td>9</td>\n",
       "    </tr>\n",
       "    <tr>\n",
       "      <th>2012-10-02 10:00:00</th>\n",
       "      <td>4516.0</td>\n",
       "      <td>Columbus Day</td>\n",
       "      <td>289.36</td>\n",
       "      <td>1</td>\n",
       "      <td>10</td>\n",
       "    </tr>\n",
       "    <tr>\n",
       "      <th>2012-10-02 11:00:00</th>\n",
       "      <td>4767.0</td>\n",
       "      <td>Columbus Day</td>\n",
       "      <td>289.58</td>\n",
       "      <td>1</td>\n",
       "      <td>11</td>\n",
       "    </tr>\n",
       "    <tr>\n",
       "      <th>2012-10-02 12:00:00</th>\n",
       "      <td>5026.0</td>\n",
       "      <td>Columbus Day</td>\n",
       "      <td>290.13</td>\n",
       "      <td>1</td>\n",
       "      <td>12</td>\n",
       "    </tr>\n",
       "    <tr>\n",
       "      <th>2012-10-02 13:00:00</th>\n",
       "      <td>4918.0</td>\n",
       "      <td>Columbus Day</td>\n",
       "      <td>291.14</td>\n",
       "      <td>1</td>\n",
       "      <td>13</td>\n",
       "    </tr>\n",
       "  </tbody>\n",
       "</table>\n",
       "</div>"
      ],
      "text/plain": [
       "                     traffic_volume       holiday    temp  weekday  hour\n",
       "2012-10-02 09:00:00          5545.0  Columbus Day  288.28        1     9\n",
       "2012-10-02 10:00:00          4516.0  Columbus Day  289.36        1    10\n",
       "2012-10-02 11:00:00          4767.0  Columbus Day  289.58        1    11\n",
       "2012-10-02 12:00:00          5026.0  Columbus Day  290.13        1    12\n",
       "2012-10-02 13:00:00          4918.0  Columbus Day  291.14        1    13"
      ]
     },
     "execution_count": 7,
     "metadata": {},
     "output_type": "execute_result"
    }
   ],
   "source": [
    "# Генерация признаков из индекса с использованием .assign\n",
    "train_data = train_data.assign(\n",
    "    weekday=train_data.index.weekday,\n",
    "    hour=train_data.index.hour\n",
    ")\n",
    "\n",
    "test_data = test_data.assign(\n",
    "    weekday=test_data.index.weekday,\n",
    "    hour=test_data.index.hour\n",
    ")\n",
    "\n",
    "# Просмотрим обновленные данные\n",
    "train_data.head()"
   ]
  },
  {
   "cell_type": "markdown",
   "id": "613a1fde-7116-415c-a9da-16bca0e4a6e9",
   "metadata": {},
   "source": [
    "<b>Baseline прогноз</b>"
   ]
  },
  {
   "cell_type": "markdown",
   "id": "c43f89e2-84cd-4e3f-8f27-ccbcc2c451ea",
   "metadata": {},
   "source": [
    "Считаем средние значения по часам и дням недели:"
   ]
  },
  {
   "cell_type": "code",
   "execution_count": 8,
   "id": "f0e1d941-191f-4230-b4f5-3ec6d57b7b60",
   "metadata": {},
   "outputs": [
    {
     "data": {
      "text/html": [
       "<div>\n",
       "<style scoped>\n",
       "    .dataframe tbody tr th:only-of-type {\n",
       "        vertical-align: middle;\n",
       "    }\n",
       "\n",
       "    .dataframe tbody tr th {\n",
       "        vertical-align: top;\n",
       "    }\n",
       "\n",
       "    .dataframe thead th {\n",
       "        text-align: right;\n",
       "    }\n",
       "</style>\n",
       "<table border=\"1\" class=\"dataframe\">\n",
       "  <thead>\n",
       "    <tr style=\"text-align: right;\">\n",
       "      <th></th>\n",
       "      <th>traffic_volume</th>\n",
       "      <th>temp</th>\n",
       "      <th>weekday</th>\n",
       "      <th>hour</th>\n",
       "    </tr>\n",
       "  </thead>\n",
       "  <tbody>\n",
       "    <tr>\n",
       "      <th>count</th>\n",
       "      <td>52215.000000</td>\n",
       "      <td>52215.000000</td>\n",
       "      <td>52215.000000</td>\n",
       "      <td>52215.000000</td>\n",
       "    </tr>\n",
       "    <tr>\n",
       "      <th>mean</th>\n",
       "      <td>3069.927655</td>\n",
       "      <td>282.478451</td>\n",
       "      <td>3.001724</td>\n",
       "      <td>11.501293</td>\n",
       "    </tr>\n",
       "    <tr>\n",
       "      <th>std</th>\n",
       "      <td>1922.241598</td>\n",
       "      <td>13.023235</td>\n",
       "      <td>1.999444</td>\n",
       "      <td>6.922066</td>\n",
       "    </tr>\n",
       "    <tr>\n",
       "      <th>min</th>\n",
       "      <td>0.000000</td>\n",
       "      <td>0.000000</td>\n",
       "      <td>0.000000</td>\n",
       "      <td>0.000000</td>\n",
       "    </tr>\n",
       "    <tr>\n",
       "      <th>25%</th>\n",
       "      <td>1222.898538</td>\n",
       "      <td>273.510000</td>\n",
       "      <td>1.000000</td>\n",
       "      <td>6.000000</td>\n",
       "    </tr>\n",
       "    <tr>\n",
       "      <th>50%</th>\n",
       "      <td>2891.000000</td>\n",
       "      <td>286.410000</td>\n",
       "      <td>3.000000</td>\n",
       "      <td>12.000000</td>\n",
       "    </tr>\n",
       "    <tr>\n",
       "      <th>75%</th>\n",
       "      <td>4775.000000</td>\n",
       "      <td>291.720000</td>\n",
       "      <td>5.000000</td>\n",
       "      <td>18.000000</td>\n",
       "    </tr>\n",
       "    <tr>\n",
       "      <th>max</th>\n",
       "      <td>7280.000000</td>\n",
       "      <td>310.070000</td>\n",
       "      <td>6.000000</td>\n",
       "      <td>23.000000</td>\n",
       "    </tr>\n",
       "  </tbody>\n",
       "</table>\n",
       "</div>"
      ],
      "text/plain": [
       "       traffic_volume          temp       weekday          hour\n",
       "count    52215.000000  52215.000000  52215.000000  52215.000000\n",
       "mean      3069.927655    282.478451      3.001724     11.501293\n",
       "std       1922.241598     13.023235      1.999444      6.922066\n",
       "min          0.000000      0.000000      0.000000      0.000000\n",
       "25%       1222.898538    273.510000      1.000000      6.000000\n",
       "50%       2891.000000    286.410000      3.000000     12.000000\n",
       "75%       4775.000000    291.720000      5.000000     18.000000\n",
       "max       7280.000000    310.070000      6.000000     23.000000"
      ]
     },
     "execution_count": 8,
     "metadata": {},
     "output_type": "execute_result"
    }
   ],
   "source": [
    "train_data.describe()"
   ]
  },
  {
   "cell_type": "markdown",
   "id": "8a514fff-eccd-4b9e-b877-cc3b506fb8b7",
   "metadata": {},
   "source": [
    "Уменьшим количество данных."
   ]
  },
  {
   "cell_type": "code",
   "execution_count": 9,
   "id": "b3c71ed9-fc2e-40bc-8fc1-069102e85da7",
   "metadata": {},
   "outputs": [
    {
     "data": {
      "text/html": [
       "<div>\n",
       "<style scoped>\n",
       "    .dataframe tbody tr th:only-of-type {\n",
       "        vertical-align: middle;\n",
       "    }\n",
       "\n",
       "    .dataframe tbody tr th {\n",
       "        vertical-align: top;\n",
       "    }\n",
       "\n",
       "    .dataframe thead th {\n",
       "        text-align: right;\n",
       "    }\n",
       "</style>\n",
       "<table border=\"1\" class=\"dataframe\">\n",
       "  <thead>\n",
       "    <tr style=\"text-align: right;\">\n",
       "      <th></th>\n",
       "      <th>traffic_volume</th>\n",
       "      <th>temp</th>\n",
       "      <th>weekday</th>\n",
       "      <th>hour</th>\n",
       "    </tr>\n",
       "  </thead>\n",
       "  <tbody>\n",
       "    <tr>\n",
       "      <th>count</th>\n",
       "      <td>3673.000000</td>\n",
       "      <td>3673.000000</td>\n",
       "      <td>3673.000000</td>\n",
       "      <td>3673.000000</td>\n",
       "    </tr>\n",
       "    <tr>\n",
       "      <th>mean</th>\n",
       "      <td>3374.954941</td>\n",
       "      <td>293.155505</td>\n",
       "      <td>3.018786</td>\n",
       "      <td>11.503131</td>\n",
       "    </tr>\n",
       "    <tr>\n",
       "      <th>std</th>\n",
       "      <td>1972.291019</td>\n",
       "      <td>6.489826</td>\n",
       "      <td>1.992340</td>\n",
       "      <td>6.924787</td>\n",
       "    </tr>\n",
       "    <tr>\n",
       "      <th>min</th>\n",
       "      <td>234.000000</td>\n",
       "      <td>268.620000</td>\n",
       "      <td>0.000000</td>\n",
       "      <td>0.000000</td>\n",
       "    </tr>\n",
       "    <tr>\n",
       "      <th>25%</th>\n",
       "      <td>1351.000000</td>\n",
       "      <td>290.140000</td>\n",
       "      <td>1.000000</td>\n",
       "      <td>6.000000</td>\n",
       "    </tr>\n",
       "    <tr>\n",
       "      <th>50%</th>\n",
       "      <td>3568.000000</td>\n",
       "      <td>293.860000</td>\n",
       "      <td>3.000000</td>\n",
       "      <td>12.000000</td>\n",
       "    </tr>\n",
       "    <tr>\n",
       "      <th>75%</th>\n",
       "      <td>4978.000000</td>\n",
       "      <td>297.480000</td>\n",
       "      <td>5.000000</td>\n",
       "      <td>18.000000</td>\n",
       "    </tr>\n",
       "    <tr>\n",
       "      <th>max</th>\n",
       "      <td>7149.000000</td>\n",
       "      <td>310.070000</td>\n",
       "      <td>6.000000</td>\n",
       "      <td>23.000000</td>\n",
       "    </tr>\n",
       "  </tbody>\n",
       "</table>\n",
       "</div>"
      ],
      "text/plain": [
       "       traffic_volume         temp      weekday         hour\n",
       "count     3673.000000  3673.000000  3673.000000  3673.000000\n",
       "mean      3374.954941   293.155505     3.018786    11.503131\n",
       "std       1972.291019     6.489826     1.992340     6.924787\n",
       "min        234.000000   268.620000     0.000000     0.000000\n",
       "25%       1351.000000   290.140000     1.000000     6.000000\n",
       "50%       3568.000000   293.860000     3.000000    12.000000\n",
       "75%       4978.000000   297.480000     5.000000    18.000000\n",
       "max       7149.000000   310.070000     6.000000    23.000000"
      ]
     },
     "execution_count": 9,
     "metadata": {},
     "output_type": "execute_result"
    }
   ],
   "source": [
    "from sklearn.metrics import mean_absolute_error, mean_squared_error\n",
    "\n",
    "# Уменьшим объем данных, используя последние 5 месяцев\n",
    "end_date = train_data.index.max()\n",
    "start_date = end_date - pd.DateOffset(months=5)\n",
    "train_data = train_data.loc[start_date:end_date]\n",
    "train_data.describe()"
   ]
  },
  {
   "cell_type": "code",
   "execution_count": 10,
   "id": "025a6e29-d8f7-49ea-a11f-a81b2d423c65",
   "metadata": {},
   "outputs": [
    {
     "name": "stdout",
     "output_type": "stream",
     "text": [
      "MAE baseline: 197.80208333333334\n",
      "MSE baseline: 84061.18715134576\n"
     ]
    }
   ],
   "source": [
    "# Baseline прогноз\n",
    "mean_traffic = train_data.groupby(['weekday', 'hour'])['traffic_volume'].mean()\n",
    "\n",
    "# Прогноз на тестовых данных\n",
    "test_data.loc[:, 'predicted'] = test_data.apply(lambda row: mean_traffic[row['weekday'], row['hour']], axis=1)\n",
    "\n",
    "# Оценка качества baseline прогноза\n",
    "mae_baseline = mean_absolute_error(test_data['traffic_volume'], test_data['predicted'])\n",
    "mse_baseline = mean_squared_error(test_data['traffic_volume'], test_data['predicted'])\n",
    "print(f'MAE baseline: {mae_baseline}')\n",
    "print(f'MSE baseline: {mse_baseline}')"
   ]
  },
  {
   "cell_type": "markdown",
   "id": "9f42b71e-680c-4ba2-98c8-0fbba357dab1",
   "metadata": {},
   "source": [
    "<b>Построение моделей и улучшение прогноза</b>"
   ]
  },
  {
   "cell_type": "markdown",
   "id": "d3536e5e-6c4e-4c93-bec5-30ec910ffd7c",
   "metadata": {},
   "source": [
    "Попробуем построить модели SARIMA и другие, чтобы улучшить качество прогноза."
   ]
  },
  {
   "cell_type": "markdown",
   "id": "9877cfaa-2d95-425a-89df-156cfa44d0fd",
   "metadata": {},
   "source": [
    "<b>SARIMA</b>"
   ]
  },
  {
   "cell_type": "code",
   "execution_count": 11,
   "id": "caae43c2-6fd2-4ab2-b978-011a70ebad24",
   "metadata": {},
   "outputs": [
    {
     "name": "stderr",
     "output_type": "stream",
     "text": [
      "C:\\Users\\AADementev\\AppData\\Roaming\\Python\\Python311\\site-packages\\statsmodels\\tsa\\statespace\\sarimax.py:966: UserWarning: Non-stationary starting autoregressive parameters found. Using zeros as starting parameters.\n",
      "  warn('Non-stationary starting autoregressive parameters'\n",
      "C:\\Users\\AADementev\\AppData\\Roaming\\Python\\Python311\\site-packages\\statsmodels\\tsa\\statespace\\sarimax.py:978: UserWarning: Non-invertible starting MA parameters found. Using zeros as starting parameters.\n",
      "  warn('Non-invertible starting MA parameters found.'\n"
     ]
    },
    {
     "name": "stdout",
     "output_type": "stream",
     "text": [
      "MAE SARIMA: 191.68010882356975\n",
      "MSE SARIMA: 89107.75253294202\n"
     ]
    }
   ],
   "source": [
    "from statsmodels.tsa.statespace.sarimax import SARIMAX\n",
    "\n",
    "# SARIMA модель с недельной сезонностью\n",
    "sarima_model = SARIMAX(train_data['traffic_volume'], order=(1, 1, 1), seasonal_order=(1, 1, 1, 24*7))\n",
    "sarima_fit = sarima_model.fit(disp=False)\n",
    "\n",
    "# Прогноз на тестовый период\n",
    "sarima_pred = sarima_fit.get_prediction(start=test_data.index[0], end=test_data.index[-1])\n",
    "sarima_forecast = sarima_pred.predicted_mean\n",
    "\n",
    "# Оценка качества SARIMA прогноза\n",
    "mae_sarima = mean_absolute_error(test_data['traffic_volume'], sarima_forecast)\n",
    "mse_sarima = mean_squared_error(test_data['traffic_volume'], sarima_forecast)\n",
    "print(f'MAE SARIMA: {mae_sarima}')\n",
    "print(f'MSE SARIMA: {mse_sarima}')"
   ]
  },
  {
   "cell_type": "markdown",
   "id": "4c5715cb-54dd-4191-933a-6e818128d28d",
   "metadata": {},
   "source": [
    "<b>LSTM</b>"
   ]
  },
  {
   "cell_type": "code",
   "execution_count": 13,
   "id": "4a189f2c-0482-4e36-a5ec-4ae054a4aee4",
   "metadata": {},
   "outputs": [
    {
     "name": "stdout",
     "output_type": "stream",
     "text": [
      "Epoch 1/10\n"
     ]
    },
    {
     "name": "stderr",
     "output_type": "stream",
     "text": [
      "C:\\Users\\AADementev\\AppData\\Roaming\\Python\\Python311\\site-packages\\keras\\src\\layers\\rnn\\rnn.py:204: UserWarning: Do not pass an `input_shape`/`input_dim` argument to a layer. When using Sequential models, prefer using an `Input(shape)` object as the first layer in the model instead.\n",
      "  super().__init__(**kwargs)\n"
     ]
    },
    {
     "name": "stdout",
     "output_type": "stream",
     "text": [
      "\u001b[1m3648/3648\u001b[0m \u001b[32m━━━━━━━━━━━━━━━━━━━━\u001b[0m\u001b[37m\u001b[0m \u001b[1m21s\u001b[0m 5ms/step - loss: 0.0320\n",
      "Epoch 2/10\n",
      "\u001b[1m3648/3648\u001b[0m \u001b[32m━━━━━━━━━━━━━━━━━━━━\u001b[0m\u001b[37m\u001b[0m \u001b[1m20s\u001b[0m 5ms/step - loss: 0.0040\n",
      "Epoch 3/10\n",
      "\u001b[1m3648/3648\u001b[0m \u001b[32m━━━━━━━━━━━━━━━━━━━━\u001b[0m\u001b[37m\u001b[0m \u001b[1m20s\u001b[0m 5ms/step - loss: 0.0029\n",
      "Epoch 4/10\n",
      "\u001b[1m3648/3648\u001b[0m \u001b[32m━━━━━━━━━━━━━━━━━━━━\u001b[0m\u001b[37m\u001b[0m \u001b[1m18s\u001b[0m 5ms/step - loss: 0.0029\n",
      "Epoch 5/10\n",
      "\u001b[1m3648/3648\u001b[0m \u001b[32m━━━━━━━━━━━━━━━━━━━━\u001b[0m\u001b[37m\u001b[0m \u001b[1m18s\u001b[0m 5ms/step - loss: 0.0024\n",
      "Epoch 6/10\n",
      "\u001b[1m3648/3648\u001b[0m \u001b[32m━━━━━━━━━━━━━━━━━━━━\u001b[0m\u001b[37m\u001b[0m \u001b[1m18s\u001b[0m 5ms/step - loss: 0.0020\n",
      "Epoch 7/10\n",
      "\u001b[1m3648/3648\u001b[0m \u001b[32m━━━━━━━━━━━━━━━━━━━━\u001b[0m\u001b[37m\u001b[0m \u001b[1m17s\u001b[0m 5ms/step - loss: 0.0019\n",
      "Epoch 8/10\n",
      "\u001b[1m3648/3648\u001b[0m \u001b[32m━━━━━━━━━━━━━━━━━━━━\u001b[0m\u001b[37m\u001b[0m \u001b[1m18s\u001b[0m 5ms/step - loss: 0.0019\n",
      "Epoch 9/10\n",
      "\u001b[1m3648/3648\u001b[0m \u001b[32m━━━━━━━━━━━━━━━━━━━━\u001b[0m\u001b[37m\u001b[0m \u001b[1m19s\u001b[0m 5ms/step - loss: 0.0017\n",
      "Epoch 10/10\n",
      "\u001b[1m3648/3648\u001b[0m \u001b[32m━━━━━━━━━━━━━━━━━━━━\u001b[0m\u001b[37m\u001b[0m \u001b[1m19s\u001b[0m 5ms/step - loss: 0.0016\n",
      "\u001b[1m10/10\u001b[0m \u001b[32m━━━━━━━━━━━━━━━━━━━━\u001b[0m\u001b[37m\u001b[0m \u001b[1m0s\u001b[0m 25ms/step\n",
      "MAE LSTM: 587.0785975318246\n",
      "MSE LSTM: 680221.1207424809\n"
     ]
    }
   ],
   "source": [
    "import numpy as np\n",
    "import tensorflow as tf\n",
    "from sklearn.preprocessing import MinMaxScaler\n",
    "\n",
    "# Подготовка данных для LSTM\n",
    "scaler = MinMaxScaler()\n",
    "scaled_train_data = scaler.fit_transform(train_data[['traffic_volume']])\n",
    "\n",
    "# Формирование данных для обучения LSTM\n",
    "def create_dataset(data, time_step=1):\n",
    "    X, y = [], []\n",
    "    for i in range(len(data) - time_step - 1):\n",
    "        a = data[i:(i + time_step), 0]\n",
    "        X.append(a)\n",
    "        y.append(data[i + time_step, 0])\n",
    "    return np.array(X), np.array(y)\n",
    "\n",
    "time_step = 24\n",
    "X_train, y_train = create_dataset(scaled_train_data, time_step)\n",
    "\n",
    "# Преобразование формы данных для LSTM [samples, time steps, features]\n",
    "X_train = X_train.reshape(X_train.shape[0], X_train.shape[1], 1)\n",
    "\n",
    "# Создание модели LSTM\n",
    "model = tf.keras.models.Sequential([\n",
    "    tf.keras.layers.LSTM(50, return_sequences=True, input_shape=(time_step, 1)),\n",
    "    tf.keras.layers.LSTM(50, return_sequences=False),\n",
    "    tf.keras.layers.Dense(1)\n",
    "])\n",
    "\n",
    "model.compile(optimizer='adam', loss='mean_squared_error')\n",
    "model.fit(X_train, y_train, epochs=10, batch_size=1, verbose=1)\n",
    "\n",
    "# Прогноз на тестовом периоде\n",
    "scaled_test_data = scaler.transform(test_data[['traffic_volume']])\n",
    "X_test, y_test = create_dataset(scaled_test_data, time_step)\n",
    "X_test = X_test.reshape(X_test.shape[0], X_test.shape[1], 1)\n",
    "\n",
    "lstm_forecast = model.predict(X_test)\n",
    "lstm_forecast = scaler.inverse_transform(lstm_forecast)\n",
    "\n",
    "# Оценка качества прогноза LSTM\n",
    "mae_lstm = mean_absolute_error(test_data['traffic_volume'][time_step+1:], lstm_forecast)\n",
    "mse_lstm = mean_squared_error(test_data['traffic_volume'][time_step+1:], lstm_forecast)\n",
    "print(f'MAE LSTM: {mae_lstm}')\n",
    "print(f'MSE LSTM: {mse_lstm}')"
   ]
  },
  {
   "cell_type": "markdown",
   "id": "e3e32635-681f-4cd6-9168-fd7cb6aee75c",
   "metadata": {},
   "source": [
    "<b>Xgboost</b>"
   ]
  },
  {
   "cell_type": "code",
   "execution_count": 14,
   "id": "1bc34907-5567-4829-ba9d-c5f1d3f15179",
   "metadata": {},
   "outputs": [],
   "source": [
    "# Преобразуем переменную holiday в категориальный тип\n",
    "train_data['holiday'] = train_data['holiday'].astype('category').cat.codes\n",
    "test_data['holiday'] = test_data['holiday'].astype('category').cat.codes"
   ]
  },
  {
   "cell_type": "code",
   "execution_count": 15,
   "id": "7bbaa125-c93f-4a50-b1a3-ab711ed168e6",
   "metadata": {},
   "outputs": [
    {
     "name": "stdout",
     "output_type": "stream",
     "text": [
      "0 0\n"
     ]
    }
   ],
   "source": [
    "# Разделим данные на признаки и целевую переменную\n",
    "X_train = train_data.drop(columns=['traffic_volume'])\n",
    "y_train = train_data['traffic_volume']\n",
    "X_test = test_data.drop(columns=['traffic_volume', 'predicted'])\n",
    "y_test = test_data['traffic_volume']\n",
    "\n",
    "# Убедимся, что индексы совпадают\n",
    "X_test = X_test.loc[y_test.index]\n",
    "\n",
    "# Убедимся, что не осталось пропущенных значений\n",
    "print(X_train.isnull().sum().sum(), X_test.isnull().sum().sum())"
   ]
  },
  {
   "cell_type": "code",
   "execution_count": 16,
   "id": "599469f2-6f32-478c-afff-1706ed7f242a",
   "metadata": {},
   "outputs": [
    {
     "name": "stdout",
     "output_type": "stream",
     "text": [
      "MAE XGBoost: 244.06194105602447\n",
      "MSE XGBoost: 107546.29582936384\n"
     ]
    }
   ],
   "source": [
    "from xgboost import XGBRegressor\n",
    "\n",
    "# Обучение модели XGBoost\n",
    "xgb_model = XGBRegressor(n_estimators=100, learning_rate=0.1, max_depth=5, enable_categorical=True)\n",
    "xgb_model.fit(X_train, y_train)\n",
    "\n",
    "# Прогноз на тестовом периоде\n",
    "xgb_forecast = xgb_model.predict(X_test)\n",
    "\n",
    "# Оценка качества прогноза XGBoost\n",
    "mae_xgb = mean_absolute_error(y_test, xgb_forecast)\n",
    "mse_xgb = mean_squared_error(y_test, xgb_forecast)\n",
    "print(f'MAE XGBoost: {mae_xgb}')\n",
    "print(f'MSE XGBoost: {mse_xgb}')"
   ]
  },
  {
   "cell_type": "markdown",
   "id": "d3038c56-aca7-4f7b-b93e-5adeafec0173",
   "metadata": {},
   "source": [
    "<b>Random Forest</b>"
   ]
  },
  {
   "cell_type": "code",
   "execution_count": 17,
   "id": "5730f32f-894f-409f-a3fe-01ba848986ec",
   "metadata": {},
   "outputs": [
    {
     "name": "stdout",
     "output_type": "stream",
     "text": [
      "MAE Random Forest: 234.97314693057862\n",
      "MSE Random Forest: 104894.98686856625\n"
     ]
    }
   ],
   "source": [
    "from sklearn.ensemble import RandomForestRegressor\n",
    "# Обучение модели Random Forest\n",
    "rf_model = RandomForestRegressor(n_estimators=100, max_depth=10, random_state=42)\n",
    "rf_model.fit(X_train, y_train)\n",
    "\n",
    "# Прогноз на тестовом периоде\n",
    "rf_forecast = rf_model.predict(X_test)\n",
    "\n",
    "# Оценка качества прогноза Random Forest\n",
    "mae_rf = mean_absolute_error(y_test, rf_forecast)\n",
    "mse_rf = mean_squared_error(y_test, rf_forecast)\n",
    "print(f'MAE Random Forest: {mae_rf}')\n",
    "print(f'MSE Random Forest: {mse_rf}')"
   ]
  },
  {
   "cell_type": "code",
   "execution_count": 20,
   "id": "fbc90e79-e47c-48ec-9a6a-8cbaa35e2423",
   "metadata": {},
   "outputs": [],
   "source": [
    "# Полученные метрики\n",
    "metrics = {\n",
    "    'Model': ['Baseline', 'SARIMA', 'LSTM', 'XGBoost', 'Random Forest'],\n",
    "    'MAE': [mae_baseline, mae_sarima, mae_lstm, mae_xgb, mae_rf],\n",
    "    'MSE': [mse_baseline, mse_sarima, mse_lstm, mse_xgb, mse_rf]\n",
    "}\n",
    "\n",
    "# Создание датафрейма\n",
    "metrics_df = pd.DataFrame(metrics)"
   ]
  },
  {
   "cell_type": "code",
   "execution_count": 22,
   "id": "81c0cf5c-80ea-4ecf-a77c-9c0e993d30a1",
   "metadata": {},
   "outputs": [
    {
     "data": {
      "text/html": [
       "<div>\n",
       "<style scoped>\n",
       "    .dataframe tbody tr th:only-of-type {\n",
       "        vertical-align: middle;\n",
       "    }\n",
       "\n",
       "    .dataframe tbody tr th {\n",
       "        vertical-align: top;\n",
       "    }\n",
       "\n",
       "    .dataframe thead th {\n",
       "        text-align: right;\n",
       "    }\n",
       "</style>\n",
       "<table border=\"1\" class=\"dataframe\">\n",
       "  <thead>\n",
       "    <tr style=\"text-align: right;\">\n",
       "      <th></th>\n",
       "      <th>Model</th>\n",
       "      <th>MAE</th>\n",
       "      <th>MSE</th>\n",
       "    </tr>\n",
       "  </thead>\n",
       "  <tbody>\n",
       "    <tr>\n",
       "      <th>0</th>\n",
       "      <td>Baseline</td>\n",
       "      <td>197.802083</td>\n",
       "      <td>84061.187151</td>\n",
       "    </tr>\n",
       "    <tr>\n",
       "      <th>1</th>\n",
       "      <td>SARIMA</td>\n",
       "      <td>191.680109</td>\n",
       "      <td>89107.752533</td>\n",
       "    </tr>\n",
       "    <tr>\n",
       "      <th>2</th>\n",
       "      <td>LSTM</td>\n",
       "      <td>587.078598</td>\n",
       "      <td>680221.120742</td>\n",
       "    </tr>\n",
       "    <tr>\n",
       "      <th>3</th>\n",
       "      <td>XGBoost</td>\n",
       "      <td>244.061941</td>\n",
       "      <td>107546.295829</td>\n",
       "    </tr>\n",
       "    <tr>\n",
       "      <th>4</th>\n",
       "      <td>Random Forest</td>\n",
       "      <td>234.973147</td>\n",
       "      <td>104894.986869</td>\n",
       "    </tr>\n",
       "  </tbody>\n",
       "</table>\n",
       "</div>"
      ],
      "text/plain": [
       "           Model         MAE            MSE\n",
       "0       Baseline  197.802083   84061.187151\n",
       "1         SARIMA  191.680109   89107.752533\n",
       "2           LSTM  587.078598  680221.120742\n",
       "3        XGBoost  244.061941  107546.295829\n",
       "4  Random Forest  234.973147  104894.986869"
      ]
     },
     "execution_count": 22,
     "metadata": {},
     "output_type": "execute_result"
    }
   ],
   "source": [
    "metrics_df"
   ]
  },
  {
   "cell_type": "markdown",
   "id": "f0c58bfe-9b6d-4ef4-a7cd-bdd9139a561f",
   "metadata": {},
   "source": [
    "<b>Итог.</b>\n",
    "\n",
    "<b>SARIMA модель:</b>\n",
    "* SARIMA модель показала наилучший результат среди всех моделей с точки зрения MAE (191.68), превосходя baseline (197.80). Это свидетельствует о её способности точнее предсказывать значения.\n",
    "* Однако MSE для SARIMA (89107.75) выше, чем у baseline (84061.19), что указывает на возможные большие ошибки для некоторых прогнозов.\n",
    "\n",
    "<b>LSTM модель:</b>\n",
    "* LSTM модель показала значительно худшие результаты по обоим показателям (MAE: 587.08 и MSE: 680221.12), что говорит о её недостаточной эффективности для этой задачи. Возможно, модель недообучена или переобучена.\n",
    "\n",
    "<b>XGBoost и Random Forest модели:</b>\n",
    "* Оба метода продемонстрировали схожие результаты, с XGBoost (MAE: 244.06, MSE: 107546.30) и Random Forest (MAE: 234.97, MSE: 104895.00).\n",
    "* Эти модели показали результаты хуже по сравнению с baseline, указывая на то, что они не смогли уловить зависимость в данных так же хорошо, как SARIMA или baseline."
   ]
  },
  {
   "cell_type": "markdown",
   "id": "5e2628aa-1819-4e28-a970-cde681834ec6",
   "metadata": {},
   "source": [
    "<b>Выводы.</b>\n",
    "\n",
    "<b>SARIMA модель:</b>\n",
    "* SARIMA демонстрирует лучшие результаты по MAE и может быть использована как основной метод прогнозирования. Однако стоит обратить внимание на большие ошибки в некоторых случаях, что увеличивает MSE.\n",
    "\n",
    "<b>LSTM модель:</b>\n",
    "* LSTM модель показала очень плохие результаты, и возможно, требуется её перенастройка или пересмотр архитектуры. Увеличение объема данных для обучения и улучшение гиперпараметров может помочь.\n",
    "\n",
    "<b>XGBoost и Random Forest модели:</b>\n",
    "* Эти модели также можно улучшить путём настройки гиперпараметров, добавления более значимых фичей или использования более сложных ансамблей моделей."
   ]
  }
 ],
 "metadata": {
  "kernelspec": {
   "display_name": "Python 3 (ipykernel)",
   "language": "python",
   "name": "python3"
  },
  "language_info": {
   "codemirror_mode": {
    "name": "ipython",
    "version": 3
   },
   "file_extension": ".py",
   "mimetype": "text/x-python",
   "name": "python",
   "nbconvert_exporter": "python",
   "pygments_lexer": "ipython3",
   "version": "3.11.9"
  }
 },
 "nbformat": 4,
 "nbformat_minor": 5
}
